{
 "cells": [
  {
   "cell_type": "code",
   "execution_count": 3,
   "id": "68411b87",
   "metadata": {},
   "outputs": [],
   "source": [
    "# Import necessary libraries\n",
    "import os\n",
    "import sys\n",
    "import numpy as np\n",
    "import matplotlib.pyplot as plt\n",
    "import pandas as pd\n",
    "import seaborn as sns\n",
    "import plotly.express as px\n",
    "import plotly.io\n",
    "import plotly.graph_objects as go\n",
    "from plotly.subplots import make_subplots"
   ]
  },
  {
   "cell_type": "code",
   "execution_count": 4,
   "id": "88250648",
   "metadata": {},
   "outputs": [
    {
     "data": {
      "text/plain": [
       "Index(['week', 'year', 'quarter', 'month', 'week_number', 'sku',\n",
       "       'functionality', 'functionality_code', 'color', 'color_code',\n",
       "       'feat_main_page', 'feat_main_flag', 'vendor', 'weekly_sales', 'price',\n",
       "       'revenue'],\n",
       "      dtype='object')"
      ]
     },
     "execution_count": 4,
     "metadata": {},
     "output_type": "execute_result"
    }
   ],
   "source": [
    "# Load the dataset\n",
    "df = pd.read_csv(r'C:\\Users\\brand\\Downloads\\Cleaned_Micro Center_Dataset (1).csv', parse_dates=['week'])\n",
    "df.columns"
   ]
  },
  {
   "cell_type": "code",
   "execution_count": 5,
   "id": "08fbdcc7",
   "metadata": {},
   "outputs": [
    {
     "data": {
      "text/plain": [
       "week                  datetime64[ns]\n",
       "year                           int64\n",
       "quarter                        int64\n",
       "month                          int64\n",
       "week_number                    int64\n",
       "sku                            int64\n",
       "functionality                 object\n",
       "functionality_code           float64\n",
       "color                         object\n",
       "color_code                     int64\n",
       "feat_main_page                  bool\n",
       "feat_main_flag                 int64\n",
       "vendor                         int64\n",
       "weekly_sales                   int64\n",
       "price                        float64\n",
       "revenue                      float64\n",
       "dtype: object"
      ]
     },
     "execution_count": 5,
     "metadata": {},
     "output_type": "execute_result"
    }
   ],
   "source": [
    "# View data types of the columns\n",
    "df.dtypes"
   ]
  },
  {
   "cell_type": "code",
   "execution_count": 6,
   "id": "b9e9820b",
   "metadata": {},
   "outputs": [],
   "source": [
    "# Week coverted to datetime and drop columns fucntionality and color.\n",
    "df['week'] = pd.to_datetime(df['week'])\n",
    "df.drop(columns=['functionality', 'color', 'feat_main_page'], inplace=True)\n"
   ]
  },
  {
   "cell_type": "code",
   "execution_count": 7,
   "id": "8c328689",
   "metadata": {},
   "outputs": [
    {
     "name": "stdout",
     "output_type": "stream",
     "text": [
      "<class 'pandas.core.frame.DataFrame'>\n",
      "RangeIndex: 4400 entries, 0 to 4399\n",
      "Data columns (total 13 columns):\n",
      " #   Column              Non-Null Count  Dtype         \n",
      "---  ------              --------------  -----         \n",
      " 0   week                4400 non-null   datetime64[ns]\n",
      " 1   year                4400 non-null   int64         \n",
      " 2   quarter             4400 non-null   int64         \n",
      " 3   month               4400 non-null   int64         \n",
      " 4   week_number         4400 non-null   int64         \n",
      " 5   sku                 4400 non-null   int64         \n",
      " 6   functionality_code  4400 non-null   int64         \n",
      " 7   color_code          4400 non-null   int64         \n",
      " 8   feat_main_flag      4400 non-null   int64         \n",
      " 9   vendor              4400 non-null   int64         \n",
      " 10  weekly_sales        4400 non-null   int64         \n",
      " 11  price               4400 non-null   float64       \n",
      " 12  revenue             4400 non-null   float64       \n",
      "dtypes: datetime64[ns](1), float64(2), int64(10)\n",
      "memory usage: 447.0 KB\n"
     ]
    }
   ],
   "source": [
    "# Replace missing values in 'functionality_code' with the integer 10\n",
    "df['functionality_code'] = df['functionality_code'].fillna(10).astype(int)\n",
    "\n",
    "# Confirm the replacement\n",
    "df['functionality_code'].isna().sum(), df['functionality_code'].dtype\n",
    "\n",
    "# Check null and dtypes of the columns\n",
    "df.info()"
   ]
  },
  {
   "cell_type": "code",
   "execution_count": 8,
   "id": "7b38914e",
   "metadata": {},
   "outputs": [],
   "source": [
    "# Convert feat_main_flag to a more readable format\n",
    "df['Promotion'] = df['feat_main_flag'].map({0: 'No Promo', 1: 'Promo'})"
   ]
  },
  {
   "cell_type": "code",
   "execution_count": 9,
   "id": "2bb4e60d",
   "metadata": {},
   "outputs": [
    {
     "data": {
      "application/vnd.plotly.v1+json": {
       "config": {
        "plotlyServerURL": "https://plot.ly"
       },
       "data": [
        {
         "alignmentgroup": "True",
         "hovertemplate": "Promotion=%{x}<br>Weekly Sales Volume=%{y}<extra></extra>",
         "legendgroup": "Promo",
         "marker": {
          "color": "#636efa"
         },
         "name": "Promo",
         "notched": false,
         "offsetgroup": "Promo",
         "orientation": "v",
         "showlegend": true,
         "type": "box",
         "x": [
          "Promo",
          "Promo",
          "Promo",
          "Promo",
          "Promo",
          "Promo",
          "Promo",
          "Promo",
          "Promo",
          "Promo",
          "Promo",
          "Promo",
          "Promo",
          "Promo",
          "Promo",
          "Promo",
          "Promo",
          "Promo",
          "Promo",
          "Promo",
          "Promo",
          "Promo",
          "Promo",
          "Promo",
          "Promo",
          "Promo",
          "Promo",
          "Promo",
          "Promo",
          "Promo",
          "Promo",
          "Promo",
          "Promo",
          "Promo",
          "Promo",
          "Promo",
          "Promo",
          "Promo",
          "Promo",
          "Promo",
          "Promo",
          "Promo",
          "Promo",
          "Promo",
          "Promo",
          "Promo",
          "Promo",
          "Promo",
          "Promo",
          "Promo",
          "Promo",
          "Promo",
          "Promo",
          "Promo",
          "Promo",
          "Promo",
          "Promo",
          "Promo",
          "Promo",
          "Promo",
          "Promo",
          "Promo",
          "Promo",
          "Promo",
          "Promo",
          "Promo",
          "Promo",
          "Promo",
          "Promo",
          "Promo",
          "Promo",
          "Promo",
          "Promo",
          "Promo",
          "Promo",
          "Promo",
          "Promo",
          "Promo",
          "Promo",
          "Promo",
          "Promo",
          "Promo",
          "Promo",
          "Promo",
          "Promo",
          "Promo",
          "Promo",
          "Promo",
          "Promo",
          "Promo",
          "Promo",
          "Promo",
          "Promo",
          "Promo",
          "Promo",
          "Promo",
          "Promo",
          "Promo",
          "Promo",
          "Promo",
          "Promo",
          "Promo",
          "Promo",
          "Promo",
          "Promo",
          "Promo",
          "Promo",
          "Promo",
          "Promo",
          "Promo",
          "Promo",
          "Promo",
          "Promo",
          "Promo",
          "Promo",
          "Promo",
          "Promo",
          "Promo",
          "Promo",
          "Promo",
          "Promo",
          "Promo",
          "Promo",
          "Promo",
          "Promo",
          "Promo",
          "Promo",
          "Promo",
          "Promo",
          "Promo",
          "Promo",
          "Promo",
          "Promo",
          "Promo",
          "Promo",
          "Promo",
          "Promo",
          "Promo",
          "Promo",
          "Promo",
          "Promo",
          "Promo",
          "Promo",
          "Promo",
          "Promo",
          "Promo",
          "Promo",
          "Promo",
          "Promo",
          "Promo",
          "Promo",
          "Promo",
          "Promo",
          "Promo",
          "Promo",
          "Promo",
          "Promo",
          "Promo",
          "Promo",
          "Promo",
          "Promo",
          "Promo",
          "Promo",
          "Promo",
          "Promo",
          "Promo",
          "Promo",
          "Promo",
          "Promo",
          "Promo",
          "Promo",
          "Promo",
          "Promo",
          "Promo",
          "Promo",
          "Promo",
          "Promo",
          "Promo",
          "Promo",
          "Promo",
          "Promo",
          "Promo",
          "Promo",
          "Promo",
          "Promo",
          "Promo",
          "Promo",
          "Promo",
          "Promo",
          "Promo",
          "Promo",
          "Promo",
          "Promo",
          "Promo",
          "Promo",
          "Promo",
          "Promo",
          "Promo",
          "Promo",
          "Promo",
          "Promo",
          "Promo",
          "Promo",
          "Promo",
          "Promo",
          "Promo",
          "Promo",
          "Promo",
          "Promo",
          "Promo",
          "Promo",
          "Promo",
          "Promo",
          "Promo",
          "Promo",
          "Promo",
          "Promo",
          "Promo",
          "Promo",
          "Promo",
          "Promo",
          "Promo",
          "Promo",
          "Promo",
          "Promo",
          "Promo",
          "Promo",
          "Promo",
          "Promo",
          "Promo",
          "Promo",
          "Promo",
          "Promo",
          "Promo",
          "Promo",
          "Promo",
          "Promo",
          "Promo",
          "Promo",
          "Promo",
          "Promo",
          "Promo",
          "Promo",
          "Promo",
          "Promo",
          "Promo",
          "Promo",
          "Promo",
          "Promo",
          "Promo",
          "Promo",
          "Promo",
          "Promo",
          "Promo",
          "Promo",
          "Promo",
          "Promo",
          "Promo",
          "Promo",
          "Promo",
          "Promo",
          "Promo",
          "Promo",
          "Promo",
          "Promo",
          "Promo",
          "Promo",
          "Promo",
          "Promo",
          "Promo",
          "Promo",
          "Promo",
          "Promo",
          "Promo",
          "Promo",
          "Promo",
          "Promo",
          "Promo",
          "Promo",
          "Promo",
          "Promo",
          "Promo",
          "Promo",
          "Promo",
          "Promo",
          "Promo",
          "Promo",
          "Promo",
          "Promo",
          "Promo",
          "Promo",
          "Promo",
          "Promo",
          "Promo",
          "Promo",
          "Promo",
          "Promo",
          "Promo",
          "Promo",
          "Promo",
          "Promo",
          "Promo",
          "Promo",
          "Promo",
          "Promo",
          "Promo",
          "Promo",
          "Promo",
          "Promo",
          "Promo",
          "Promo",
          "Promo",
          "Promo",
          "Promo",
          "Promo",
          "Promo",
          "Promo",
          "Promo",
          "Promo",
          "Promo",
          "Promo",
          "Promo",
          "Promo",
          "Promo",
          "Promo",
          "Promo",
          "Promo",
          "Promo",
          "Promo",
          "Promo",
          "Promo",
          "Promo",
          "Promo",
          "Promo",
          "Promo",
          "Promo",
          "Promo",
          "Promo",
          "Promo",
          "Promo",
          "Promo",
          "Promo",
          "Promo",
          "Promo",
          "Promo",
          "Promo",
          "Promo",
          "Promo",
          "Promo",
          "Promo",
          "Promo",
          "Promo",
          "Promo",
          "Promo",
          "Promo",
          "Promo",
          "Promo",
          "Promo",
          "Promo",
          "Promo",
          "Promo",
          "Promo",
          "Promo",
          "Promo",
          "Promo",
          "Promo",
          "Promo",
          "Promo",
          "Promo",
          "Promo",
          "Promo",
          "Promo",
          "Promo",
          "Promo",
          "Promo",
          "Promo",
          "Promo",
          "Promo",
          "Promo",
          "Promo",
          "Promo",
          "Promo",
          "Promo",
          "Promo",
          "Promo",
          "Promo",
          "Promo",
          "Promo",
          "Promo",
          "Promo",
          "Promo",
          "Promo",
          "Promo",
          "Promo",
          "Promo",
          "Promo",
          "Promo",
          "Promo",
          "Promo",
          "Promo",
          "Promo",
          "Promo",
          "Promo",
          "Promo",
          "Promo",
          "Promo",
          "Promo",
          "Promo",
          "Promo",
          "Promo",
          "Promo",
          "Promo",
          "Promo",
          "Promo",
          "Promo",
          "Promo",
          "Promo",
          "Promo",
          "Promo",
          "Promo",
          "Promo",
          "Promo",
          "Promo",
          "Promo",
          "Promo",
          "Promo",
          "Promo",
          "Promo",
          "Promo",
          "Promo",
          "Promo",
          "Promo",
          "Promo",
          "Promo",
          "Promo",
          "Promo",
          "Promo",
          "Promo",
          "Promo",
          "Promo",
          "Promo",
          "Promo",
          "Promo",
          "Promo",
          "Promo",
          "Promo",
          "Promo",
          "Promo",
          "Promo",
          "Promo",
          "Promo",
          "Promo",
          "Promo",
          "Promo",
          "Promo",
          "Promo",
          "Promo",
          "Promo",
          "Promo",
          "Promo",
          "Promo",
          "Promo",
          "Promo",
          "Promo",
          "Promo",
          "Promo",
          "Promo",
          "Promo",
          "Promo",
          "Promo",
          "Promo",
          "Promo",
          "Promo",
          "Promo",
          "Promo",
          "Promo",
          "Promo",
          "Promo",
          "Promo",
          "Promo",
          "Promo",
          "Promo",
          "Promo",
          "Promo",
          "Promo",
          "Promo",
          "Promo",
          "Promo",
          "Promo",
          "Promo",
          "Promo",
          "Promo",
          "Promo",
          "Promo",
          "Promo",
          "Promo",
          "Promo",
          "Promo",
          "Promo",
          "Promo",
          "Promo",
          "Promo",
          "Promo",
          "Promo",
          "Promo",
          "Promo",
          "Promo",
          "Promo",
          "Promo",
          "Promo",
          "Promo",
          "Promo",
          "Promo",
          "Promo",
          "Promo",
          "Promo",
          "Promo",
          "Promo",
          "Promo",
          "Promo",
          "Promo",
          "Promo",
          "Promo",
          "Promo",
          "Promo",
          "Promo",
          "Promo",
          "Promo",
          "Promo",
          "Promo",
          "Promo",
          "Promo",
          "Promo",
          "Promo",
          "Promo",
          "Promo",
          "Promo",
          "Promo",
          "Promo",
          "Promo",
          "Promo",
          "Promo",
          "Promo",
          "Promo",
          "Promo",
          "Promo",
          "Promo",
          "Promo",
          "Promo",
          "Promo",
          "Promo",
          "Promo",
          "Promo",
          "Promo",
          "Promo",
          "Promo",
          "Promo",
          "Promo",
          "Promo",
          "Promo",
          "Promo",
          "Promo",
          "Promo",
          "Promo",
          "Promo",
          "Promo",
          "Promo",
          "Promo",
          "Promo",
          "Promo",
          "Promo",
          "Promo",
          "Promo",
          "Promo",
          "Promo",
          "Promo",
          "Promo",
          "Promo",
          "Promo",
          "Promo",
          "Promo",
          "Promo",
          "Promo",
          "Promo",
          "Promo",
          "Promo",
          "Promo",
          "Promo",
          "Promo",
          "Promo",
          "Promo",
          "Promo",
          "Promo",
          "Promo",
          "Promo",
          "Promo",
          "Promo",
          "Promo",
          "Promo",
          "Promo",
          "Promo",
          "Promo",
          "Promo",
          "Promo",
          "Promo",
          "Promo",
          "Promo",
          "Promo",
          "Promo",
          "Promo",
          "Promo",
          "Promo",
          "Promo",
          "Promo",
          "Promo",
          "Promo",
          "Promo",
          "Promo",
          "Promo",
          "Promo",
          "Promo",
          "Promo",
          "Promo",
          "Promo",
          "Promo",
          "Promo",
          "Promo",
          "Promo",
          "Promo",
          "Promo",
          "Promo",
          "Promo",
          "Promo",
          "Promo",
          "Promo",
          "Promo",
          "Promo",
          "Promo",
          "Promo",
          "Promo",
          "Promo",
          "Promo",
          "Promo",
          "Promo",
          "Promo",
          "Promo",
          "Promo",
          "Promo",
          "Promo",
          "Promo",
          "Promo",
          "Promo",
          "Promo",
          "Promo",
          "Promo",
          "Promo",
          "Promo",
          "Promo",
          "Promo",
          "Promo",
          "Promo",
          "Promo",
          "Promo",
          "Promo",
          "Promo",
          "Promo",
          "Promo",
          "Promo",
          "Promo",
          "Promo",
          "Promo",
          "Promo",
          "Promo",
          "Promo",
          "Promo",
          "Promo",
          "Promo",
          "Promo",
          "Promo",
          "Promo",
          "Promo",
          "Promo",
          "Promo",
          "Promo",
          "Promo",
          "Promo",
          "Promo",
          "Promo",
          "Promo",
          "Promo",
          "Promo",
          "Promo",
          "Promo",
          "Promo",
          "Promo",
          "Promo",
          "Promo",
          "Promo",
          "Promo",
          "Promo",
          "Promo",
          "Promo",
          "Promo",
          "Promo",
          "Promo",
          "Promo",
          "Promo",
          "Promo",
          "Promo",
          "Promo",
          "Promo",
          "Promo",
          "Promo",
          "Promo",
          "Promo",
          "Promo",
          "Promo",
          "Promo",
          "Promo",
          "Promo",
          "Promo",
          "Promo",
          "Promo",
          "Promo",
          "Promo",
          "Promo",
          "Promo",
          "Promo",
          "Promo",
          "Promo",
          "Promo",
          "Promo",
          "Promo",
          "Promo",
          "Promo",
          "Promo",
          "Promo",
          "Promo",
          "Promo",
          "Promo",
          "Promo",
          "Promo",
          "Promo",
          "Promo",
          "Promo",
          "Promo",
          "Promo",
          "Promo",
          "Promo",
          "Promo",
          "Promo",
          "Promo",
          "Promo",
          "Promo",
          "Promo",
          "Promo",
          "Promo",
          "Promo",
          "Promo",
          "Promo",
          "Promo",
          "Promo",
          "Promo",
          "Promo",
          "Promo",
          "Promo",
          "Promo",
          "Promo",
          "Promo",
          "Promo",
          "Promo",
          "Promo",
          "Promo",
          "Promo",
          "Promo",
          "Promo",
          "Promo",
          "Promo",
          "Promo",
          "Promo",
          "Promo",
          "Promo",
          "Promo",
          "Promo",
          "Promo",
          "Promo",
          "Promo",
          "Promo",
          "Promo",
          "Promo",
          "Promo",
          "Promo",
          "Promo",
          "Promo",
          "Promo",
          "Promo",
          "Promo",
          "Promo",
          "Promo",
          "Promo",
          "Promo",
          "Promo",
          "Promo",
          "Promo",
          "Promo",
          "Promo",
          "Promo",
          "Promo",
          "Promo",
          "Promo",
          "Promo",
          "Promo",
          "Promo",
          "Promo",
          "Promo",
          "Promo",
          "Promo",
          "Promo",
          "Promo",
          "Promo",
          "Promo",
          "Promo",
          "Promo",
          "Promo",
          "Promo",
          "Promo",
          "Promo",
          "Promo",
          "Promo",
          "Promo",
          "Promo",
          "Promo",
          "Promo",
          "Promo",
          "Promo",
          "Promo",
          "Promo",
          "Promo",
          "Promo",
          "Promo",
          "Promo",
          "Promo",
          "Promo",
          "Promo",
          "Promo",
          "Promo",
          "Promo",
          "Promo",
          "Promo",
          "Promo",
          "Promo",
          "Promo",
          "Promo",
          "Promo",
          "Promo",
          "Promo",
          "Promo",
          "Promo",
          "Promo",
          "Promo",
          "Promo",
          "Promo",
          "Promo",
          "Promo",
          "Promo",
          "Promo",
          "Promo",
          "Promo",
          "Promo",
          "Promo",
          "Promo",
          "Promo",
          "Promo",
          "Promo",
          "Promo",
          "Promo",
          "Promo",
          "Promo",
          "Promo",
          "Promo",
          "Promo",
          "Promo",
          "Promo",
          "Promo",
          "Promo",
          "Promo",
          "Promo",
          "Promo",
          "Promo",
          "Promo",
          "Promo",
          "Promo",
          "Promo",
          "Promo",
          "Promo",
          "Promo",
          "Promo",
          "Promo",
          "Promo",
          "Promo",
          "Promo",
          "Promo",
          "Promo",
          "Promo",
          "Promo",
          "Promo",
          "Promo",
          "Promo",
          "Promo",
          "Promo",
          "Promo",
          "Promo",
          "Promo",
          "Promo",
          "Promo",
          "Promo",
          "Promo",
          "Promo",
          "Promo",
          "Promo",
          "Promo",
          "Promo",
          "Promo",
          "Promo",
          "Promo",
          "Promo",
          "Promo",
          "Promo",
          "Promo",
          "Promo",
          "Promo",
          "Promo",
          "Promo",
          "Promo",
          "Promo",
          "Promo",
          "Promo",
          "Promo",
          "Promo",
          "Promo",
          "Promo",
          "Promo",
          "Promo",
          "Promo",
          "Promo",
          "Promo",
          "Promo",
          "Promo",
          "Promo",
          "Promo",
          "Promo",
          "Promo",
          "Promo",
          "Promo",
          "Promo",
          "Promo",
          "Promo",
          "Promo",
          "Promo",
          "Promo",
          "Promo",
          "Promo",
          "Promo",
          "Promo",
          "Promo",
          "Promo",
          "Promo",
          "Promo",
          "Promo",
          "Promo",
          "Promo",
          "Promo",
          "Promo",
          "Promo",
          "Promo",
          "Promo",
          "Promo",
          "Promo",
          "Promo",
          "Promo",
          "Promo",
          "Promo",
          "Promo",
          "Promo",
          "Promo",
          "Promo",
          "Promo",
          "Promo",
          "Promo",
          "Promo",
          "Promo",
          "Promo",
          "Promo",
          "Promo",
          "Promo",
          "Promo",
          "Promo",
          "Promo",
          "Promo",
          "Promo",
          "Promo",
          "Promo",
          "Promo",
          "Promo",
          "Promo",
          "Promo",
          "Promo",
          "Promo",
          "Promo",
          "Promo",
          "Promo",
          "Promo",
          "Promo",
          "Promo",
          "Promo",
          "Promo",
          "Promo",
          "Promo",
          "Promo",
          "Promo",
          "Promo",
          "Promo",
          "Promo",
          "Promo",
          "Promo",
          "Promo",
          "Promo",
          "Promo",
          "Promo",
          "Promo",
          "Promo",
          "Promo",
          "Promo",
          "Promo",
          "Promo",
          "Promo",
          "Promo",
          "Promo",
          "Promo",
          "Promo",
          "Promo",
          "Promo",
          "Promo",
          "Promo",
          "Promo",
          "Promo",
          "Promo",
          "Promo",
          "Promo",
          "Promo",
          "Promo",
          "Promo",
          "Promo",
          "Promo",
          "Promo",
          "Promo",
          "Promo",
          "Promo",
          "Promo",
          "Promo",
          "Promo",
          "Promo",
          "Promo",
          "Promo",
          "Promo",
          "Promo",
          "Promo",
          "Promo",
          "Promo",
          "Promo",
          "Promo",
          "Promo",
          "Promo",
          "Promo",
          "Promo",
          "Promo",
          "Promo",
          "Promo",
          "Promo",
          "Promo",
          "Promo",
          "Promo",
          "Promo",
          "Promo",
          "Promo",
          "Promo",
          "Promo",
          "Promo",
          "Promo",
          "Promo",
          "Promo",
          "Promo",
          "Promo",
          "Promo",
          "Promo",
          "Promo",
          "Promo",
          "Promo",
          "Promo",
          "Promo",
          "Promo",
          "Promo",
          "Promo",
          "Promo",
          "Promo",
          "Promo",
          "Promo",
          "Promo",
          "Promo",
          "Promo",
          "Promo",
          "Promo",
          "Promo",
          "Promo",
          "Promo",
          "Promo",
          "Promo",
          "Promo",
          "Promo",
          "Promo",
          "Promo",
          "Promo",
          "Promo",
          "Promo",
          "Promo",
          "Promo",
          "Promo",
          "Promo",
          "Promo",
          "Promo",
          "Promo",
          "Promo",
          "Promo",
          "Promo",
          "Promo",
          "Promo",
          "Promo",
          "Promo",
          "Promo",
          "Promo",
          "Promo",
          "Promo",
          "Promo",
          "Promo",
          "Promo",
          "Promo",
          "Promo",
          "Promo",
          "Promo",
          "Promo",
          "Promo",
          "Promo",
          "Promo",
          "Promo",
          "Promo",
          "Promo",
          "Promo",
          "Promo",
          "Promo",
          "Promo",
          "Promo",
          "Promo",
          "Promo",
          "Promo",
          "Promo",
          "Promo",
          "Promo",
          "Promo",
          "Promo",
          "Promo",
          "Promo",
          "Promo",
          "Promo",
          "Promo",
          "Promo",
          "Promo",
          "Promo",
          "Promo",
          "Promo",
          "Promo",
          "Promo",
          "Promo",
          "Promo",
          "Promo",
          "Promo",
          "Promo",
          "Promo",
          "Promo",
          "Promo",
          "Promo",
          "Promo",
          "Promo",
          "Promo",
          "Promo",
          "Promo",
          "Promo",
          "Promo",
          "Promo",
          "Promo",
          "Promo",
          "Promo",
          "Promo",
          "Promo",
          "Promo",
          "Promo",
          "Promo",
          "Promo",
          "Promo",
          "Promo",
          "Promo",
          "Promo",
          "Promo",
          "Promo",
          "Promo",
          "Promo",
          "Promo",
          "Promo",
          "Promo",
          "Promo",
          "Promo",
          "Promo",
          "Promo",
          "Promo",
          "Promo",
          "Promo",
          "Promo",
          "Promo",
          "Promo",
          "Promo",
          "Promo",
          "Promo",
          "Promo",
          "Promo",
          "Promo",
          "Promo",
          "Promo",
          "Promo",
          "Promo",
          "Promo",
          "Promo",
          "Promo",
          "Promo",
          "Promo",
          "Promo",
          "Promo",
          "Promo",
          "Promo",
          "Promo",
          "Promo",
          "Promo",
          "Promo",
          "Promo",
          "Promo",
          "Promo",
          "Promo",
          "Promo",
          "Promo",
          "Promo",
          "Promo",
          "Promo",
          "Promo",
          "Promo",
          "Promo",
          "Promo",
          "Promo",
          "Promo",
          "Promo",
          "Promo",
          "Promo",
          "Promo",
          "Promo",
          "Promo",
          "Promo",
          "Promo",
          "Promo",
          "Promo",
          "Promo",
          "Promo",
          "Promo",
          "Promo",
          "Promo",
          "Promo",
          "Promo",
          "Promo",
          "Promo",
          "Promo",
          "Promo",
          "Promo",
          "Promo",
          "Promo",
          "Promo",
          "Promo",
          "Promo",
          "Promo",
          "Promo",
          "Promo",
          "Promo",
          "Promo",
          "Promo",
          "Promo",
          "Promo",
          "Promo",
          "Promo",
          "Promo",
          "Promo",
          "Promo",
          "Promo",
          "Promo",
          "Promo",
          "Promo",
          "Promo",
          "Promo",
          "Promo",
          "Promo",
          "Promo",
          "Promo",
          "Promo",
          "Promo",
          "Promo",
          "Promo",
          "Promo",
          "Promo",
          "Promo",
          "Promo",
          "Promo",
          "Promo",
          "Promo",
          "Promo",
          "Promo",
          "Promo",
          "Promo",
          "Promo",
          "Promo",
          "Promo",
          "Promo",
          "Promo",
          "Promo",
          "Promo",
          "Promo",
          "Promo",
          "Promo",
          "Promo",
          "Promo",
          "Promo",
          "Promo",
          "Promo",
          "Promo",
          "Promo",
          "Promo",
          "Promo",
          "Promo",
          "Promo",
          "Promo",
          "Promo",
          "Promo",
          "Promo",
          "Promo",
          "Promo",
          "Promo",
          "Promo",
          "Promo",
          "Promo",
          "Promo",
          "Promo",
          "Promo",
          "Promo",
          "Promo",
          "Promo",
          "Promo",
          "Promo",
          "Promo",
          "Promo",
          "Promo",
          "Promo",
          "Promo",
          "Promo",
          "Promo",
          "Promo",
          "Promo",
          "Promo",
          "Promo",
          "Promo",
          "Promo",
          "Promo",
          "Promo",
          "Promo",
          "Promo",
          "Promo",
          "Promo",
          "Promo",
          "Promo",
          "Promo",
          "Promo",
          "Promo",
          "Promo",
          "Promo",
          "Promo",
          "Promo",
          "Promo",
          "Promo",
          "Promo",
          "Promo",
          "Promo",
          "Promo",
          "Promo",
          "Promo",
          "Promo",
          "Promo",
          "Promo",
          "Promo",
          "Promo",
          "Promo",
          "Promo",
          "Promo",
          "Promo",
          "Promo",
          "Promo",
          "Promo",
          "Promo",
          "Promo",
          "Promo",
          "Promo",
          "Promo",
          "Promo",
          "Promo",
          "Promo",
          "Promo",
          "Promo",
          "Promo",
          "Promo",
          "Promo",
          "Promo",
          "Promo",
          "Promo",
          "Promo",
          "Promo",
          "Promo",
          "Promo",
          "Promo",
          "Promo",
          "Promo",
          "Promo",
          "Promo",
          "Promo",
          "Promo",
          "Promo",
          "Promo",
          "Promo",
          "Promo",
          "Promo",
          "Promo",
          "Promo",
          "Promo",
          "Promo",
          "Promo",
          "Promo",
          "Promo",
          "Promo",
          "Promo",
          "Promo",
          "Promo",
          "Promo",
          "Promo",
          "Promo",
          "Promo",
          "Promo",
          "Promo",
          "Promo",
          "Promo",
          "Promo",
          "Promo",
          "Promo",
          "Promo",
          "Promo",
          "Promo",
          "Promo",
          "Promo",
          "Promo",
          "Promo",
          "Promo",
          "Promo",
          "Promo",
          "Promo",
          "Promo",
          "Promo",
          "Promo",
          "Promo",
          "Promo",
          "Promo",
          "Promo",
          "Promo",
          "Promo",
          "Promo",
          "Promo",
          "Promo",
          "Promo",
          "Promo",
          "Promo",
          "Promo",
          "Promo",
          "Promo",
          "Promo",
          "Promo",
          "Promo",
          "Promo",
          "Promo",
          "Promo",
          "Promo",
          "Promo",
          "Promo",
          "Promo",
          "Promo",
          "Promo",
          "Promo",
          "Promo",
          "Promo",
          "Promo",
          "Promo",
          "Promo",
          "Promo",
          "Promo",
          "Promo",
          "Promo",
          "Promo",
          "Promo",
          "Promo",
          "Promo",
          "Promo",
          "Promo",
          "Promo",
          "Promo",
          "Promo",
          "Promo",
          "Promo",
          "Promo",
          "Promo",
          "Promo",
          "Promo",
          "Promo",
          "Promo",
          "Promo",
          "Promo",
          "Promo",
          "Promo",
          "Promo",
          "Promo",
          "Promo",
          "Promo",
          "Promo",
          "Promo",
          "Promo",
          "Promo",
          "Promo",
          "Promo",
          "Promo",
          "Promo",
          "Promo",
          "Promo",
          "Promo",
          "Promo",
          "Promo",
          "Promo",
          "Promo",
          "Promo",
          "Promo",
          "Promo",
          "Promo",
          "Promo",
          "Promo",
          "Promo",
          "Promo",
          "Promo",
          "Promo",
          "Promo",
          "Promo"
         ],
         "x0": " ",
         "xaxis": "x",
         "y": [
          135,
          102,
          110,
          127,
          84,
          87,
          64,
          128,
          23,
          154,
          85,
          6,
          8,
          29,
          28,
          27,
          26,
          28,
          32,
          17,
          32,
          4,
          8,
          4,
          23,
          27,
          7,
          49,
          10,
          9,
          11,
          6,
          15,
          22,
          20,
          26,
          16,
          15,
          35,
          20,
          24,
          15,
          18,
          19,
          9,
          14,
          7,
          10,
          14,
          23,
          15,
          9,
          17,
          5,
          6,
          10,
          11,
          4,
          9,
          10,
          7,
          9,
          9,
          9,
          23,
          9,
          5,
          7,
          5,
          5,
          14,
          7,
          11,
          6,
          5,
          7,
          13,
          8,
          10,
          9,
          17,
          12,
          15,
          18,
          13,
          10,
          14,
          4,
          11,
          11,
          12,
          10,
          9,
          9,
          22,
          23,
          16,
          36,
          18,
          15,
          11,
          11,
          4,
          2,
          12,
          7,
          6,
          3,
          9,
          7,
          13,
          13,
          4,
          7,
          2,
          6,
          14,
          7,
          9,
          6,
          6,
          5,
          3,
          4,
          3,
          9,
          5,
          3,
          2,
          5,
          5,
          14,
          11,
          16,
          3,
          7,
          11,
          7,
          11,
          10,
          5,
          9,
          13,
          15,
          27,
          9,
          12,
          10,
          16,
          13,
          14,
          12,
          18,
          17,
          19,
          11,
          9,
          7,
          7,
          17,
          13,
          10,
          11,
          13,
          10,
          20,
          18,
          59,
          41,
          119,
          60,
          60,
          38,
          33,
          20,
          78,
          70,
          180,
          13,
          2,
          34,
          31,
          25,
          26,
          24,
          38,
          30,
          33,
          27,
          33,
          37,
          31,
          45,
          29,
          22,
          32,
          23,
          37,
          43,
          48,
          37,
          60,
          55,
          57,
          42,
          59,
          47,
          46,
          41,
          39,
          51,
          27,
          73,
          65,
          22,
          15,
          32,
          26,
          44,
          46,
          52,
          31,
          16,
          31,
          21,
          17,
          19,
          32,
          40,
          38,
          29,
          44,
          25,
          49,
          47,
          37,
          34,
          37,
          24,
          16,
          22,
          25,
          27,
          94,
          60,
          54,
          71,
          55,
          56,
          49,
          42,
          54,
          44,
          62,
          51,
          73,
          39,
          40,
          74,
          47,
          77,
          73,
          82,
          53,
          74,
          107,
          56,
          36,
          27,
          61,
          56,
          57,
          74,
          54,
          45,
          63,
          96,
          82,
          141,
          193,
          137,
          104,
          106,
          75,
          126,
          116,
          108,
          77,
          141,
          175,
          214,
          233,
          106,
          85,
          108,
          60,
          59,
          88,
          42,
          35,
          85,
          81,
          75,
          118,
          32,
          40,
          98,
          43,
          76,
          87,
          60,
          58,
          19,
          16,
          42,
          64,
          27,
          29,
          37,
          31,
          26,
          48,
          8,
          7,
          3,
          8,
          8,
          11,
          5,
          8,
          9,
          10,
          7,
          8,
          6,
          10,
          10,
          8,
          5,
          4,
          6,
          11,
          7,
          10,
          17,
          13,
          11,
          8,
          15,
          9,
          15,
          13,
          12,
          8,
          8,
          12,
          29,
          16,
          8,
          16,
          21,
          16,
          15,
          15,
          14,
          16,
          15,
          24,
          18,
          6,
          13,
          5,
          14,
          11,
          18,
          12,
          13,
          14,
          13,
          16,
          15,
          10,
          13,
          11,
          14,
          21,
          20,
          16,
          18,
          33,
          12,
          29,
          75,
          29,
          25,
          26,
          18,
          114,
          51,
          23,
          37,
          27,
          178,
          750,
          16,
          26,
          13,
          32,
          23,
          20,
          579,
          16,
          12,
          31,
          45,
          249,
          42,
          31,
          35,
          30,
          28,
          17,
          24,
          45,
          63,
          15,
          31,
          27,
          47,
          49,
          49,
          43,
          64,
          51,
          49,
          34,
          54,
          47,
          42,
          64,
          48,
          43,
          34,
          47,
          74,
          91,
          142,
          160,
          219,
          160,
          176,
          168,
          136,
          189,
          177,
          79,
          104,
          93,
          116,
          13,
          27,
          41,
          35,
          40,
          81,
          63,
          49,
          86,
          91,
          71,
          90,
          61,
          34,
          28,
          36,
          46,
          34,
          72,
          29,
          76,
          42,
          56,
          25,
          77,
          2167,
          47,
          81,
          72,
          35,
          41,
          68,
          42,
          68,
          1367,
          660,
          44,
          151,
          878,
          88,
          70,
          76,
          137,
          73,
          136,
          93,
          202,
          144,
          1783,
          82,
          131,
          118,
          144,
          74,
          61,
          108,
          74,
          187,
          120,
          81,
          70,
          400,
          2130,
          348,
          186,
          74,
          77,
          196,
          52,
          27,
          53,
          63,
          33,
          167,
          182,
          467,
          246,
          110,
          197,
          235,
          301,
          2860,
          15,
          194,
          168,
          79,
          100,
          233,
          111,
          249,
          225,
          91,
          215,
          171,
          59,
          237,
          92,
          95,
          82,
          76,
          86,
          121,
          94,
          122,
          101,
          89,
          62,
          66,
          41,
          64,
          47,
          68,
          114,
          146,
          128,
          122,
          62,
          54,
          65,
          55,
          69,
          59,
          83,
          38,
          64,
          128,
          124,
          113,
          78,
          103,
          124,
          70,
          57,
          98,
          60,
          30,
          65,
          45,
          36,
          53,
          43,
          40,
          166,
          1027,
          93,
          214,
          30,
          33,
          31,
          54,
          60,
          49,
          38,
          82,
          134,
          52,
          37,
          50,
          56,
          59,
          46,
          62,
          64,
          70,
          71,
          67,
          53,
          48,
          60,
          81,
          48,
          37,
          57,
          68,
          10,
          32,
          20,
          15,
          33,
          34,
          210,
          12,
          21,
          23,
          21,
          33,
          13,
          16,
          169,
          318,
          28,
          30,
          16,
          18,
          16,
          18,
          69,
          36,
          36,
          44,
          13,
          22,
          9,
          2,
          25,
          26,
          33,
          27,
          29,
          30,
          32,
          33,
          28,
          85,
          30,
          30,
          25,
          51,
          31,
          17,
          11,
          16,
          22,
          5,
          51,
          41,
          8,
          16,
          7,
          25,
          16,
          23,
          16,
          20,
          6,
          17,
          14,
          13,
          18,
          12,
          29,
          24,
          26,
          27,
          46,
          32,
          22,
          22,
          16,
          22,
          38,
          70,
          38,
          24,
          50,
          39,
          92,
          459,
          63,
          306,
          33,
          18,
          24,
          36,
          36,
          18,
          853,
          35,
          107,
          295,
          21,
          21,
          89,
          95,
          116,
          82,
          83,
          103,
          29,
          84,
          99,
          264,
          94,
          89,
          84,
          72,
          38,
          20,
          26,
          30,
          24,
          15,
          81,
          72,
          127,
          24,
          98,
          33,
          22,
          14,
          18,
          23,
          23,
          115,
          78,
          102,
          128,
          128,
          85,
          69,
          97,
          134,
          256,
          161,
          403,
          327,
          297,
          319,
          213,
          228,
          230,
          249,
          331,
          224,
          220,
          208,
          249,
          7,
          229,
          72,
          8,
          18,
          10,
          25,
          20,
          43,
          47,
          51,
          53,
          54,
          61,
          55,
          52,
          48,
          42,
          49,
          70,
          21,
          12,
          23,
          10,
          21,
          10,
          5,
          7,
          11,
          17,
          24,
          2467,
          1984,
          1930,
          1595,
          1318,
          1093,
          538,
          1022,
          3968,
          3066,
          3467,
          2794,
          2995,
          2930,
          2287,
          668,
          245,
          1375,
          296,
          1723,
          93,
          215,
          149,
          3504,
          2235,
          1394,
          6656,
          2869,
          922,
          3357,
          2077,
          78,
          79,
          79,
          63,
          96,
          75,
          62,
          321,
          389,
          180,
          227,
          187,
          233,
          221,
          151,
          156,
          254,
          182,
          132,
          87,
          124,
          91,
          76,
          85,
          58,
          27,
          54,
          98,
          65,
          38,
          38,
          38,
          41,
          22,
          55,
          142,
          199,
          87,
          67,
          53,
          138,
          121,
          143,
          126,
          88,
          67,
          83,
          84,
          56,
          79,
          59,
          107,
          133,
          55,
          69,
          28,
          29,
          130,
          80,
          75,
          199,
          195,
          105,
          154,
          133,
          122,
          132,
          140,
          199,
          156,
          63,
          95,
          77,
          83,
          85,
          575,
          49,
          40,
          41,
          36,
          41,
          31,
          43,
          71,
          43,
          607,
          512,
          675,
          435,
          470,
          229,
          623,
          451,
          548,
          578,
          511,
          504,
          472,
          362,
          397,
          491,
          396,
          117,
          2323,
          581,
          328,
          308,
          1110,
          301,
          658,
          237,
          1375,
          1320,
          217,
          742,
          184,
          213,
          165,
          151,
          458,
          429,
          312,
          205,
          187,
          272,
          265,
          486,
          315,
          209,
          136,
          417,
          679,
          916,
          329,
          176,
          159,
          280,
          325,
          193,
          153,
          191,
          147,
          12,
          187,
          194,
          15,
          22,
          135,
          411,
          354,
          43,
          62,
          229,
          228,
          284,
          238,
          289,
          1,
          4,
          42,
          27,
          206,
          147,
          2075,
          1281,
          76,
          74,
          57,
          65,
          68,
          59,
          57,
          79,
          100,
          71,
          104,
          57,
          96,
          75,
          50,
          57,
          74,
          86,
          94,
          12,
          12,
          25,
          19,
          9,
          5,
          17,
          18,
          5,
          11,
          13,
          14,
          7,
          12,
          14,
          11,
          15,
          39,
          8,
          32,
          68,
          30,
          31,
          19,
          22,
          30,
          26,
          24,
          14,
          6,
          13,
          6,
          19,
          9,
          6,
          2,
          7,
          12,
          8,
          12,
          10,
          15,
          17,
          16,
          12,
          14,
          5,
          42,
          287,
          19,
          83,
          11,
          13,
          64,
          258,
          457,
          2955,
          660,
          632,
          375,
          42,
          27,
          522,
          38,
          92,
          101,
          92,
          53,
          37,
          7,
          29,
          8,
          92,
          61,
          84,
          60,
          126,
          106,
          109,
          106,
          76,
          101,
          108,
          84,
          67,
          67,
          34,
          98,
          41,
          79,
          49,
          47,
          33,
          49,
          58,
          64,
          76,
          55,
          98,
          61,
          102,
          151,
          94,
          198,
          170,
          136,
          132,
          204,
          208,
          193,
          138,
          225,
          280,
          1522,
          1035,
          90,
          85,
          100,
          138,
          95,
          124,
          118,
          132,
          145,
          155,
          163,
          113,
          109,
          140,
          133,
          161,
          200,
          192,
          135,
          149,
          115,
          111,
          128,
          134,
          168,
          117,
          138,
          145,
          64,
          200,
          24,
          40,
          26,
          32,
          81,
          40,
          47,
          30,
          44,
          33,
          55,
          29,
          19,
          19,
          30,
          26,
          21,
          31,
          39,
          22,
          36,
          21,
          20,
          17,
          40,
          22,
          45,
          116,
          55,
          88,
          59,
          33,
          53,
          42,
          68,
          44,
          68,
          49,
          63,
          80,
          38,
          107,
          160,
          17,
          7,
          19,
          12,
          14,
          7,
          10,
          21,
          22,
          22,
          21,
          33,
          33,
          24,
          29,
          24,
          23,
          23,
          31,
          24,
          35,
          38,
          22,
          37,
          23,
          43,
          33,
          30,
          26,
          28,
          19,
          39,
          35,
          33,
          39,
          33,
          23,
          25,
          33,
          22,
          24,
          22,
          16,
          23,
          16,
          18,
          8,
          8,
          16,
          25,
          25,
          29,
          23,
          21,
          35,
          48,
          70,
          69,
          67,
          65,
          49,
          59,
          74,
          80,
          65,
          69,
          65,
          362,
          556,
          16,
          36,
          11,
          27,
          21,
          28,
          23,
          13,
          37,
          27,
          25,
          30,
          34,
          33,
          33,
          26,
          23,
          41,
          35,
          34,
          42,
          36,
          36,
          34,
          24,
          36,
          37,
          44,
          75,
          73,
          13,
          9,
          44,
          46,
          38,
          73,
          35,
          21,
          22,
          16,
          19,
          13,
          18,
          11,
          11,
          8,
          18,
          13,
          11,
          12,
          8,
          9,
          12,
          9,
          12,
          17,
          8,
          15,
          11,
          13,
          23,
          19,
          8,
          21,
          14,
          9,
          15,
          15,
          16,
          22,
          17,
          29,
          19,
          11,
          21,
          9,
          13,
          18,
          27,
          13,
          19,
          17,
          19,
          34,
          28,
          24,
          8,
          9,
          3,
          9,
          12,
          10,
          15,
          13,
          50,
          21,
          15,
          15,
          31,
          38,
          64,
          13,
          12,
          15,
          12,
          15,
          19,
          28,
          51,
          103,
          60,
          126,
          96,
          76,
          74,
          116,
          44,
          17,
          27,
          28,
          22,
          46,
          46,
          27,
          29,
          30,
          8,
          4,
          23,
          13,
          9,
          4,
          8,
          9,
          13,
          9,
          3,
          10,
          8,
          7,
          10,
          3,
          6,
          11,
          5,
          9,
          5,
          4,
          4,
          5,
          4,
          7,
          6,
          9,
          8,
          15,
          19,
          11,
          12,
          16,
          14,
          15,
          21,
          15,
          11,
          17,
          14,
          5,
          7,
          3,
          8,
          1,
          6,
          9,
          5,
          9,
          3,
          9,
          12,
          16,
          10,
          4,
          7,
          8,
          6,
          8,
          9,
          23,
          17,
          10,
          9,
          12,
          13,
          6,
          12,
          12,
          10,
          12,
          8,
          27,
          8,
          12,
          15,
          6,
          5,
          10,
          7,
          3,
          11,
          11,
          3,
          10,
          8,
          5,
          8,
          5,
          4,
          11,
          10,
          12,
          12,
          6,
          6,
          8,
          9,
          8,
          10,
          13,
          17,
          12,
          31,
          12,
          19,
          28,
          18,
          14,
          22,
          17,
          10,
          21,
          21,
          16,
          23,
          21,
          19,
          20,
          17,
          20,
          8,
          5,
          6,
          11,
          25,
          27,
          0,
          2,
          9,
          5,
          3,
          5,
          10,
          1,
          13,
          10,
          10,
          16,
          15,
          16,
          16,
          21,
          18,
          18,
          9,
          10,
          2,
          20,
          18,
          22,
          13,
          21,
          34,
          52,
          29,
          22,
          28,
          26
         ],
         "y0": " ",
         "yaxis": "y"
        },
        {
         "alignmentgroup": "True",
         "hovertemplate": "Promotion=%{x}<br>Weekly Sales Volume=%{y}<extra></extra>",
         "legendgroup": "No Promo",
         "marker": {
          "color": "#EF553B"
         },
         "name": "No Promo",
         "notched": false,
         "offsetgroup": "No Promo",
         "orientation": "v",
         "showlegend": true,
         "type": "box",
         "x": [
          "No Promo",
          "No Promo",
          "No Promo",
          "No Promo",
          "No Promo",
          "No Promo",
          "No Promo",
          "No Promo",
          "No Promo",
          "No Promo",
          "No Promo",
          "No Promo",
          "No Promo",
          "No Promo",
          "No Promo",
          "No Promo",
          "No Promo",
          "No Promo",
          "No Promo",
          "No Promo",
          "No Promo",
          "No Promo",
          "No Promo",
          "No Promo",
          "No Promo",
          "No Promo",
          "No Promo",
          "No Promo",
          "No Promo",
          "No Promo",
          "No Promo",
          "No Promo",
          "No Promo",
          "No Promo",
          "No Promo",
          "No Promo",
          "No Promo",
          "No Promo",
          "No Promo",
          "No Promo",
          "No Promo",
          "No Promo",
          "No Promo",
          "No Promo",
          "No Promo",
          "No Promo",
          "No Promo",
          "No Promo",
          "No Promo",
          "No Promo",
          "No Promo",
          "No Promo",
          "No Promo",
          "No Promo",
          "No Promo",
          "No Promo",
          "No Promo",
          "No Promo",
          "No Promo",
          "No Promo",
          "No Promo",
          "No Promo",
          "No Promo",
          "No Promo",
          "No Promo",
          "No Promo",
          "No Promo",
          "No Promo",
          "No Promo",
          "No Promo",
          "No Promo",
          "No Promo",
          "No Promo",
          "No Promo",
          "No Promo",
          "No Promo",
          "No Promo",
          "No Promo",
          "No Promo",
          "No Promo",
          "No Promo",
          "No Promo",
          "No Promo",
          "No Promo",
          "No Promo",
          "No Promo",
          "No Promo",
          "No Promo",
          "No Promo",
          "No Promo",
          "No Promo",
          "No Promo",
          "No Promo",
          "No Promo",
          "No Promo",
          "No Promo",
          "No Promo",
          "No Promo",
          "No Promo",
          "No Promo",
          "No Promo",
          "No Promo",
          "No Promo",
          "No Promo",
          "No Promo",
          "No Promo",
          "No Promo",
          "No Promo",
          "No Promo",
          "No Promo",
          "No Promo",
          "No Promo",
          "No Promo",
          "No Promo",
          "No Promo",
          "No Promo",
          "No Promo",
          "No Promo",
          "No Promo",
          "No Promo",
          "No Promo",
          "No Promo",
          "No Promo",
          "No Promo",
          "No Promo",
          "No Promo",
          "No Promo",
          "No Promo",
          "No Promo",
          "No Promo",
          "No Promo",
          "No Promo",
          "No Promo",
          "No Promo",
          "No Promo",
          "No Promo",
          "No Promo",
          "No Promo",
          "No Promo",
          "No Promo",
          "No Promo",
          "No Promo",
          "No Promo",
          "No Promo",
          "No Promo",
          "No Promo",
          "No Promo",
          "No Promo",
          "No Promo",
          "No Promo",
          "No Promo",
          "No Promo",
          "No Promo",
          "No Promo",
          "No Promo",
          "No Promo",
          "No Promo",
          "No Promo",
          "No Promo",
          "No Promo",
          "No Promo",
          "No Promo",
          "No Promo",
          "No Promo",
          "No Promo",
          "No Promo",
          "No Promo",
          "No Promo",
          "No Promo",
          "No Promo",
          "No Promo",
          "No Promo",
          "No Promo",
          "No Promo",
          "No Promo",
          "No Promo",
          "No Promo",
          "No Promo",
          "No Promo",
          "No Promo",
          "No Promo",
          "No Promo",
          "No Promo",
          "No Promo",
          "No Promo",
          "No Promo",
          "No Promo",
          "No Promo",
          "No Promo",
          "No Promo",
          "No Promo",
          "No Promo",
          "No Promo",
          "No Promo",
          "No Promo",
          "No Promo",
          "No Promo",
          "No Promo",
          "No Promo",
          "No Promo",
          "No Promo",
          "No Promo",
          "No Promo",
          "No Promo",
          "No Promo",
          "No Promo",
          "No Promo",
          "No Promo",
          "No Promo",
          "No Promo",
          "No Promo",
          "No Promo",
          "No Promo",
          "No Promo",
          "No Promo",
          "No Promo",
          "No Promo",
          "No Promo",
          "No Promo",
          "No Promo",
          "No Promo",
          "No Promo",
          "No Promo",
          "No Promo",
          "No Promo",
          "No Promo",
          "No Promo",
          "No Promo",
          "No Promo",
          "No Promo",
          "No Promo",
          "No Promo",
          "No Promo",
          "No Promo",
          "No Promo",
          "No Promo",
          "No Promo",
          "No Promo",
          "No Promo",
          "No Promo",
          "No Promo",
          "No Promo",
          "No Promo",
          "No Promo",
          "No Promo",
          "No Promo",
          "No Promo",
          "No Promo",
          "No Promo",
          "No Promo",
          "No Promo",
          "No Promo",
          "No Promo",
          "No Promo",
          "No Promo",
          "No Promo",
          "No Promo",
          "No Promo",
          "No Promo",
          "No Promo",
          "No Promo",
          "No Promo",
          "No Promo",
          "No Promo",
          "No Promo",
          "No Promo",
          "No Promo",
          "No Promo",
          "No Promo",
          "No Promo",
          "No Promo",
          "No Promo",
          "No Promo",
          "No Promo",
          "No Promo",
          "No Promo",
          "No Promo",
          "No Promo",
          "No Promo",
          "No Promo",
          "No Promo",
          "No Promo",
          "No Promo",
          "No Promo",
          "No Promo",
          "No Promo",
          "No Promo",
          "No Promo",
          "No Promo",
          "No Promo",
          "No Promo",
          "No Promo",
          "No Promo",
          "No Promo",
          "No Promo",
          "No Promo",
          "No Promo",
          "No Promo",
          "No Promo",
          "No Promo",
          "No Promo",
          "No Promo",
          "No Promo",
          "No Promo",
          "No Promo",
          "No Promo",
          "No Promo",
          "No Promo",
          "No Promo",
          "No Promo",
          "No Promo",
          "No Promo",
          "No Promo",
          "No Promo",
          "No Promo",
          "No Promo",
          "No Promo",
          "No Promo",
          "No Promo",
          "No Promo",
          "No Promo",
          "No Promo",
          "No Promo",
          "No Promo",
          "No Promo",
          "No Promo",
          "No Promo",
          "No Promo",
          "No Promo",
          "No Promo",
          "No Promo",
          "No Promo",
          "No Promo",
          "No Promo",
          "No Promo",
          "No Promo",
          "No Promo",
          "No Promo",
          "No Promo",
          "No Promo",
          "No Promo",
          "No Promo",
          "No Promo",
          "No Promo",
          "No Promo",
          "No Promo",
          "No Promo",
          "No Promo",
          "No Promo",
          "No Promo",
          "No Promo",
          "No Promo",
          "No Promo",
          "No Promo",
          "No Promo",
          "No Promo",
          "No Promo",
          "No Promo",
          "No Promo",
          "No Promo",
          "No Promo",
          "No Promo",
          "No Promo",
          "No Promo",
          "No Promo",
          "No Promo",
          "No Promo",
          "No Promo",
          "No Promo",
          "No Promo",
          "No Promo",
          "No Promo",
          "No Promo",
          "No Promo",
          "No Promo",
          "No Promo",
          "No Promo",
          "No Promo",
          "No Promo",
          "No Promo",
          "No Promo",
          "No Promo",
          "No Promo",
          "No Promo",
          "No Promo",
          "No Promo",
          "No Promo",
          "No Promo",
          "No Promo",
          "No Promo",
          "No Promo",
          "No Promo",
          "No Promo",
          "No Promo",
          "No Promo",
          "No Promo",
          "No Promo",
          "No Promo",
          "No Promo",
          "No Promo",
          "No Promo",
          "No Promo",
          "No Promo",
          "No Promo",
          "No Promo",
          "No Promo",
          "No Promo",
          "No Promo",
          "No Promo",
          "No Promo",
          "No Promo",
          "No Promo",
          "No Promo",
          "No Promo",
          "No Promo",
          "No Promo",
          "No Promo",
          "No Promo",
          "No Promo",
          "No Promo",
          "No Promo",
          "No Promo",
          "No Promo",
          "No Promo",
          "No Promo",
          "No Promo",
          "No Promo",
          "No Promo",
          "No Promo",
          "No Promo",
          "No Promo",
          "No Promo",
          "No Promo",
          "No Promo",
          "No Promo",
          "No Promo",
          "No Promo",
          "No Promo",
          "No Promo",
          "No Promo",
          "No Promo",
          "No Promo",
          "No Promo",
          "No Promo",
          "No Promo",
          "No Promo",
          "No Promo",
          "No Promo",
          "No Promo",
          "No Promo",
          "No Promo",
          "No Promo",
          "No Promo",
          "No Promo",
          "No Promo",
          "No Promo",
          "No Promo",
          "No Promo",
          "No Promo",
          "No Promo",
          "No Promo",
          "No Promo",
          "No Promo",
          "No Promo",
          "No Promo",
          "No Promo",
          "No Promo",
          "No Promo",
          "No Promo",
          "No Promo",
          "No Promo",
          "No Promo",
          "No Promo",
          "No Promo",
          "No Promo",
          "No Promo",
          "No Promo",
          "No Promo",
          "No Promo",
          "No Promo",
          "No Promo",
          "No Promo",
          "No Promo",
          "No Promo",
          "No Promo",
          "No Promo",
          "No Promo",
          "No Promo",
          "No Promo",
          "No Promo",
          "No Promo",
          "No Promo",
          "No Promo",
          "No Promo",
          "No Promo",
          "No Promo",
          "No Promo",
          "No Promo",
          "No Promo",
          "No Promo",
          "No Promo",
          "No Promo",
          "No Promo",
          "No Promo",
          "No Promo",
          "No Promo",
          "No Promo",
          "No Promo",
          "No Promo",
          "No Promo",
          "No Promo",
          "No Promo",
          "No Promo",
          "No Promo",
          "No Promo",
          "No Promo",
          "No Promo",
          "No Promo",
          "No Promo",
          "No Promo",
          "No Promo",
          "No Promo",
          "No Promo",
          "No Promo",
          "No Promo",
          "No Promo",
          "No Promo",
          "No Promo",
          "No Promo",
          "No Promo",
          "No Promo",
          "No Promo",
          "No Promo",
          "No Promo",
          "No Promo",
          "No Promo",
          "No Promo",
          "No Promo",
          "No Promo",
          "No Promo",
          "No Promo",
          "No Promo",
          "No Promo",
          "No Promo",
          "No Promo",
          "No Promo",
          "No Promo",
          "No Promo",
          "No Promo",
          "No Promo",
          "No Promo",
          "No Promo",
          "No Promo",
          "No Promo",
          "No Promo",
          "No Promo",
          "No Promo",
          "No Promo",
          "No Promo",
          "No Promo",
          "No Promo",
          "No Promo",
          "No Promo",
          "No Promo",
          "No Promo",
          "No Promo",
          "No Promo",
          "No Promo",
          "No Promo",
          "No Promo",
          "No Promo",
          "No Promo",
          "No Promo",
          "No Promo",
          "No Promo",
          "No Promo",
          "No Promo",
          "No Promo",
          "No Promo",
          "No Promo",
          "No Promo",
          "No Promo",
          "No Promo",
          "No Promo",
          "No Promo",
          "No Promo",
          "No Promo",
          "No Promo",
          "No Promo",
          "No Promo",
          "No Promo",
          "No Promo",
          "No Promo",
          "No Promo",
          "No Promo",
          "No Promo",
          "No Promo",
          "No Promo",
          "No Promo",
          "No Promo",
          "No Promo",
          "No Promo",
          "No Promo",
          "No Promo",
          "No Promo",
          "No Promo",
          "No Promo",
          "No Promo",
          "No Promo",
          "No Promo",
          "No Promo",
          "No Promo",
          "No Promo",
          "No Promo",
          "No Promo",
          "No Promo",
          "No Promo",
          "No Promo",
          "No Promo",
          "No Promo",
          "No Promo",
          "No Promo",
          "No Promo",
          "No Promo",
          "No Promo",
          "No Promo",
          "No Promo",
          "No Promo",
          "No Promo",
          "No Promo",
          "No Promo",
          "No Promo",
          "No Promo",
          "No Promo",
          "No Promo",
          "No Promo",
          "No Promo",
          "No Promo",
          "No Promo",
          "No Promo",
          "No Promo",
          "No Promo",
          "No Promo",
          "No Promo",
          "No Promo",
          "No Promo",
          "No Promo",
          "No Promo",
          "No Promo",
          "No Promo",
          "No Promo",
          "No Promo",
          "No Promo",
          "No Promo",
          "No Promo",
          "No Promo",
          "No Promo",
          "No Promo",
          "No Promo",
          "No Promo",
          "No Promo",
          "No Promo",
          "No Promo",
          "No Promo",
          "No Promo",
          "No Promo",
          "No Promo",
          "No Promo",
          "No Promo",
          "No Promo",
          "No Promo",
          "No Promo",
          "No Promo",
          "No Promo",
          "No Promo",
          "No Promo",
          "No Promo",
          "No Promo",
          "No Promo",
          "No Promo",
          "No Promo",
          "No Promo",
          "No Promo",
          "No Promo",
          "No Promo",
          "No Promo",
          "No Promo",
          "No Promo",
          "No Promo",
          "No Promo",
          "No Promo",
          "No Promo",
          "No Promo",
          "No Promo",
          "No Promo",
          "No Promo",
          "No Promo",
          "No Promo",
          "No Promo",
          "No Promo",
          "No Promo",
          "No Promo",
          "No Promo",
          "No Promo",
          "No Promo",
          "No Promo",
          "No Promo",
          "No Promo",
          "No Promo",
          "No Promo",
          "No Promo",
          "No Promo",
          "No Promo",
          "No Promo",
          "No Promo",
          "No Promo",
          "No Promo",
          "No Promo",
          "No Promo",
          "No Promo",
          "No Promo",
          "No Promo",
          "No Promo",
          "No Promo",
          "No Promo",
          "No Promo",
          "No Promo",
          "No Promo",
          "No Promo",
          "No Promo",
          "No Promo",
          "No Promo",
          "No Promo",
          "No Promo",
          "No Promo",
          "No Promo",
          "No Promo",
          "No Promo",
          "No Promo",
          "No Promo",
          "No Promo",
          "No Promo",
          "No Promo",
          "No Promo",
          "No Promo",
          "No Promo",
          "No Promo",
          "No Promo",
          "No Promo",
          "No Promo",
          "No Promo",
          "No Promo",
          "No Promo",
          "No Promo",
          "No Promo",
          "No Promo",
          "No Promo",
          "No Promo",
          "No Promo",
          "No Promo",
          "No Promo",
          "No Promo",
          "No Promo",
          "No Promo",
          "No Promo",
          "No Promo",
          "No Promo",
          "No Promo",
          "No Promo",
          "No Promo",
          "No Promo",
          "No Promo",
          "No Promo",
          "No Promo",
          "No Promo",
          "No Promo",
          "No Promo",
          "No Promo",
          "No Promo",
          "No Promo",
          "No Promo",
          "No Promo",
          "No Promo",
          "No Promo",
          "No Promo",
          "No Promo",
          "No Promo",
          "No Promo",
          "No Promo",
          "No Promo",
          "No Promo",
          "No Promo",
          "No Promo",
          "No Promo",
          "No Promo",
          "No Promo",
          "No Promo",
          "No Promo",
          "No Promo",
          "No Promo",
          "No Promo",
          "No Promo",
          "No Promo",
          "No Promo",
          "No Promo",
          "No Promo",
          "No Promo",
          "No Promo",
          "No Promo",
          "No Promo",
          "No Promo",
          "No Promo",
          "No Promo",
          "No Promo",
          "No Promo",
          "No Promo",
          "No Promo",
          "No Promo",
          "No Promo",
          "No Promo",
          "No Promo",
          "No Promo",
          "No Promo",
          "No Promo",
          "No Promo",
          "No Promo",
          "No Promo",
          "No Promo",
          "No Promo",
          "No Promo",
          "No Promo",
          "No Promo",
          "No Promo",
          "No Promo",
          "No Promo",
          "No Promo",
          "No Promo",
          "No Promo",
          "No Promo",
          "No Promo",
          "No Promo",
          "No Promo",
          "No Promo",
          "No Promo",
          "No Promo",
          "No Promo",
          "No Promo",
          "No Promo",
          "No Promo",
          "No Promo",
          "No Promo",
          "No Promo",
          "No Promo",
          "No Promo",
          "No Promo",
          "No Promo",
          "No Promo",
          "No Promo",
          "No Promo",
          "No Promo",
          "No Promo",
          "No Promo",
          "No Promo",
          "No Promo",
          "No Promo",
          "No Promo",
          "No Promo",
          "No Promo",
          "No Promo",
          "No Promo",
          "No Promo",
          "No Promo",
          "No Promo",
          "No Promo",
          "No Promo",
          "No Promo",
          "No Promo",
          "No Promo",
          "No Promo",
          "No Promo",
          "No Promo",
          "No Promo",
          "No Promo",
          "No Promo",
          "No Promo",
          "No Promo",
          "No Promo",
          "No Promo",
          "No Promo",
          "No Promo",
          "No Promo",
          "No Promo",
          "No Promo",
          "No Promo",
          "No Promo",
          "No Promo",
          "No Promo",
          "No Promo",
          "No Promo",
          "No Promo",
          "No Promo",
          "No Promo",
          "No Promo",
          "No Promo",
          "No Promo",
          "No Promo",
          "No Promo",
          "No Promo",
          "No Promo",
          "No Promo",
          "No Promo",
          "No Promo",
          "No Promo",
          "No Promo",
          "No Promo",
          "No Promo",
          "No Promo",
          "No Promo",
          "No Promo",
          "No Promo",
          "No Promo",
          "No Promo",
          "No Promo",
          "No Promo",
          "No Promo",
          "No Promo",
          "No Promo",
          "No Promo",
          "No Promo",
          "No Promo",
          "No Promo",
          "No Promo",
          "No Promo",
          "No Promo",
          "No Promo",
          "No Promo",
          "No Promo",
          "No Promo",
          "No Promo",
          "No Promo",
          "No Promo",
          "No Promo",
          "No Promo",
          "No Promo",
          "No Promo",
          "No Promo",
          "No Promo",
          "No Promo",
          "No Promo",
          "No Promo",
          "No Promo",
          "No Promo",
          "No Promo",
          "No Promo",
          "No Promo",
          "No Promo",
          "No Promo",
          "No Promo",
          "No Promo",
          "No Promo",
          "No Promo",
          "No Promo",
          "No Promo",
          "No Promo",
          "No Promo",
          "No Promo",
          "No Promo",
          "No Promo",
          "No Promo",
          "No Promo",
          "No Promo",
          "No Promo",
          "No Promo",
          "No Promo",
          "No Promo",
          "No Promo",
          "No Promo",
          "No Promo",
          "No Promo",
          "No Promo",
          "No Promo",
          "No Promo",
          "No Promo",
          "No Promo",
          "No Promo",
          "No Promo",
          "No Promo",
          "No Promo",
          "No Promo",
          "No Promo",
          "No Promo",
          "No Promo",
          "No Promo",
          "No Promo",
          "No Promo",
          "No Promo",
          "No Promo",
          "No Promo",
          "No Promo",
          "No Promo",
          "No Promo",
          "No Promo",
          "No Promo",
          "No Promo",
          "No Promo",
          "No Promo",
          "No Promo",
          "No Promo",
          "No Promo",
          "No Promo",
          "No Promo",
          "No Promo",
          "No Promo",
          "No Promo",
          "No Promo",
          "No Promo",
          "No Promo",
          "No Promo",
          "No Promo",
          "No Promo",
          "No Promo",
          "No Promo",
          "No Promo",
          "No Promo",
          "No Promo",
          "No Promo",
          "No Promo",
          "No Promo",
          "No Promo",
          "No Promo",
          "No Promo",
          "No Promo",
          "No Promo",
          "No Promo",
          "No Promo",
          "No Promo",
          "No Promo",
          "No Promo",
          "No Promo",
          "No Promo",
          "No Promo",
          "No Promo",
          "No Promo",
          "No Promo",
          "No Promo",
          "No Promo",
          "No Promo",
          "No Promo",
          "No Promo",
          "No Promo",
          "No Promo",
          "No Promo",
          "No Promo",
          "No Promo",
          "No Promo",
          "No Promo",
          "No Promo",
          "No Promo",
          "No Promo",
          "No Promo",
          "No Promo",
          "No Promo",
          "No Promo",
          "No Promo",
          "No Promo",
          "No Promo",
          "No Promo",
          "No Promo",
          "No Promo",
          "No Promo",
          "No Promo",
          "No Promo",
          "No Promo",
          "No Promo",
          "No Promo",
          "No Promo",
          "No Promo",
          "No Promo",
          "No Promo",
          "No Promo",
          "No Promo",
          "No Promo",
          "No Promo",
          "No Promo",
          "No Promo",
          "No Promo",
          "No Promo",
          "No Promo",
          "No Promo",
          "No Promo",
          "No Promo",
          "No Promo",
          "No Promo",
          "No Promo",
          "No Promo",
          "No Promo",
          "No Promo",
          "No Promo",
          "No Promo",
          "No Promo",
          "No Promo",
          "No Promo",
          "No Promo",
          "No Promo",
          "No Promo",
          "No Promo",
          "No Promo",
          "No Promo",
          "No Promo",
          "No Promo",
          "No Promo",
          "No Promo",
          "No Promo",
          "No Promo",
          "No Promo",
          "No Promo",
          "No Promo",
          "No Promo",
          "No Promo",
          "No Promo",
          "No Promo",
          "No Promo",
          "No Promo",
          "No Promo",
          "No Promo",
          "No Promo",
          "No Promo",
          "No Promo",
          "No Promo",
          "No Promo",
          "No Promo",
          "No Promo",
          "No Promo",
          "No Promo",
          "No Promo",
          "No Promo",
          "No Promo",
          "No Promo",
          "No Promo",
          "No Promo",
          "No Promo",
          "No Promo",
          "No Promo",
          "No Promo",
          "No Promo",
          "No Promo",
          "No Promo",
          "No Promo",
          "No Promo",
          "No Promo",
          "No Promo",
          "No Promo",
          "No Promo",
          "No Promo",
          "No Promo",
          "No Promo",
          "No Promo",
          "No Promo",
          "No Promo",
          "No Promo",
          "No Promo",
          "No Promo",
          "No Promo",
          "No Promo",
          "No Promo",
          "No Promo",
          "No Promo",
          "No Promo",
          "No Promo",
          "No Promo",
          "No Promo",
          "No Promo",
          "No Promo",
          "No Promo",
          "No Promo",
          "No Promo",
          "No Promo",
          "No Promo",
          "No Promo",
          "No Promo",
          "No Promo",
          "No Promo",
          "No Promo",
          "No Promo",
          "No Promo",
          "No Promo",
          "No Promo",
          "No Promo",
          "No Promo",
          "No Promo",
          "No Promo",
          "No Promo",
          "No Promo",
          "No Promo",
          "No Promo",
          "No Promo",
          "No Promo",
          "No Promo",
          "No Promo",
          "No Promo",
          "No Promo",
          "No Promo",
          "No Promo",
          "No Promo",
          "No Promo",
          "No Promo",
          "No Promo",
          "No Promo",
          "No Promo",
          "No Promo",
          "No Promo",
          "No Promo",
          "No Promo",
          "No Promo",
          "No Promo",
          "No Promo",
          "No Promo",
          "No Promo",
          "No Promo",
          "No Promo",
          "No Promo",
          "No Promo",
          "No Promo",
          "No Promo",
          "No Promo",
          "No Promo",
          "No Promo",
          "No Promo",
          "No Promo",
          "No Promo",
          "No Promo",
          "No Promo",
          "No Promo",
          "No Promo",
          "No Promo",
          "No Promo",
          "No Promo",
          "No Promo",
          "No Promo",
          "No Promo",
          "No Promo",
          "No Promo",
          "No Promo",
          "No Promo",
          "No Promo",
          "No Promo",
          "No Promo",
          "No Promo",
          "No Promo",
          "No Promo",
          "No Promo",
          "No Promo",
          "No Promo",
          "No Promo",
          "No Promo",
          "No Promo",
          "No Promo",
          "No Promo",
          "No Promo",
          "No Promo",
          "No Promo",
          "No Promo",
          "No Promo",
          "No Promo",
          "No Promo",
          "No Promo",
          "No Promo",
          "No Promo",
          "No Promo",
          "No Promo",
          "No Promo",
          "No Promo",
          "No Promo",
          "No Promo",
          "No Promo",
          "No Promo",
          "No Promo",
          "No Promo",
          "No Promo",
          "No Promo",
          "No Promo",
          "No Promo",
          "No Promo",
          "No Promo",
          "No Promo",
          "No Promo",
          "No Promo",
          "No Promo",
          "No Promo",
          "No Promo",
          "No Promo",
          "No Promo",
          "No Promo",
          "No Promo",
          "No Promo",
          "No Promo",
          "No Promo",
          "No Promo",
          "No Promo",
          "No Promo",
          "No Promo",
          "No Promo",
          "No Promo",
          "No Promo",
          "No Promo",
          "No Promo",
          "No Promo",
          "No Promo",
          "No Promo",
          "No Promo",
          "No Promo",
          "No Promo",
          "No Promo",
          "No Promo",
          "No Promo",
          "No Promo",
          "No Promo",
          "No Promo",
          "No Promo",
          "No Promo",
          "No Promo",
          "No Promo",
          "No Promo",
          "No Promo",
          "No Promo",
          "No Promo",
          "No Promo",
          "No Promo",
          "No Promo",
          "No Promo",
          "No Promo",
          "No Promo",
          "No Promo",
          "No Promo",
          "No Promo",
          "No Promo",
          "No Promo",
          "No Promo",
          "No Promo",
          "No Promo",
          "No Promo",
          "No Promo",
          "No Promo",
          "No Promo",
          "No Promo",
          "No Promo",
          "No Promo",
          "No Promo",
          "No Promo",
          "No Promo",
          "No Promo",
          "No Promo",
          "No Promo",
          "No Promo",
          "No Promo",
          "No Promo",
          "No Promo",
          "No Promo",
          "No Promo",
          "No Promo",
          "No Promo",
          "No Promo",
          "No Promo",
          "No Promo",
          "No Promo",
          "No Promo",
          "No Promo",
          "No Promo",
          "No Promo",
          "No Promo",
          "No Promo",
          "No Promo",
          "No Promo",
          "No Promo",
          "No Promo",
          "No Promo",
          "No Promo",
          "No Promo",
          "No Promo",
          "No Promo",
          "No Promo",
          "No Promo",
          "No Promo",
          "No Promo",
          "No Promo",
          "No Promo",
          "No Promo",
          "No Promo",
          "No Promo",
          "No Promo",
          "No Promo",
          "No Promo",
          "No Promo",
          "No Promo",
          "No Promo",
          "No Promo",
          "No Promo",
          "No Promo",
          "No Promo",
          "No Promo",
          "No Promo",
          "No Promo",
          "No Promo",
          "No Promo",
          "No Promo",
          "No Promo",
          "No Promo",
          "No Promo",
          "No Promo",
          "No Promo",
          "No Promo",
          "No Promo",
          "No Promo",
          "No Promo",
          "No Promo",
          "No Promo",
          "No Promo",
          "No Promo",
          "No Promo",
          "No Promo",
          "No Promo",
          "No Promo",
          "No Promo",
          "No Promo",
          "No Promo",
          "No Promo",
          "No Promo",
          "No Promo",
          "No Promo",
          "No Promo",
          "No Promo",
          "No Promo",
          "No Promo",
          "No Promo",
          "No Promo",
          "No Promo",
          "No Promo",
          "No Promo",
          "No Promo",
          "No Promo",
          "No Promo",
          "No Promo",
          "No Promo",
          "No Promo",
          "No Promo",
          "No Promo",
          "No Promo",
          "No Promo",
          "No Promo",
          "No Promo",
          "No Promo",
          "No Promo",
          "No Promo",
          "No Promo",
          "No Promo",
          "No Promo",
          "No Promo",
          "No Promo",
          "No Promo",
          "No Promo",
          "No Promo",
          "No Promo",
          "No Promo",
          "No Promo",
          "No Promo",
          "No Promo",
          "No Promo",
          "No Promo",
          "No Promo",
          "No Promo",
          "No Promo",
          "No Promo",
          "No Promo",
          "No Promo",
          "No Promo",
          "No Promo",
          "No Promo",
          "No Promo",
          "No Promo",
          "No Promo",
          "No Promo",
          "No Promo",
          "No Promo",
          "No Promo",
          "No Promo",
          "No Promo",
          "No Promo",
          "No Promo",
          "No Promo",
          "No Promo",
          "No Promo",
          "No Promo",
          "No Promo",
          "No Promo",
          "No Promo",
          "No Promo",
          "No Promo",
          "No Promo",
          "No Promo",
          "No Promo",
          "No Promo",
          "No Promo",
          "No Promo",
          "No Promo",
          "No Promo",
          "No Promo",
          "No Promo",
          "No Promo",
          "No Promo",
          "No Promo",
          "No Promo",
          "No Promo",
          "No Promo",
          "No Promo",
          "No Promo",
          "No Promo",
          "No Promo",
          "No Promo",
          "No Promo",
          "No Promo",
          "No Promo",
          "No Promo",
          "No Promo",
          "No Promo",
          "No Promo",
          "No Promo",
          "No Promo",
          "No Promo",
          "No Promo",
          "No Promo",
          "No Promo",
          "No Promo",
          "No Promo",
          "No Promo",
          "No Promo",
          "No Promo",
          "No Promo",
          "No Promo",
          "No Promo",
          "No Promo",
          "No Promo",
          "No Promo",
          "No Promo",
          "No Promo",
          "No Promo",
          "No Promo",
          "No Promo",
          "No Promo",
          "No Promo",
          "No Promo",
          "No Promo",
          "No Promo",
          "No Promo",
          "No Promo",
          "No Promo",
          "No Promo",
          "No Promo",
          "No Promo",
          "No Promo",
          "No Promo",
          "No Promo",
          "No Promo",
          "No Promo",
          "No Promo",
          "No Promo",
          "No Promo",
          "No Promo",
          "No Promo",
          "No Promo",
          "No Promo",
          "No Promo",
          "No Promo",
          "No Promo",
          "No Promo",
          "No Promo",
          "No Promo",
          "No Promo",
          "No Promo",
          "No Promo",
          "No Promo",
          "No Promo",
          "No Promo",
          "No Promo",
          "No Promo",
          "No Promo",
          "No Promo",
          "No Promo",
          "No Promo",
          "No Promo",
          "No Promo",
          "No Promo",
          "No Promo",
          "No Promo",
          "No Promo",
          "No Promo",
          "No Promo",
          "No Promo",
          "No Promo",
          "No Promo",
          "No Promo",
          "No Promo",
          "No Promo",
          "No Promo",
          "No Promo",
          "No Promo",
          "No Promo",
          "No Promo",
          "No Promo",
          "No Promo",
          "No Promo",
          "No Promo",
          "No Promo",
          "No Promo",
          "No Promo",
          "No Promo",
          "No Promo",
          "No Promo",
          "No Promo",
          "No Promo",
          "No Promo",
          "No Promo",
          "No Promo",
          "No Promo",
          "No Promo",
          "No Promo",
          "No Promo",
          "No Promo",
          "No Promo",
          "No Promo",
          "No Promo",
          "No Promo",
          "No Promo",
          "No Promo",
          "No Promo",
          "No Promo",
          "No Promo",
          "No Promo",
          "No Promo",
          "No Promo",
          "No Promo",
          "No Promo",
          "No Promo",
          "No Promo",
          "No Promo",
          "No Promo",
          "No Promo",
          "No Promo",
          "No Promo",
          "No Promo",
          "No Promo",
          "No Promo",
          "No Promo",
          "No Promo",
          "No Promo",
          "No Promo",
          "No Promo",
          "No Promo",
          "No Promo",
          "No Promo",
          "No Promo",
          "No Promo",
          "No Promo",
          "No Promo",
          "No Promo",
          "No Promo",
          "No Promo",
          "No Promo",
          "No Promo",
          "No Promo",
          "No Promo",
          "No Promo",
          "No Promo",
          "No Promo",
          "No Promo",
          "No Promo",
          "No Promo",
          "No Promo",
          "No Promo",
          "No Promo",
          "No Promo",
          "No Promo",
          "No Promo",
          "No Promo",
          "No Promo",
          "No Promo",
          "No Promo",
          "No Promo",
          "No Promo",
          "No Promo",
          "No Promo",
          "No Promo",
          "No Promo",
          "No Promo",
          "No Promo",
          "No Promo",
          "No Promo",
          "No Promo",
          "No Promo",
          "No Promo",
          "No Promo",
          "No Promo",
          "No Promo",
          "No Promo",
          "No Promo",
          "No Promo",
          "No Promo",
          "No Promo",
          "No Promo",
          "No Promo",
          "No Promo",
          "No Promo",
          "No Promo",
          "No Promo",
          "No Promo",
          "No Promo",
          "No Promo",
          "No Promo",
          "No Promo",
          "No Promo",
          "No Promo",
          "No Promo",
          "No Promo",
          "No Promo",
          "No Promo",
          "No Promo",
          "No Promo",
          "No Promo",
          "No Promo",
          "No Promo",
          "No Promo",
          "No Promo",
          "No Promo",
          "No Promo",
          "No Promo",
          "No Promo",
          "No Promo",
          "No Promo",
          "No Promo",
          "No Promo",
          "No Promo",
          "No Promo",
          "No Promo",
          "No Promo",
          "No Promo",
          "No Promo",
          "No Promo",
          "No Promo",
          "No Promo",
          "No Promo",
          "No Promo",
          "No Promo",
          "No Promo",
          "No Promo",
          "No Promo",
          "No Promo",
          "No Promo",
          "No Promo",
          "No Promo",
          "No Promo",
          "No Promo",
          "No Promo",
          "No Promo",
          "No Promo",
          "No Promo",
          "No Promo",
          "No Promo",
          "No Promo",
          "No Promo",
          "No Promo",
          "No Promo",
          "No Promo",
          "No Promo",
          "No Promo",
          "No Promo",
          "No Promo",
          "No Promo",
          "No Promo",
          "No Promo",
          "No Promo",
          "No Promo",
          "No Promo",
          "No Promo",
          "No Promo",
          "No Promo",
          "No Promo",
          "No Promo",
          "No Promo",
          "No Promo",
          "No Promo",
          "No Promo",
          "No Promo",
          "No Promo",
          "No Promo",
          "No Promo",
          "No Promo",
          "No Promo",
          "No Promo",
          "No Promo",
          "No Promo",
          "No Promo",
          "No Promo",
          "No Promo",
          "No Promo",
          "No Promo",
          "No Promo",
          "No Promo",
          "No Promo",
          "No Promo",
          "No Promo",
          "No Promo",
          "No Promo",
          "No Promo",
          "No Promo",
          "No Promo",
          "No Promo",
          "No Promo",
          "No Promo",
          "No Promo",
          "No Promo",
          "No Promo",
          "No Promo",
          "No Promo",
          "No Promo",
          "No Promo",
          "No Promo",
          "No Promo",
          "No Promo",
          "No Promo",
          "No Promo",
          "No Promo",
          "No Promo",
          "No Promo",
          "No Promo",
          "No Promo",
          "No Promo",
          "No Promo",
          "No Promo",
          "No Promo",
          "No Promo",
          "No Promo",
          "No Promo",
          "No Promo",
          "No Promo",
          "No Promo",
          "No Promo",
          "No Promo",
          "No Promo",
          "No Promo",
          "No Promo",
          "No Promo",
          "No Promo",
          "No Promo",
          "No Promo",
          "No Promo",
          "No Promo",
          "No Promo",
          "No Promo",
          "No Promo",
          "No Promo",
          "No Promo",
          "No Promo",
          "No Promo",
          "No Promo",
          "No Promo",
          "No Promo",
          "No Promo",
          "No Promo",
          "No Promo",
          "No Promo",
          "No Promo",
          "No Promo",
          "No Promo",
          "No Promo",
          "No Promo",
          "No Promo",
          "No Promo",
          "No Promo",
          "No Promo",
          "No Promo",
          "No Promo",
          "No Promo",
          "No Promo",
          "No Promo",
          "No Promo",
          "No Promo",
          "No Promo",
          "No Promo",
          "No Promo",
          "No Promo",
          "No Promo",
          "No Promo",
          "No Promo",
          "No Promo",
          "No Promo",
          "No Promo",
          "No Promo",
          "No Promo",
          "No Promo",
          "No Promo",
          "No Promo",
          "No Promo",
          "No Promo",
          "No Promo",
          "No Promo",
          "No Promo",
          "No Promo",
          "No Promo",
          "No Promo",
          "No Promo",
          "No Promo",
          "No Promo",
          "No Promo",
          "No Promo",
          "No Promo",
          "No Promo",
          "No Promo",
          "No Promo",
          "No Promo",
          "No Promo",
          "No Promo",
          "No Promo",
          "No Promo",
          "No Promo",
          "No Promo",
          "No Promo",
          "No Promo",
          "No Promo",
          "No Promo",
          "No Promo",
          "No Promo",
          "No Promo",
          "No Promo",
          "No Promo",
          "No Promo",
          "No Promo",
          "No Promo",
          "No Promo",
          "No Promo",
          "No Promo",
          "No Promo",
          "No Promo",
          "No Promo",
          "No Promo",
          "No Promo",
          "No Promo",
          "No Promo",
          "No Promo",
          "No Promo",
          "No Promo",
          "No Promo",
          "No Promo",
          "No Promo",
          "No Promo",
          "No Promo",
          "No Promo",
          "No Promo",
          "No Promo",
          "No Promo",
          "No Promo",
          "No Promo",
          "No Promo",
          "No Promo",
          "No Promo",
          "No Promo",
          "No Promo",
          "No Promo",
          "No Promo",
          "No Promo",
          "No Promo",
          "No Promo",
          "No Promo",
          "No Promo",
          "No Promo",
          "No Promo",
          "No Promo",
          "No Promo",
          "No Promo",
          "No Promo",
          "No Promo",
          "No Promo",
          "No Promo",
          "No Promo",
          "No Promo",
          "No Promo",
          "No Promo",
          "No Promo",
          "No Promo",
          "No Promo",
          "No Promo",
          "No Promo",
          "No Promo",
          "No Promo",
          "No Promo",
          "No Promo",
          "No Promo",
          "No Promo",
          "No Promo",
          "No Promo",
          "No Promo",
          "No Promo",
          "No Promo",
          "No Promo",
          "No Promo",
          "No Promo",
          "No Promo",
          "No Promo",
          "No Promo",
          "No Promo",
          "No Promo",
          "No Promo",
          "No Promo",
          "No Promo",
          "No Promo",
          "No Promo",
          "No Promo",
          "No Promo",
          "No Promo",
          "No Promo",
          "No Promo",
          "No Promo",
          "No Promo",
          "No Promo",
          "No Promo",
          "No Promo",
          "No Promo",
          "No Promo",
          "No Promo",
          "No Promo",
          "No Promo",
          "No Promo",
          "No Promo",
          "No Promo",
          "No Promo",
          "No Promo",
          "No Promo",
          "No Promo",
          "No Promo",
          "No Promo",
          "No Promo",
          "No Promo",
          "No Promo",
          "No Promo",
          "No Promo",
          "No Promo",
          "No Promo",
          "No Promo",
          "No Promo",
          "No Promo",
          "No Promo",
          "No Promo",
          "No Promo",
          "No Promo",
          "No Promo",
          "No Promo",
          "No Promo",
          "No Promo",
          "No Promo",
          "No Promo",
          "No Promo",
          "No Promo",
          "No Promo",
          "No Promo",
          "No Promo",
          "No Promo",
          "No Promo",
          "No Promo",
          "No Promo",
          "No Promo",
          "No Promo",
          "No Promo",
          "No Promo",
          "No Promo",
          "No Promo",
          "No Promo",
          "No Promo",
          "No Promo",
          "No Promo",
          "No Promo",
          "No Promo",
          "No Promo",
          "No Promo",
          "No Promo",
          "No Promo",
          "No Promo",
          "No Promo",
          "No Promo",
          "No Promo",
          "No Promo",
          "No Promo",
          "No Promo",
          "No Promo",
          "No Promo",
          "No Promo",
          "No Promo",
          "No Promo",
          "No Promo",
          "No Promo",
          "No Promo",
          "No Promo",
          "No Promo",
          "No Promo",
          "No Promo",
          "No Promo",
          "No Promo",
          "No Promo",
          "No Promo",
          "No Promo",
          "No Promo",
          "No Promo",
          "No Promo",
          "No Promo",
          "No Promo",
          "No Promo",
          "No Promo",
          "No Promo",
          "No Promo",
          "No Promo",
          "No Promo",
          "No Promo",
          "No Promo",
          "No Promo",
          "No Promo",
          "No Promo",
          "No Promo",
          "No Promo",
          "No Promo",
          "No Promo",
          "No Promo",
          "No Promo",
          "No Promo",
          "No Promo",
          "No Promo",
          "No Promo",
          "No Promo",
          "No Promo",
          "No Promo",
          "No Promo",
          "No Promo",
          "No Promo",
          "No Promo",
          "No Promo",
          "No Promo",
          "No Promo",
          "No Promo",
          "No Promo",
          "No Promo",
          "No Promo",
          "No Promo",
          "No Promo",
          "No Promo",
          "No Promo",
          "No Promo",
          "No Promo",
          "No Promo",
          "No Promo",
          "No Promo",
          "No Promo",
          "No Promo",
          "No Promo",
          "No Promo",
          "No Promo",
          "No Promo",
          "No Promo",
          "No Promo",
          "No Promo",
          "No Promo",
          "No Promo",
          "No Promo",
          "No Promo",
          "No Promo",
          "No Promo",
          "No Promo",
          "No Promo",
          "No Promo",
          "No Promo",
          "No Promo",
          "No Promo",
          "No Promo",
          "No Promo",
          "No Promo",
          "No Promo",
          "No Promo",
          "No Promo",
          "No Promo",
          "No Promo",
          "No Promo",
          "No Promo",
          "No Promo",
          "No Promo",
          "No Promo",
          "No Promo",
          "No Promo",
          "No Promo",
          "No Promo",
          "No Promo",
          "No Promo",
          "No Promo",
          "No Promo",
          "No Promo",
          "No Promo",
          "No Promo",
          "No Promo",
          "No Promo",
          "No Promo",
          "No Promo",
          "No Promo",
          "No Promo",
          "No Promo",
          "No Promo",
          "No Promo",
          "No Promo",
          "No Promo",
          "No Promo",
          "No Promo",
          "No Promo",
          "No Promo",
          "No Promo",
          "No Promo",
          "No Promo",
          "No Promo",
          "No Promo",
          "No Promo",
          "No Promo",
          "No Promo",
          "No Promo",
          "No Promo",
          "No Promo",
          "No Promo",
          "No Promo",
          "No Promo",
          "No Promo",
          "No Promo",
          "No Promo",
          "No Promo",
          "No Promo",
          "No Promo",
          "No Promo",
          "No Promo",
          "No Promo",
          "No Promo",
          "No Promo",
          "No Promo",
          "No Promo",
          "No Promo",
          "No Promo",
          "No Promo",
          "No Promo",
          "No Promo",
          "No Promo",
          "No Promo",
          "No Promo",
          "No Promo",
          "No Promo",
          "No Promo",
          "No Promo",
          "No Promo",
          "No Promo",
          "No Promo",
          "No Promo",
          "No Promo",
          "No Promo",
          "No Promo",
          "No Promo",
          "No Promo",
          "No Promo",
          "No Promo",
          "No Promo",
          "No Promo",
          "No Promo",
          "No Promo",
          "No Promo",
          "No Promo",
          "No Promo",
          "No Promo",
          "No Promo",
          "No Promo",
          "No Promo",
          "No Promo",
          "No Promo",
          "No Promo",
          "No Promo",
          "No Promo",
          "No Promo",
          "No Promo",
          "No Promo",
          "No Promo",
          "No Promo",
          "No Promo",
          "No Promo",
          "No Promo",
          "No Promo",
          "No Promo",
          "No Promo",
          "No Promo",
          "No Promo",
          "No Promo",
          "No Promo",
          "No Promo",
          "No Promo",
          "No Promo",
          "No Promo",
          "No Promo",
          "No Promo",
          "No Promo",
          "No Promo",
          "No Promo",
          "No Promo",
          "No Promo",
          "No Promo",
          "No Promo",
          "No Promo",
          "No Promo",
          "No Promo",
          "No Promo",
          "No Promo",
          "No Promo",
          "No Promo",
          "No Promo",
          "No Promo",
          "No Promo",
          "No Promo",
          "No Promo",
          "No Promo",
          "No Promo",
          "No Promo",
          "No Promo",
          "No Promo",
          "No Promo",
          "No Promo",
          "No Promo",
          "No Promo",
          "No Promo",
          "No Promo",
          "No Promo",
          "No Promo",
          "No Promo",
          "No Promo",
          "No Promo",
          "No Promo",
          "No Promo",
          "No Promo",
          "No Promo",
          "No Promo",
          "No Promo",
          "No Promo",
          "No Promo",
          "No Promo",
          "No Promo",
          "No Promo",
          "No Promo",
          "No Promo",
          "No Promo",
          "No Promo",
          "No Promo",
          "No Promo",
          "No Promo",
          "No Promo",
          "No Promo",
          "No Promo",
          "No Promo",
          "No Promo",
          "No Promo",
          "No Promo",
          "No Promo",
          "No Promo",
          "No Promo",
          "No Promo",
          "No Promo",
          "No Promo",
          "No Promo",
          "No Promo",
          "No Promo",
          "No Promo",
          "No Promo",
          "No Promo",
          "No Promo",
          "No Promo",
          "No Promo",
          "No Promo",
          "No Promo",
          "No Promo",
          "No Promo",
          "No Promo",
          "No Promo",
          "No Promo",
          "No Promo",
          "No Promo",
          "No Promo",
          "No Promo",
          "No Promo",
          "No Promo",
          "No Promo",
          "No Promo",
          "No Promo",
          "No Promo",
          "No Promo",
          "No Promo",
          "No Promo",
          "No Promo",
          "No Promo",
          "No Promo",
          "No Promo",
          "No Promo",
          "No Promo",
          "No Promo",
          "No Promo",
          "No Promo",
          "No Promo",
          "No Promo",
          "No Promo",
          "No Promo",
          "No Promo",
          "No Promo",
          "No Promo",
          "No Promo",
          "No Promo",
          "No Promo",
          "No Promo",
          "No Promo",
          "No Promo",
          "No Promo",
          "No Promo",
          "No Promo",
          "No Promo",
          "No Promo",
          "No Promo",
          "No Promo",
          "No Promo",
          "No Promo",
          "No Promo",
          "No Promo",
          "No Promo",
          "No Promo",
          "No Promo",
          "No Promo",
          "No Promo",
          "No Promo",
          "No Promo",
          "No Promo",
          "No Promo",
          "No Promo",
          "No Promo",
          "No Promo",
          "No Promo",
          "No Promo",
          "No Promo",
          "No Promo",
          "No Promo",
          "No Promo",
          "No Promo",
          "No Promo",
          "No Promo",
          "No Promo",
          "No Promo",
          "No Promo",
          "No Promo",
          "No Promo",
          "No Promo",
          "No Promo",
          "No Promo",
          "No Promo",
          "No Promo",
          "No Promo",
          "No Promo",
          "No Promo",
          "No Promo",
          "No Promo",
          "No Promo",
          "No Promo",
          "No Promo",
          "No Promo",
          "No Promo",
          "No Promo",
          "No Promo",
          "No Promo",
          "No Promo",
          "No Promo",
          "No Promo",
          "No Promo",
          "No Promo",
          "No Promo",
          "No Promo",
          "No Promo",
          "No Promo",
          "No Promo",
          "No Promo",
          "No Promo",
          "No Promo",
          "No Promo",
          "No Promo",
          "No Promo",
          "No Promo",
          "No Promo",
          "No Promo",
          "No Promo",
          "No Promo",
          "No Promo",
          "No Promo",
          "No Promo",
          "No Promo",
          "No Promo",
          "No Promo",
          "No Promo",
          "No Promo",
          "No Promo",
          "No Promo",
          "No Promo",
          "No Promo",
          "No Promo",
          "No Promo",
          "No Promo",
          "No Promo",
          "No Promo",
          "No Promo",
          "No Promo",
          "No Promo",
          "No Promo",
          "No Promo",
          "No Promo",
          "No Promo",
          "No Promo",
          "No Promo",
          "No Promo",
          "No Promo",
          "No Promo",
          "No Promo",
          "No Promo",
          "No Promo",
          "No Promo",
          "No Promo",
          "No Promo",
          "No Promo",
          "No Promo",
          "No Promo",
          "No Promo",
          "No Promo",
          "No Promo",
          "No Promo",
          "No Promo",
          "No Promo",
          "No Promo",
          "No Promo",
          "No Promo",
          "No Promo",
          "No Promo",
          "No Promo",
          "No Promo",
          "No Promo",
          "No Promo",
          "No Promo",
          "No Promo",
          "No Promo",
          "No Promo",
          "No Promo",
          "No Promo",
          "No Promo",
          "No Promo",
          "No Promo",
          "No Promo",
          "No Promo",
          "No Promo",
          "No Promo",
          "No Promo",
          "No Promo",
          "No Promo",
          "No Promo",
          "No Promo",
          "No Promo",
          "No Promo",
          "No Promo",
          "No Promo",
          "No Promo",
          "No Promo",
          "No Promo",
          "No Promo",
          "No Promo",
          "No Promo",
          "No Promo",
          "No Promo",
          "No Promo",
          "No Promo",
          "No Promo",
          "No Promo",
          "No Promo",
          "No Promo",
          "No Promo",
          "No Promo",
          "No Promo",
          "No Promo",
          "No Promo",
          "No Promo",
          "No Promo",
          "No Promo",
          "No Promo",
          "No Promo",
          "No Promo",
          "No Promo",
          "No Promo",
          "No Promo",
          "No Promo",
          "No Promo",
          "No Promo",
          "No Promo",
          "No Promo",
          "No Promo",
          "No Promo",
          "No Promo",
          "No Promo",
          "No Promo",
          "No Promo",
          "No Promo",
          "No Promo",
          "No Promo",
          "No Promo",
          "No Promo",
          "No Promo",
          "No Promo",
          "No Promo",
          "No Promo",
          "No Promo",
          "No Promo",
          "No Promo",
          "No Promo",
          "No Promo",
          "No Promo",
          "No Promo",
          "No Promo",
          "No Promo",
          "No Promo",
          "No Promo",
          "No Promo",
          "No Promo",
          "No Promo",
          "No Promo",
          "No Promo",
          "No Promo",
          "No Promo",
          "No Promo",
          "No Promo",
          "No Promo",
          "No Promo",
          "No Promo",
          "No Promo",
          "No Promo",
          "No Promo",
          "No Promo",
          "No Promo",
          "No Promo",
          "No Promo",
          "No Promo",
          "No Promo",
          "No Promo",
          "No Promo",
          "No Promo",
          "No Promo",
          "No Promo",
          "No Promo",
          "No Promo",
          "No Promo",
          "No Promo",
          "No Promo",
          "No Promo",
          "No Promo",
          "No Promo",
          "No Promo",
          "No Promo",
          "No Promo",
          "No Promo",
          "No Promo",
          "No Promo",
          "No Promo",
          "No Promo",
          "No Promo",
          "No Promo",
          "No Promo",
          "No Promo",
          "No Promo",
          "No Promo",
          "No Promo",
          "No Promo",
          "No Promo",
          "No Promo",
          "No Promo",
          "No Promo",
          "No Promo",
          "No Promo",
          "No Promo",
          "No Promo",
          "No Promo",
          "No Promo",
          "No Promo",
          "No Promo",
          "No Promo",
          "No Promo",
          "No Promo",
          "No Promo",
          "No Promo",
          "No Promo",
          "No Promo",
          "No Promo",
          "No Promo",
          "No Promo",
          "No Promo",
          "No Promo",
          "No Promo",
          "No Promo",
          "No Promo",
          "No Promo",
          "No Promo",
          "No Promo",
          "No Promo",
          "No Promo",
          "No Promo",
          "No Promo",
          "No Promo",
          "No Promo",
          "No Promo",
          "No Promo",
          "No Promo",
          "No Promo",
          "No Promo",
          "No Promo",
          "No Promo",
          "No Promo",
          "No Promo",
          "No Promo",
          "No Promo",
          "No Promo",
          "No Promo",
          "No Promo",
          "No Promo",
          "No Promo",
          "No Promo",
          "No Promo",
          "No Promo",
          "No Promo",
          "No Promo",
          "No Promo",
          "No Promo",
          "No Promo",
          "No Promo",
          "No Promo",
          "No Promo",
          "No Promo",
          "No Promo",
          "No Promo",
          "No Promo",
          "No Promo",
          "No Promo",
          "No Promo",
          "No Promo",
          "No Promo",
          "No Promo",
          "No Promo",
          "No Promo",
          "No Promo",
          "No Promo",
          "No Promo",
          "No Promo",
          "No Promo",
          "No Promo",
          "No Promo",
          "No Promo",
          "No Promo",
          "No Promo",
          "No Promo",
          "No Promo",
          "No Promo",
          "No Promo",
          "No Promo",
          "No Promo",
          "No Promo",
          "No Promo",
          "No Promo",
          "No Promo",
          "No Promo",
          "No Promo",
          "No Promo",
          "No Promo",
          "No Promo",
          "No Promo",
          "No Promo",
          "No Promo",
          "No Promo",
          "No Promo",
          "No Promo",
          "No Promo",
          "No Promo",
          "No Promo",
          "No Promo",
          "No Promo",
          "No Promo",
          "No Promo",
          "No Promo",
          "No Promo",
          "No Promo",
          "No Promo",
          "No Promo",
          "No Promo",
          "No Promo",
          "No Promo",
          "No Promo",
          "No Promo",
          "No Promo",
          "No Promo",
          "No Promo",
          "No Promo",
          "No Promo",
          "No Promo",
          "No Promo",
          "No Promo",
          "No Promo",
          "No Promo",
          "No Promo",
          "No Promo",
          "No Promo",
          "No Promo",
          "No Promo",
          "No Promo",
          "No Promo",
          "No Promo",
          "No Promo",
          "No Promo",
          "No Promo",
          "No Promo"
         ],
         "x0": " ",
         "xaxis": "x",
         "y": [
          11,
          19,
          17,
          17,
          17,
          13,
          8,
          8,
          5,
          6,
          9,
          4,
          13,
          7,
          9,
          4,
          5,
          9,
          7,
          8,
          11,
          5,
          8,
          7,
          10,
          7,
          5,
          5,
          13,
          4,
          7,
          10,
          7,
          5,
          6,
          11,
          12,
          4,
          9,
          11,
          8,
          8,
          17,
          8,
          7,
          7,
          9,
          3,
          10,
          7,
          13,
          11,
          6,
          5,
          7,
          3,
          10,
          14,
          26,
          16,
          13,
          15,
          13,
          20,
          23,
          21,
          21,
          22,
          21,
          23,
          16,
          15,
          18,
          10,
          16,
          16,
          15,
          21,
          19,
          9,
          6,
          2,
          2,
          6,
          2,
          8,
          3,
          3,
          1,
          3,
          3,
          8,
          2,
          3,
          7,
          2,
          8,
          8,
          2,
          3,
          6,
          5,
          3,
          7,
          7,
          3,
          1,
          6,
          5,
          7,
          6,
          9,
          3,
          3,
          9,
          2,
          6,
          4,
          5,
          7,
          13,
          3,
          6,
          5,
          1,
          6,
          6,
          6,
          2,
          2,
          3,
          3,
          5,
          8,
          2,
          3,
          6,
          2,
          9,
          8,
          8,
          48,
          27,
          52,
          34,
          9,
          9,
          12,
          10,
          18,
          16,
          11,
          12,
          15,
          17,
          15,
          12,
          14,
          2,
          4,
          5,
          8,
          7,
          6,
          5,
          5,
          4,
          10,
          9,
          11,
          11,
          6,
          3,
          38,
          18,
          17,
          8,
          9,
          12,
          14,
          5,
          7,
          3,
          8,
          3,
          3,
          8,
          9,
          7,
          5,
          6,
          8,
          11,
          3,
          10,
          6,
          9,
          8,
          5,
          7,
          3,
          6,
          5,
          8,
          7,
          12,
          11,
          12,
          4,
          9,
          6,
          9,
          3,
          3,
          10,
          4,
          10,
          6,
          10,
          2,
          6,
          9,
          7,
          6,
          5,
          9,
          7,
          5,
          6,
          12,
          6,
          7,
          5,
          8,
          16,
          7,
          8,
          11,
          13,
          14,
          16,
          12,
          6,
          13,
          8,
          14,
          18,
          13,
          15,
          20,
          14,
          25,
          13,
          22,
          14,
          9,
          11,
          28,
          7,
          8,
          11,
          6,
          7,
          8,
          3,
          7,
          9,
          3,
          6,
          7,
          6,
          4,
          7,
          1,
          2,
          1,
          7,
          6,
          5,
          4,
          2,
          4,
          5,
          5,
          5,
          6,
          7,
          2,
          7,
          6,
          7,
          7,
          7,
          4,
          13,
          11,
          14,
          8,
          8,
          12,
          10,
          17,
          14,
          4,
          7,
          6,
          14,
          5,
          8,
          1,
          3,
          1,
          5,
          2,
          5,
          5,
          8,
          5,
          4,
          3,
          1,
          6,
          1,
          5,
          8,
          2,
          8,
          7,
          16,
          24,
          12,
          21,
          5,
          8,
          7,
          12,
          28,
          11,
          8,
          10,
          17,
          9,
          5,
          8,
          9,
          7,
          9,
          9,
          15,
          11,
          15,
          10,
          17,
          17,
          27,
          23,
          14,
          39,
          10,
          15,
          13,
          15,
          18,
          7,
          11,
          10,
          28,
          3,
          4,
          5,
          7,
          4,
          9,
          7,
          18,
          15,
          8,
          19,
          25,
          21,
          9,
          17,
          11,
          22,
          10,
          23,
          7,
          10,
          9,
          10,
          5,
          11,
          4,
          6,
          5,
          4,
          11,
          13,
          13,
          16,
          20,
          30,
          18,
          23,
          11,
          14,
          16,
          14,
          15,
          16,
          19,
          18,
          22,
          11,
          10,
          7,
          9,
          15,
          12,
          10,
          9,
          10,
          23,
          12,
          15,
          34,
          32,
          46,
          37,
          48,
          61,
          63,
          48,
          38,
          111,
          45,
          119,
          63,
          102,
          50,
          98,
          48,
          39,
          68,
          70,
          72,
          100,
          107,
          56,
          66,
          86,
          21,
          32,
          21,
          48,
          85,
          12,
          44,
          51,
          54,
          72,
          77,
          48,
          83,
          77,
          69,
          108,
          81,
          146,
          86,
          141,
          87,
          274,
          141,
          102,
          94,
          59,
          114,
          77,
          61,
          13,
          18,
          5,
          6,
          3,
          6,
          3,
          7,
          3,
          6,
          21,
          22,
          24,
          24,
          21,
          44,
          42,
          97,
          25,
          45,
          148,
          239,
          137,
          45,
          31,
          226,
          631,
          35,
          68,
          321,
          511,
          30,
          25,
          42,
          56,
          134,
          200,
          28,
          724,
          14,
          14,
          15,
          26,
          18,
          23,
          37,
          20,
          13,
          32,
          14,
          20,
          24,
          15,
          12,
          23,
          29,
          28,
          18,
          24,
          16,
          32,
          21,
          24,
          13,
          39,
          39,
          22,
          24,
          42,
          22,
          26,
          42,
          33,
          32,
          30,
          15,
          13,
          48,
          85,
          46,
          61,
          78,
          83,
          59,
          87,
          104,
          48,
          110,
          94,
          98,
          74,
          113,
          60,
          80,
          89,
          19,
          50,
          20,
          7,
          7,
          10,
          12,
          15,
          11,
          5,
          8,
          16,
          13,
          12,
          7,
          16,
          10,
          7,
          12,
          12,
          16,
          15,
          16,
          37,
          20,
          43,
          41,
          42,
          28,
          24,
          17,
          17,
          31,
          19,
          19,
          21,
          16,
          17,
          31,
          39,
          19,
          11,
          18,
          18,
          28,
          10,
          8,
          11,
          18,
          16,
          8,
          23,
          27,
          14,
          273,
          14,
          19,
          14,
          25,
          21,
          114,
          12,
          18,
          14,
          121,
          174,
          93,
          31,
          132,
          27,
          23,
          7,
          68,
          27,
          28,
          13,
          20,
          79,
          102,
          13,
          51,
          87,
          36,
          53,
          11,
          41,
          155,
          67,
          22,
          93,
          61,
          20,
          18,
          77,
          22,
          27,
          24,
          30,
          35,
          24,
          304,
          208,
          109,
          26,
          32,
          34,
          140,
          30,
          28,
          106,
          41,
          34,
          26,
          168,
          231,
          37,
          34,
          39,
          167,
          114,
          95,
          156,
          42,
          55,
          54,
          179,
          135,
          11,
          9,
          8,
          8,
          8,
          12,
          18,
          13,
          11,
          9,
          13,
          14,
          11,
          6,
          15,
          7,
          14,
          13,
          5,
          12,
          13,
          12,
          13,
          10,
          13,
          14,
          14,
          6,
          13,
          16,
          19,
          11,
          21,
          14,
          10,
          19,
          12,
          5,
          14,
          10,
          69,
          34,
          10,
          10,
          8,
          9,
          31,
          86,
          18,
          9,
          17,
          22,
          11,
          33,
          38,
          24,
          30,
          44,
          37,
          16,
          20,
          23,
          33,
          28,
          29,
          107,
          58,
          40,
          25,
          25,
          43,
          31,
          19,
          19,
          23,
          23,
          115,
          19,
          12,
          10,
          10,
          11,
          14,
          9,
          13,
          18,
          7,
          17,
          10,
          12,
          14,
          20,
          25,
          15,
          17,
          10,
          23,
          15,
          10,
          10,
          38,
          5,
          7,
          11,
          9,
          13,
          19,
          5,
          20,
          3,
          12,
          14,
          25,
          19,
          15,
          13,
          7,
          6,
          15,
          14,
          19,
          14,
          18,
          16,
          26,
          20,
          8,
          4,
          15,
          10,
          12,
          8,
          16,
          7,
          11,
          9,
          16,
          12,
          26,
          17,
          11,
          11,
          17,
          18,
          18,
          17,
          13,
          12,
          18,
          16,
          19,
          19,
          23,
          29,
          17,
          18,
          28,
          28,
          17,
          24,
          28,
          14,
          19,
          22,
          15,
          21,
          17,
          16,
          14,
          24,
          49,
          37,
          48,
          36,
          13,
          20,
          17,
          21,
          38,
          22,
          42,
          26,
          36,
          72,
          63,
          56,
          20,
          30,
          19,
          26,
          31,
          36,
          76,
          69,
          37,
          109,
          82,
          77,
          15,
          49,
          44,
          53,
          16,
          11,
          14,
          14,
          10,
          13,
          27,
          30,
          24,
          74,
          40,
          78,
          60,
          40,
          75,
          66,
          79,
          36,
          58,
          62,
          114,
          90,
          99,
          2698,
          30,
          28,
          43,
          36,
          128,
          71,
          549,
          66,
          53,
          57,
          16,
          40,
          215,
          37,
          109,
          131,
          2489,
          88,
          34,
          37,
          94,
          41,
          25,
          48,
          49,
          36,
          29,
          37,
          46,
          59,
          40,
          46,
          26,
          29,
          51,
          26,
          44,
          46,
          364,
          15,
          14,
          8,
          8,
          7,
          24,
          17,
          24,
          13,
          6,
          16,
          6,
          11,
          4,
          7,
          10,
          10,
          6,
          11,
          12,
          15,
          6,
          9,
          10,
          21,
          10,
          14,
          8,
          4,
          1,
          10,
          18,
          14,
          25,
          5,
          17,
          8,
          8,
          7,
          16,
          121,
          12,
          10,
          17,
          11,
          15,
          15,
          16,
          7,
          7,
          40,
          12,
          11,
          50,
          99,
          12,
          6,
          8,
          17,
          9,
          7,
          8,
          9,
          9,
          9,
          8,
          9,
          12,
          8,
          13,
          12,
          9,
          23,
          4,
          11,
          6,
          3,
          10,
          19,
          11,
          16,
          8,
          18,
          12,
          6,
          11,
          11,
          19,
          8,
          11,
          9,
          14,
          5,
          13,
          12,
          10,
          8,
          8,
          8,
          6,
          7,
          9,
          14,
          9,
          17,
          11,
          6,
          7,
          10,
          14,
          11,
          13,
          9,
          8,
          7,
          21,
          11,
          18,
          18,
          15,
          20,
          24,
          5,
          8,
          10,
          8,
          13,
          24,
          17,
          13,
          5,
          7,
          16,
          15,
          14,
          19,
          14,
          12,
          16,
          28,
          19,
          17,
          24,
          11,
          16,
          17,
          19,
          14,
          18,
          13,
          29,
          18,
          26,
          18,
          18,
          22,
          23,
          11,
          24,
          5,
          27,
          41,
          17,
          28,
          24,
          40,
          49,
          8,
          23,
          25,
          21,
          11,
          32,
          51,
          24,
          24,
          27,
          25,
          14,
          22,
          19,
          19,
          30,
          12,
          12,
          12,
          22,
          65,
          69,
          64,
          53,
          67,
          43,
          52,
          31,
          33,
          7,
          13,
          4,
          18,
          51,
          445,
          67,
          76,
          90,
          72,
          127,
          101,
          110,
          74,
          104,
          81,
          100,
          75,
          114,
          102,
          138,
          115,
          119,
          93,
          108,
          112,
          135,
          139,
          100,
          117,
          126,
          82,
          106,
          82,
          63,
          87,
          67,
          79,
          95,
          103,
          120,
          119,
          176,
          151,
          107,
          98,
          106,
          58,
          50,
          70,
          75,
          82,
          124,
          52,
          78,
          57,
          78,
          71,
          135,
          71,
          105,
          141,
          252,
          121,
          120,
          57,
          105,
          83,
          105,
          87,
          68,
          136,
          103,
          92,
          98,
          89,
          91,
          135,
          75,
          96,
          129,
          82,
          100,
          62,
          70,
          88,
          102,
          99,
          65,
          98,
          110,
          110,
          3,
          3,
          15,
          3,
          3,
          4,
          4,
          1,
          3,
          3,
          5,
          6,
          15,
          7,
          6,
          1,
          4,
          9,
          4,
          3,
          19,
          1,
          1,
          6,
          14,
          2,
          10,
          4,
          12,
          4,
          6,
          10,
          2,
          17,
          17,
          7,
          18,
          7,
          8,
          16,
          11,
          3,
          7,
          6,
          6,
          16,
          22,
          32,
          13,
          45,
          9,
          5,
          7,
          2,
          20,
          9,
          18,
          13,
          15,
          40,
          51,
          73,
          36,
          32,
          49,
          31,
          8,
          12,
          13,
          12,
          14,
          18,
          17,
          22,
          11,
          13,
          7,
          13,
          21,
          8,
          8,
          13,
          12,
          73,
          72,
          93,
          156,
          87,
          94,
          100,
          88,
          116,
          149,
          102,
          108,
          112,
          79,
          112,
          101,
          89,
          91,
          111,
          87,
          123,
          84,
          84,
          75,
          138,
          104,
          112,
          114,
          177,
          122,
          150,
          114,
          126,
          125,
          104,
          142,
          155,
          181,
          79,
          55,
          132,
          129,
          151,
          84,
          109,
          142,
          128,
          152,
          155,
          59,
          92,
          133,
          106,
          120,
          116,
          111,
          97,
          128,
          89,
          119,
          110,
          102,
          107,
          76,
          59,
          83,
          72,
          114,
          73,
          80,
          84,
          99,
          113,
          105,
          94,
          80,
          70,
          160,
          144,
          106,
          118,
          121,
          185,
          160,
          119,
          89,
          95,
          84,
          135,
          74,
          53,
          82,
          117,
          4,
          4,
          11,
          39,
          97,
          191,
          106,
          221,
          95,
          62,
          63,
          69,
          86,
          132,
          269,
          192,
          114,
          216,
          234,
          226,
          96,
          106,
          95,
          105,
          124,
          138,
          147,
          135,
          153,
          166,
          102,
          66,
          47,
          41,
          63,
          74,
          67,
          44,
          20,
          4,
          6,
          12,
          25,
          11,
          3,
          35,
          40,
          33,
          40,
          40,
          41,
          47,
          45,
          24,
          32,
          29,
          29,
          36,
          35,
          45,
          43,
          59,
          50,
          33,
          40,
          38,
          42,
          27,
          36,
          43,
          47,
          52,
          54,
          45,
          42,
          38,
          42,
          48,
          35,
          35,
          39,
          54,
          34,
          44,
          50,
          54,
          44,
          36,
          49,
          41,
          25,
          38,
          33,
          32,
          46,
          26,
          27,
          25,
          22,
          10,
          8,
          8,
          7,
          7,
          7,
          8,
          6,
          8,
          9,
          11,
          12,
          6,
          10,
          8,
          11,
          4,
          16,
          12,
          10,
          7,
          4,
          10,
          8,
          15,
          14,
          17,
          16,
          19,
          10,
          20,
          11,
          28,
          15,
          22,
          19,
          21,
          19,
          23,
          22,
          9,
          14,
          30,
          15,
          16,
          18,
          17,
          25,
          32,
          27,
          26,
          33,
          678,
          639,
          772,
          653,
          535,
          602,
          626,
          815,
          635,
          645,
          400,
          471,
          462,
          405,
          462,
          426,
          329,
          480,
          540,
          658,
          749,
          452,
          851,
          5,
          747,
          715,
          763,
          278,
          153,
          117,
          49,
          187,
          285,
          7512,
          94,
          227,
          90,
          106,
          97,
          72,
          114,
          48,
          119,
          126,
          156,
          153,
          122,
          74,
          103,
          139,
          208,
          120,
          137,
          78,
          50,
          168,
          163,
          5,
          486,
          561,
          134,
          386,
          2820,
          2175,
          295,
          1929,
          495,
          2642,
          1133,
          364,
          33,
          78,
          52,
          75,
          64,
          58,
          64,
          62,
          54,
          50,
          48,
          56,
          41,
          27,
          46,
          37,
          144,
          56,
          45,
          41,
          132,
          37,
          97,
          44,
          64,
          41,
          35,
          61,
          37,
          71,
          42,
          42,
          66,
          56,
          111,
          165,
          87,
          75,
          22,
          64,
          53,
          36,
          26,
          30,
          35,
          54,
          36,
          41,
          30,
          80,
          105,
          24,
          48,
          19,
          72,
          42,
          26,
          42,
          35,
          41,
          45,
          53,
          21,
          26,
          33,
          58,
          40,
          27,
          82,
          26,
          36,
          40,
          29,
          59,
          33,
          57,
          81,
          44,
          225,
          89,
          54,
          58,
          53,
          43,
          52,
          34,
          32,
          45,
          23,
          24,
          30,
          43,
          46,
          12,
          21,
          23,
          18,
          38,
          22,
          34,
          24,
          37,
          38,
          31,
          33,
          29,
          49,
          29,
          32,
          29,
          39,
          31,
          30,
          40,
          42,
          44,
          63,
          47,
          53,
          68,
          12,
          22,
          41,
          43,
          31,
          41,
          25,
          50,
          60,
          57,
          46,
          33,
          48,
          30,
          27,
          41,
          37,
          33,
          38,
          41,
          24,
          25,
          43,
          45,
          51,
          47,
          50,
          64,
          159,
          202,
          217,
          109,
          18,
          14,
          55,
          40,
          56,
          93,
          67,
          3342,
          119,
          57,
          66,
          88,
          34,
          26,
          20,
          37,
          36,
          92,
          40,
          42,
          32,
          46,
          43,
          40,
          24,
          22,
          10,
          51,
          100,
          73,
          40,
          104,
          80,
          108,
          137,
          142,
          83,
          99,
          110,
          89,
          100,
          96,
          78,
          95,
          126,
          192,
          85,
          125,
          82,
          133,
          53,
          86,
          96,
          83,
          218,
          88,
          124,
          102,
          105,
          98,
          80,
          68,
          65,
          62,
          67,
          61,
          67,
          53,
          33,
          51,
          54,
          66,
          52,
          11,
          18,
          14,
          21,
          10,
          35,
          11,
          7,
          60,
          16,
          24,
          25,
          31,
          7,
          7,
          15,
          13,
          12,
          16,
          8,
          15,
          19,
          12,
          17,
          14,
          14,
          12,
          26,
          17,
          19,
          14,
          8,
          23,
          14,
          11,
          19,
          12,
          20,
          40,
          25,
          11,
          15,
          8,
          16,
          21,
          199,
          15,
          13,
          22,
          66,
          13,
          8,
          18,
          18,
          28,
          3,
          11,
          955,
          61,
          18,
          31,
          32,
          20,
          8,
          30,
          26,
          18,
          6,
          26,
          21,
          29,
          104,
          36,
          57,
          46,
          62,
          8,
          27,
          45,
          71,
          7,
          0,
          1,
          12,
          24,
          20,
          20,
          25,
          33,
          30,
          177,
          214,
          458,
          125,
          117,
          165,
          198,
          274,
          138,
          295,
          274,
          302,
          233,
          47,
          446,
          558,
          444,
          42,
          58,
          51,
          46,
          48,
          60,
          49,
          61,
          47,
          66,
          53,
          58,
          60,
          54,
          32,
          46,
          52,
          67,
          56,
          50,
          51,
          35,
          62,
          49,
          51,
          62,
          47,
          69,
          57,
          64,
          61,
          62,
          77,
          59,
          80,
          54,
          121,
          120,
          129,
          61,
          90,
          70,
          62,
          77,
          83,
          92,
          105,
          91,
          117,
          103,
          58,
          106,
          114,
          126,
          78,
          78,
          82,
          81,
          45,
          62,
          87,
          100,
          78,
          70,
          68,
          51,
          61,
          54,
          62,
          51,
          65,
          43,
          718,
          85,
          78,
          84,
          76,
          78,
          88,
          63,
          34,
          93,
          89,
          134,
          7,
          4,
          7,
          2,
          6,
          3,
          2,
          7,
          7,
          18,
          8,
          13,
          9,
          13,
          9,
          4,
          7,
          3,
          5,
          5,
          21,
          12,
          14,
          5,
          13,
          15,
          11,
          24,
          19,
          6,
          7,
          7,
          7,
          5,
          1,
          0,
          9,
          9,
          9,
          3,
          10,
          20,
          133,
          22,
          28,
          106,
          43,
          10,
          47,
          10,
          9,
          12,
          10,
          17,
          7,
          16,
          19,
          14,
          49,
          19,
          33,
          23,
          6,
          14,
          16,
          20,
          4,
          13,
          7,
          24,
          9,
          18,
          14,
          13,
          17,
          27,
          9,
          47,
          26,
          14,
          13,
          12,
          48,
          61,
          9,
          72,
          13,
          71,
          39,
          126,
          29,
          337,
          1442,
          284,
          148,
          29,
          46,
          358,
          1289,
          18,
          94,
          85,
          40,
          96,
          265,
          527,
          94,
          356,
          554,
          344,
          271,
          64,
          9,
          54,
          32,
          84,
          161,
          156,
          81,
          250,
          132,
          63,
          21,
          26,
          11,
          57,
          78,
          38,
          17,
          36,
          11,
          7,
          37,
          4,
          89,
          108,
          112,
          137,
          149,
          86,
          112,
          142,
          124,
          128,
          128,
          142,
          120,
          123,
          90,
          146,
          107,
          120,
          321,
          196,
          90,
          7,
          8,
          8,
          12,
          17,
          11,
          9,
          11,
          6,
          9,
          1,
          7,
          16,
          13,
          17,
          13,
          12,
          10,
          6,
          11,
          20,
          23,
          22,
          19,
          24,
          19,
          39,
          27,
          30,
          31,
          36,
          19,
          38,
          16,
          20,
          4,
          10,
          26,
          21,
          19,
          21,
          17,
          13,
          24,
          24,
          12,
          26,
          19,
          24,
          28,
          26,
          39,
          33,
          83,
          46,
          24,
          56,
          75,
          7,
          10,
          6,
          5,
          9,
          8,
          27,
          7,
          3,
          9,
          4,
          5,
          8,
          4,
          13,
          6,
          4,
          9,
          16,
          11,
          17,
          9,
          14,
          22,
          8,
          18,
          14,
          8,
          9,
          5,
          9,
          4,
          3,
          9,
          17,
          6,
          4,
          11,
          4,
          2,
          7,
          7,
          8,
          20,
          9,
          29,
          16,
          14,
          15,
          12,
          17,
          10,
          39,
          17,
          14,
          10,
          14,
          12,
          9,
          19,
          5,
          19,
          14,
          11,
          18,
          14,
          3,
          21,
          6,
          18,
          47,
          11,
          54,
          71,
          81,
          45,
          28,
          37,
          40,
          19,
          15,
          19,
          20,
          26,
          23,
          12,
          10,
          26,
          27,
          19,
          13,
          19,
          32,
          17,
          30,
          14,
          33,
          38,
          2,
          5,
          6,
          4,
          6,
          33,
          10,
          10,
          12,
          15,
          10,
          5,
          4,
          7,
          4,
          5,
          8,
          7,
          7,
          5,
          6,
          3,
          5,
          2,
          6,
          6,
          6,
          6,
          5,
          4,
          4,
          2,
          6,
          4,
          4,
          6,
          6,
          7,
          2,
          1,
          4,
          14,
          3,
          6,
          7,
          9,
          3,
          5,
          1,
          2,
          5,
          6,
          1,
          4,
          6,
          4,
          6,
          6,
          4,
          3,
          1,
          4,
          5,
          3,
          10,
          10,
          8,
          10,
          6,
          8,
          5,
          9,
          14,
          13,
          15,
          10,
          15,
          19,
          18,
          14,
          8,
          8,
          7,
          3,
          6,
          12,
          8,
          8,
          12,
          11,
          8,
          12,
          7,
          6,
          16,
          18,
          15,
          10,
          9,
          13,
          25,
          29,
          21,
          20,
          5,
          8,
          7,
          8,
          6,
          10,
          14,
          9,
          11,
          10,
          15,
          358,
          14,
          12,
          23,
          16,
          20,
          23,
          18,
          30,
          26,
          140,
          106,
          102,
          138,
          151,
          153,
          168,
          164,
          241,
          157,
          162,
          157,
          133,
          132,
          128,
          165,
          133,
          138,
          117,
          232,
          135,
          193,
          210,
          176,
          155,
          163,
          293,
          225,
          337,
          312,
          364,
          373,
          289,
          231,
          153,
          12,
          172,
          217,
          178,
          248,
          241,
          177,
          101,
          54,
          63,
          109,
          205,
          183,
          201,
          214,
          215,
          191,
          158,
          163,
          206,
          148,
          156,
          152,
          93,
          65,
          130,
          141,
          50,
          62,
          47,
          77,
          69,
          64,
          112,
          100,
          115,
          91,
          71,
          97,
          92,
          105,
          70,
          115,
          159,
          63,
          151,
          73,
          76,
          47,
          52,
          56,
          57,
          55,
          62,
          51,
          83,
          67,
          56,
          61,
          58,
          66,
          69,
          72,
          94,
          66,
          85,
          84,
          73,
          100,
          111,
          79,
          108,
          92,
          92,
          117,
          85,
          72,
          99,
          127,
          88,
          95,
          77,
          65,
          89,
          52,
          54,
          74,
          72,
          78,
          74,
          89,
          77,
          47,
          16,
          22,
          21,
          23,
          46,
          12,
          8,
          23,
          45,
          60,
          52,
          46,
          39,
          27,
          43,
          30,
          57,
          39,
          42,
          14,
          27,
          33,
          127,
          24,
          27,
          26,
          12,
          27,
          43,
          30,
          35,
          22,
          23,
          23,
          31,
          29,
          28,
          31,
          36,
          31,
          35,
          30,
          25,
          24,
          27,
          32,
          34,
          47,
          28,
          23,
          24,
          32,
          85,
          9,
          6,
          3,
          2,
          5,
          5,
          6,
          1,
          5,
          5,
          4,
          5,
          3,
          1,
          4,
          3,
          8,
          10,
          5,
          7,
          5,
          6,
          6,
          8,
          7,
          7,
          7,
          11,
          7,
          2,
          3,
          4,
          8,
          3,
          8,
          3,
          4,
          6,
          4,
          6,
          3,
          5,
          3,
          10,
          4,
          7,
          6,
          9,
          13,
          6,
          5,
          4,
          11,
          8,
          9,
          15,
          8,
          10,
          14,
          2,
          7,
          9,
          7,
          5,
          4,
          2,
          10,
          10,
          1,
          9,
          10,
          9,
          6,
          7,
          7,
          5,
          5,
          7,
          12,
          3,
          9,
          3,
          11,
          10,
          6,
          5,
          11,
          4,
          9,
          7,
          12,
          10,
          3,
          10,
          12,
          3,
          9,
          12,
          8,
          9,
          8,
          11,
          12,
          11,
          15,
          10,
          9,
          10,
          2,
          12,
          7,
          18,
          9,
          10,
          7,
          11,
          9,
          7,
          7,
          44,
          13,
          10,
          3,
          17,
          10,
          9,
          5,
          9,
          6,
          15,
          17,
          15,
          14,
          18,
          2,
          28,
          18,
          10,
          20,
          14
         ],
         "y0": " ",
         "yaxis": "y"
        }
       ],
       "layout": {
        "boxmode": "overlay",
        "legend": {
         "title": {
          "text": "Promotion"
         },
         "tracegroupgap": 0
        },
        "template": {
         "data": {
          "bar": [
           {
            "error_x": {
             "color": "#2a3f5f"
            },
            "error_y": {
             "color": "#2a3f5f"
            },
            "marker": {
             "line": {
              "color": "#E5ECF6",
              "width": 0.5
             },
             "pattern": {
              "fillmode": "overlay",
              "size": 10,
              "solidity": 0.2
             }
            },
            "type": "bar"
           }
          ],
          "barpolar": [
           {
            "marker": {
             "line": {
              "color": "#E5ECF6",
              "width": 0.5
             },
             "pattern": {
              "fillmode": "overlay",
              "size": 10,
              "solidity": 0.2
             }
            },
            "type": "barpolar"
           }
          ],
          "carpet": [
           {
            "aaxis": {
             "endlinecolor": "#2a3f5f",
             "gridcolor": "white",
             "linecolor": "white",
             "minorgridcolor": "white",
             "startlinecolor": "#2a3f5f"
            },
            "baxis": {
             "endlinecolor": "#2a3f5f",
             "gridcolor": "white",
             "linecolor": "white",
             "minorgridcolor": "white",
             "startlinecolor": "#2a3f5f"
            },
            "type": "carpet"
           }
          ],
          "choropleth": [
           {
            "colorbar": {
             "outlinewidth": 0,
             "ticks": ""
            },
            "type": "choropleth"
           }
          ],
          "contour": [
           {
            "colorbar": {
             "outlinewidth": 0,
             "ticks": ""
            },
            "colorscale": [
             [
              0,
              "#0d0887"
             ],
             [
              0.1111111111111111,
              "#46039f"
             ],
             [
              0.2222222222222222,
              "#7201a8"
             ],
             [
              0.3333333333333333,
              "#9c179e"
             ],
             [
              0.4444444444444444,
              "#bd3786"
             ],
             [
              0.5555555555555556,
              "#d8576b"
             ],
             [
              0.6666666666666666,
              "#ed7953"
             ],
             [
              0.7777777777777778,
              "#fb9f3a"
             ],
             [
              0.8888888888888888,
              "#fdca26"
             ],
             [
              1,
              "#f0f921"
             ]
            ],
            "type": "contour"
           }
          ],
          "contourcarpet": [
           {
            "colorbar": {
             "outlinewidth": 0,
             "ticks": ""
            },
            "type": "contourcarpet"
           }
          ],
          "heatmap": [
           {
            "colorbar": {
             "outlinewidth": 0,
             "ticks": ""
            },
            "colorscale": [
             [
              0,
              "#0d0887"
             ],
             [
              0.1111111111111111,
              "#46039f"
             ],
             [
              0.2222222222222222,
              "#7201a8"
             ],
             [
              0.3333333333333333,
              "#9c179e"
             ],
             [
              0.4444444444444444,
              "#bd3786"
             ],
             [
              0.5555555555555556,
              "#d8576b"
             ],
             [
              0.6666666666666666,
              "#ed7953"
             ],
             [
              0.7777777777777778,
              "#fb9f3a"
             ],
             [
              0.8888888888888888,
              "#fdca26"
             ],
             [
              1,
              "#f0f921"
             ]
            ],
            "type": "heatmap"
           }
          ],
          "heatmapgl": [
           {
            "colorbar": {
             "outlinewidth": 0,
             "ticks": ""
            },
            "colorscale": [
             [
              0,
              "#0d0887"
             ],
             [
              0.1111111111111111,
              "#46039f"
             ],
             [
              0.2222222222222222,
              "#7201a8"
             ],
             [
              0.3333333333333333,
              "#9c179e"
             ],
             [
              0.4444444444444444,
              "#bd3786"
             ],
             [
              0.5555555555555556,
              "#d8576b"
             ],
             [
              0.6666666666666666,
              "#ed7953"
             ],
             [
              0.7777777777777778,
              "#fb9f3a"
             ],
             [
              0.8888888888888888,
              "#fdca26"
             ],
             [
              1,
              "#f0f921"
             ]
            ],
            "type": "heatmapgl"
           }
          ],
          "histogram": [
           {
            "marker": {
             "pattern": {
              "fillmode": "overlay",
              "size": 10,
              "solidity": 0.2
             }
            },
            "type": "histogram"
           }
          ],
          "histogram2d": [
           {
            "colorbar": {
             "outlinewidth": 0,
             "ticks": ""
            },
            "colorscale": [
             [
              0,
              "#0d0887"
             ],
             [
              0.1111111111111111,
              "#46039f"
             ],
             [
              0.2222222222222222,
              "#7201a8"
             ],
             [
              0.3333333333333333,
              "#9c179e"
             ],
             [
              0.4444444444444444,
              "#bd3786"
             ],
             [
              0.5555555555555556,
              "#d8576b"
             ],
             [
              0.6666666666666666,
              "#ed7953"
             ],
             [
              0.7777777777777778,
              "#fb9f3a"
             ],
             [
              0.8888888888888888,
              "#fdca26"
             ],
             [
              1,
              "#f0f921"
             ]
            ],
            "type": "histogram2d"
           }
          ],
          "histogram2dcontour": [
           {
            "colorbar": {
             "outlinewidth": 0,
             "ticks": ""
            },
            "colorscale": [
             [
              0,
              "#0d0887"
             ],
             [
              0.1111111111111111,
              "#46039f"
             ],
             [
              0.2222222222222222,
              "#7201a8"
             ],
             [
              0.3333333333333333,
              "#9c179e"
             ],
             [
              0.4444444444444444,
              "#bd3786"
             ],
             [
              0.5555555555555556,
              "#d8576b"
             ],
             [
              0.6666666666666666,
              "#ed7953"
             ],
             [
              0.7777777777777778,
              "#fb9f3a"
             ],
             [
              0.8888888888888888,
              "#fdca26"
             ],
             [
              1,
              "#f0f921"
             ]
            ],
            "type": "histogram2dcontour"
           }
          ],
          "mesh3d": [
           {
            "colorbar": {
             "outlinewidth": 0,
             "ticks": ""
            },
            "type": "mesh3d"
           }
          ],
          "parcoords": [
           {
            "line": {
             "colorbar": {
              "outlinewidth": 0,
              "ticks": ""
             }
            },
            "type": "parcoords"
           }
          ],
          "pie": [
           {
            "automargin": true,
            "type": "pie"
           }
          ],
          "scatter": [
           {
            "fillpattern": {
             "fillmode": "overlay",
             "size": 10,
             "solidity": 0.2
            },
            "type": "scatter"
           }
          ],
          "scatter3d": [
           {
            "line": {
             "colorbar": {
              "outlinewidth": 0,
              "ticks": ""
             }
            },
            "marker": {
             "colorbar": {
              "outlinewidth": 0,
              "ticks": ""
             }
            },
            "type": "scatter3d"
           }
          ],
          "scattercarpet": [
           {
            "marker": {
             "colorbar": {
              "outlinewidth": 0,
              "ticks": ""
             }
            },
            "type": "scattercarpet"
           }
          ],
          "scattergeo": [
           {
            "marker": {
             "colorbar": {
              "outlinewidth": 0,
              "ticks": ""
             }
            },
            "type": "scattergeo"
           }
          ],
          "scattergl": [
           {
            "marker": {
             "colorbar": {
              "outlinewidth": 0,
              "ticks": ""
             }
            },
            "type": "scattergl"
           }
          ],
          "scattermapbox": [
           {
            "marker": {
             "colorbar": {
              "outlinewidth": 0,
              "ticks": ""
             }
            },
            "type": "scattermapbox"
           }
          ],
          "scatterpolar": [
           {
            "marker": {
             "colorbar": {
              "outlinewidth": 0,
              "ticks": ""
             }
            },
            "type": "scatterpolar"
           }
          ],
          "scatterpolargl": [
           {
            "marker": {
             "colorbar": {
              "outlinewidth": 0,
              "ticks": ""
             }
            },
            "type": "scatterpolargl"
           }
          ],
          "scatterternary": [
           {
            "marker": {
             "colorbar": {
              "outlinewidth": 0,
              "ticks": ""
             }
            },
            "type": "scatterternary"
           }
          ],
          "surface": [
           {
            "colorbar": {
             "outlinewidth": 0,
             "ticks": ""
            },
            "colorscale": [
             [
              0,
              "#0d0887"
             ],
             [
              0.1111111111111111,
              "#46039f"
             ],
             [
              0.2222222222222222,
              "#7201a8"
             ],
             [
              0.3333333333333333,
              "#9c179e"
             ],
             [
              0.4444444444444444,
              "#bd3786"
             ],
             [
              0.5555555555555556,
              "#d8576b"
             ],
             [
              0.6666666666666666,
              "#ed7953"
             ],
             [
              0.7777777777777778,
              "#fb9f3a"
             ],
             [
              0.8888888888888888,
              "#fdca26"
             ],
             [
              1,
              "#f0f921"
             ]
            ],
            "type": "surface"
           }
          ],
          "table": [
           {
            "cells": {
             "fill": {
              "color": "#EBF0F8"
             },
             "line": {
              "color": "white"
             }
            },
            "header": {
             "fill": {
              "color": "#C8D4E3"
             },
             "line": {
              "color": "white"
             }
            },
            "type": "table"
           }
          ]
         },
         "layout": {
          "annotationdefaults": {
           "arrowcolor": "#2a3f5f",
           "arrowhead": 0,
           "arrowwidth": 1
          },
          "autotypenumbers": "strict",
          "coloraxis": {
           "colorbar": {
            "outlinewidth": 0,
            "ticks": ""
           }
          },
          "colorscale": {
           "diverging": [
            [
             0,
             "#8e0152"
            ],
            [
             0.1,
             "#c51b7d"
            ],
            [
             0.2,
             "#de77ae"
            ],
            [
             0.3,
             "#f1b6da"
            ],
            [
             0.4,
             "#fde0ef"
            ],
            [
             0.5,
             "#f7f7f7"
            ],
            [
             0.6,
             "#e6f5d0"
            ],
            [
             0.7,
             "#b8e186"
            ],
            [
             0.8,
             "#7fbc41"
            ],
            [
             0.9,
             "#4d9221"
            ],
            [
             1,
             "#276419"
            ]
           ],
           "sequential": [
            [
             0,
             "#0d0887"
            ],
            [
             0.1111111111111111,
             "#46039f"
            ],
            [
             0.2222222222222222,
             "#7201a8"
            ],
            [
             0.3333333333333333,
             "#9c179e"
            ],
            [
             0.4444444444444444,
             "#bd3786"
            ],
            [
             0.5555555555555556,
             "#d8576b"
            ],
            [
             0.6666666666666666,
             "#ed7953"
            ],
            [
             0.7777777777777778,
             "#fb9f3a"
            ],
            [
             0.8888888888888888,
             "#fdca26"
            ],
            [
             1,
             "#f0f921"
            ]
           ],
           "sequentialminus": [
            [
             0,
             "#0d0887"
            ],
            [
             0.1111111111111111,
             "#46039f"
            ],
            [
             0.2222222222222222,
             "#7201a8"
            ],
            [
             0.3333333333333333,
             "#9c179e"
            ],
            [
             0.4444444444444444,
             "#bd3786"
            ],
            [
             0.5555555555555556,
             "#d8576b"
            ],
            [
             0.6666666666666666,
             "#ed7953"
            ],
            [
             0.7777777777777778,
             "#fb9f3a"
            ],
            [
             0.8888888888888888,
             "#fdca26"
            ],
            [
             1,
             "#f0f921"
            ]
           ]
          },
          "colorway": [
           "#636efa",
           "#EF553B",
           "#00cc96",
           "#ab63fa",
           "#FFA15A",
           "#19d3f3",
           "#FF6692",
           "#B6E880",
           "#FF97FF",
           "#FECB52"
          ],
          "font": {
           "color": "#2a3f5f"
          },
          "geo": {
           "bgcolor": "white",
           "lakecolor": "white",
           "landcolor": "#E5ECF6",
           "showlakes": true,
           "showland": true,
           "subunitcolor": "white"
          },
          "hoverlabel": {
           "align": "left"
          },
          "hovermode": "closest",
          "mapbox": {
           "style": "light"
          },
          "paper_bgcolor": "white",
          "plot_bgcolor": "#E5ECF6",
          "polar": {
           "angularaxis": {
            "gridcolor": "white",
            "linecolor": "white",
            "ticks": ""
           },
           "bgcolor": "#E5ECF6",
           "radialaxis": {
            "gridcolor": "white",
            "linecolor": "white",
            "ticks": ""
           }
          },
          "scene": {
           "xaxis": {
            "backgroundcolor": "#E5ECF6",
            "gridcolor": "white",
            "gridwidth": 2,
            "linecolor": "white",
            "showbackground": true,
            "ticks": "",
            "zerolinecolor": "white"
           },
           "yaxis": {
            "backgroundcolor": "#E5ECF6",
            "gridcolor": "white",
            "gridwidth": 2,
            "linecolor": "white",
            "showbackground": true,
            "ticks": "",
            "zerolinecolor": "white"
           },
           "zaxis": {
            "backgroundcolor": "#E5ECF6",
            "gridcolor": "white",
            "gridwidth": 2,
            "linecolor": "white",
            "showbackground": true,
            "ticks": "",
            "zerolinecolor": "white"
           }
          },
          "shapedefaults": {
           "line": {
            "color": "#2a3f5f"
           }
          },
          "ternary": {
           "aaxis": {
            "gridcolor": "white",
            "linecolor": "white",
            "ticks": ""
           },
           "baxis": {
            "gridcolor": "white",
            "linecolor": "white",
            "ticks": ""
           },
           "bgcolor": "#E5ECF6",
           "caxis": {
            "gridcolor": "white",
            "linecolor": "white",
            "ticks": ""
           }
          },
          "title": {
           "x": 0.05
          },
          "xaxis": {
           "automargin": true,
           "gridcolor": "white",
           "linecolor": "white",
           "ticks": "",
           "title": {
            "standoff": 15
           },
           "zerolinecolor": "white",
           "zerolinewidth": 2
          },
          "yaxis": {
           "automargin": true,
           "gridcolor": "white",
           "linecolor": "white",
           "ticks": "",
           "title": {
            "standoff": 15
           },
           "zerolinecolor": "white",
           "zerolinewidth": 2
          }
         }
        },
        "title": {
         "text": "Impact of Main Page Promotion on Weekly Sales"
        },
        "xaxis": {
         "anchor": "y",
         "categoryarray": [
          "Promo",
          "No Promo"
         ],
         "categoryorder": "array",
         "domain": [
          0,
          1
         ],
         "title": {
          "text": "Promotion"
         }
        },
        "yaxis": {
         "anchor": "x",
         "domain": [
          0,
          1
         ],
         "title": {
          "text": "Weekly Sales Volume"
         }
        }
       }
      }
     },
     "metadata": {},
     "output_type": "display_data"
    }
   ],
   "source": [
    "# Plot box plot to compare weekly_sales with and without promotion\n",
    "fig = px.box(\n",
    "    df,\n",
    "    x='Promotion',\n",
    "    y='weekly_sales',\n",
    "    title='Impact of Main Page Promotion on Weekly Sales',\n",
    "    color='Promotion',\n",
    "    labels={'weekly_sales': 'Weekly Sales Volume'}\n",
    ")\n",
    "\n",
    "fig.show()"
   ]
  },
  {
   "cell_type": "markdown",
   "id": "09071da8",
   "metadata": {},
   "source": [
    "\"The distribution of weekly_sales is right-skewed for both groups, but the Promo group shows more high-end outliers. This suggests that main page promotions not only boost average sales but can also trigger occasional spikes in demand.\""
   ]
  },
  {
   "cell_type": "code",
   "execution_count": 10,
   "id": "e29bc826",
   "metadata": {},
   "outputs": [],
   "source": [
    "# Encoding binary variable with weekly_sales\n",
    "avg_sales = df.groupby('Promotion')['weekly_sales'].mean().reset_index()\n"
   ]
  },
  {
   "cell_type": "code",
   "execution_count": 11,
   "id": "6c5ecfb6",
   "metadata": {},
   "outputs": [
    {
     "data": {
      "application/vnd.plotly.v1+json": {
       "config": {
        "plotlyServerURL": "https://plot.ly"
       },
       "data": [
        {
         "alignmentgroup": "True",
         "hovertemplate": "Promotion=%{x}<br>Average Weekly Sales=%{y}<extra></extra>",
         "legendgroup": "No Promo",
         "marker": {
          "color": "#636efa",
          "pattern": {
           "shape": ""
          }
         },
         "name": "No Promo",
         "offsetgroup": "No Promo",
         "orientation": "v",
         "showlegend": true,
         "textposition": "auto",
         "type": "bar",
         "x": [
          "No Promo"
         ],
         "xaxis": "x",
         "y": [
          60.91929203539823
         ],
         "yaxis": "y"
        },
        {
         "alignmentgroup": "True",
         "hovertemplate": "Promotion=%{x}<br>Average Weekly Sales=%{y}<extra></extra>",
         "legendgroup": "Promo",
         "marker": {
          "color": "#EF553B",
          "pattern": {
           "shape": ""
          }
         },
         "name": "Promo",
         "offsetgroup": "Promo",
         "orientation": "v",
         "showlegend": true,
         "textposition": "auto",
         "type": "bar",
         "x": [
          "Promo"
         ],
         "xaxis": "x",
         "y": [
          122.75809523809524
         ],
         "yaxis": "y"
        }
       ],
       "layout": {
        "barmode": "relative",
        "legend": {
         "title": {
          "text": "Promotion"
         },
         "tracegroupgap": 0
        },
        "template": {
         "data": {
          "bar": [
           {
            "error_x": {
             "color": "#2a3f5f"
            },
            "error_y": {
             "color": "#2a3f5f"
            },
            "marker": {
             "line": {
              "color": "#E5ECF6",
              "width": 0.5
             },
             "pattern": {
              "fillmode": "overlay",
              "size": 10,
              "solidity": 0.2
             }
            },
            "type": "bar"
           }
          ],
          "barpolar": [
           {
            "marker": {
             "line": {
              "color": "#E5ECF6",
              "width": 0.5
             },
             "pattern": {
              "fillmode": "overlay",
              "size": 10,
              "solidity": 0.2
             }
            },
            "type": "barpolar"
           }
          ],
          "carpet": [
           {
            "aaxis": {
             "endlinecolor": "#2a3f5f",
             "gridcolor": "white",
             "linecolor": "white",
             "minorgridcolor": "white",
             "startlinecolor": "#2a3f5f"
            },
            "baxis": {
             "endlinecolor": "#2a3f5f",
             "gridcolor": "white",
             "linecolor": "white",
             "minorgridcolor": "white",
             "startlinecolor": "#2a3f5f"
            },
            "type": "carpet"
           }
          ],
          "choropleth": [
           {
            "colorbar": {
             "outlinewidth": 0,
             "ticks": ""
            },
            "type": "choropleth"
           }
          ],
          "contour": [
           {
            "colorbar": {
             "outlinewidth": 0,
             "ticks": ""
            },
            "colorscale": [
             [
              0,
              "#0d0887"
             ],
             [
              0.1111111111111111,
              "#46039f"
             ],
             [
              0.2222222222222222,
              "#7201a8"
             ],
             [
              0.3333333333333333,
              "#9c179e"
             ],
             [
              0.4444444444444444,
              "#bd3786"
             ],
             [
              0.5555555555555556,
              "#d8576b"
             ],
             [
              0.6666666666666666,
              "#ed7953"
             ],
             [
              0.7777777777777778,
              "#fb9f3a"
             ],
             [
              0.8888888888888888,
              "#fdca26"
             ],
             [
              1,
              "#f0f921"
             ]
            ],
            "type": "contour"
           }
          ],
          "contourcarpet": [
           {
            "colorbar": {
             "outlinewidth": 0,
             "ticks": ""
            },
            "type": "contourcarpet"
           }
          ],
          "heatmap": [
           {
            "colorbar": {
             "outlinewidth": 0,
             "ticks": ""
            },
            "colorscale": [
             [
              0,
              "#0d0887"
             ],
             [
              0.1111111111111111,
              "#46039f"
             ],
             [
              0.2222222222222222,
              "#7201a8"
             ],
             [
              0.3333333333333333,
              "#9c179e"
             ],
             [
              0.4444444444444444,
              "#bd3786"
             ],
             [
              0.5555555555555556,
              "#d8576b"
             ],
             [
              0.6666666666666666,
              "#ed7953"
             ],
             [
              0.7777777777777778,
              "#fb9f3a"
             ],
             [
              0.8888888888888888,
              "#fdca26"
             ],
             [
              1,
              "#f0f921"
             ]
            ],
            "type": "heatmap"
           }
          ],
          "heatmapgl": [
           {
            "colorbar": {
             "outlinewidth": 0,
             "ticks": ""
            },
            "colorscale": [
             [
              0,
              "#0d0887"
             ],
             [
              0.1111111111111111,
              "#46039f"
             ],
             [
              0.2222222222222222,
              "#7201a8"
             ],
             [
              0.3333333333333333,
              "#9c179e"
             ],
             [
              0.4444444444444444,
              "#bd3786"
             ],
             [
              0.5555555555555556,
              "#d8576b"
             ],
             [
              0.6666666666666666,
              "#ed7953"
             ],
             [
              0.7777777777777778,
              "#fb9f3a"
             ],
             [
              0.8888888888888888,
              "#fdca26"
             ],
             [
              1,
              "#f0f921"
             ]
            ],
            "type": "heatmapgl"
           }
          ],
          "histogram": [
           {
            "marker": {
             "pattern": {
              "fillmode": "overlay",
              "size": 10,
              "solidity": 0.2
             }
            },
            "type": "histogram"
           }
          ],
          "histogram2d": [
           {
            "colorbar": {
             "outlinewidth": 0,
             "ticks": ""
            },
            "colorscale": [
             [
              0,
              "#0d0887"
             ],
             [
              0.1111111111111111,
              "#46039f"
             ],
             [
              0.2222222222222222,
              "#7201a8"
             ],
             [
              0.3333333333333333,
              "#9c179e"
             ],
             [
              0.4444444444444444,
              "#bd3786"
             ],
             [
              0.5555555555555556,
              "#d8576b"
             ],
             [
              0.6666666666666666,
              "#ed7953"
             ],
             [
              0.7777777777777778,
              "#fb9f3a"
             ],
             [
              0.8888888888888888,
              "#fdca26"
             ],
             [
              1,
              "#f0f921"
             ]
            ],
            "type": "histogram2d"
           }
          ],
          "histogram2dcontour": [
           {
            "colorbar": {
             "outlinewidth": 0,
             "ticks": ""
            },
            "colorscale": [
             [
              0,
              "#0d0887"
             ],
             [
              0.1111111111111111,
              "#46039f"
             ],
             [
              0.2222222222222222,
              "#7201a8"
             ],
             [
              0.3333333333333333,
              "#9c179e"
             ],
             [
              0.4444444444444444,
              "#bd3786"
             ],
             [
              0.5555555555555556,
              "#d8576b"
             ],
             [
              0.6666666666666666,
              "#ed7953"
             ],
             [
              0.7777777777777778,
              "#fb9f3a"
             ],
             [
              0.8888888888888888,
              "#fdca26"
             ],
             [
              1,
              "#f0f921"
             ]
            ],
            "type": "histogram2dcontour"
           }
          ],
          "mesh3d": [
           {
            "colorbar": {
             "outlinewidth": 0,
             "ticks": ""
            },
            "type": "mesh3d"
           }
          ],
          "parcoords": [
           {
            "line": {
             "colorbar": {
              "outlinewidth": 0,
              "ticks": ""
             }
            },
            "type": "parcoords"
           }
          ],
          "pie": [
           {
            "automargin": true,
            "type": "pie"
           }
          ],
          "scatter": [
           {
            "fillpattern": {
             "fillmode": "overlay",
             "size": 10,
             "solidity": 0.2
            },
            "type": "scatter"
           }
          ],
          "scatter3d": [
           {
            "line": {
             "colorbar": {
              "outlinewidth": 0,
              "ticks": ""
             }
            },
            "marker": {
             "colorbar": {
              "outlinewidth": 0,
              "ticks": ""
             }
            },
            "type": "scatter3d"
           }
          ],
          "scattercarpet": [
           {
            "marker": {
             "colorbar": {
              "outlinewidth": 0,
              "ticks": ""
             }
            },
            "type": "scattercarpet"
           }
          ],
          "scattergeo": [
           {
            "marker": {
             "colorbar": {
              "outlinewidth": 0,
              "ticks": ""
             }
            },
            "type": "scattergeo"
           }
          ],
          "scattergl": [
           {
            "marker": {
             "colorbar": {
              "outlinewidth": 0,
              "ticks": ""
             }
            },
            "type": "scattergl"
           }
          ],
          "scattermapbox": [
           {
            "marker": {
             "colorbar": {
              "outlinewidth": 0,
              "ticks": ""
             }
            },
            "type": "scattermapbox"
           }
          ],
          "scatterpolar": [
           {
            "marker": {
             "colorbar": {
              "outlinewidth": 0,
              "ticks": ""
             }
            },
            "type": "scatterpolar"
           }
          ],
          "scatterpolargl": [
           {
            "marker": {
             "colorbar": {
              "outlinewidth": 0,
              "ticks": ""
             }
            },
            "type": "scatterpolargl"
           }
          ],
          "scatterternary": [
           {
            "marker": {
             "colorbar": {
              "outlinewidth": 0,
              "ticks": ""
             }
            },
            "type": "scatterternary"
           }
          ],
          "surface": [
           {
            "colorbar": {
             "outlinewidth": 0,
             "ticks": ""
            },
            "colorscale": [
             [
              0,
              "#0d0887"
             ],
             [
              0.1111111111111111,
              "#46039f"
             ],
             [
              0.2222222222222222,
              "#7201a8"
             ],
             [
              0.3333333333333333,
              "#9c179e"
             ],
             [
              0.4444444444444444,
              "#bd3786"
             ],
             [
              0.5555555555555556,
              "#d8576b"
             ],
             [
              0.6666666666666666,
              "#ed7953"
             ],
             [
              0.7777777777777778,
              "#fb9f3a"
             ],
             [
              0.8888888888888888,
              "#fdca26"
             ],
             [
              1,
              "#f0f921"
             ]
            ],
            "type": "surface"
           }
          ],
          "table": [
           {
            "cells": {
             "fill": {
              "color": "#EBF0F8"
             },
             "line": {
              "color": "white"
             }
            },
            "header": {
             "fill": {
              "color": "#C8D4E3"
             },
             "line": {
              "color": "white"
             }
            },
            "type": "table"
           }
          ]
         },
         "layout": {
          "annotationdefaults": {
           "arrowcolor": "#2a3f5f",
           "arrowhead": 0,
           "arrowwidth": 1
          },
          "autotypenumbers": "strict",
          "coloraxis": {
           "colorbar": {
            "outlinewidth": 0,
            "ticks": ""
           }
          },
          "colorscale": {
           "diverging": [
            [
             0,
             "#8e0152"
            ],
            [
             0.1,
             "#c51b7d"
            ],
            [
             0.2,
             "#de77ae"
            ],
            [
             0.3,
             "#f1b6da"
            ],
            [
             0.4,
             "#fde0ef"
            ],
            [
             0.5,
             "#f7f7f7"
            ],
            [
             0.6,
             "#e6f5d0"
            ],
            [
             0.7,
             "#b8e186"
            ],
            [
             0.8,
             "#7fbc41"
            ],
            [
             0.9,
             "#4d9221"
            ],
            [
             1,
             "#276419"
            ]
           ],
           "sequential": [
            [
             0,
             "#0d0887"
            ],
            [
             0.1111111111111111,
             "#46039f"
            ],
            [
             0.2222222222222222,
             "#7201a8"
            ],
            [
             0.3333333333333333,
             "#9c179e"
            ],
            [
             0.4444444444444444,
             "#bd3786"
            ],
            [
             0.5555555555555556,
             "#d8576b"
            ],
            [
             0.6666666666666666,
             "#ed7953"
            ],
            [
             0.7777777777777778,
             "#fb9f3a"
            ],
            [
             0.8888888888888888,
             "#fdca26"
            ],
            [
             1,
             "#f0f921"
            ]
           ],
           "sequentialminus": [
            [
             0,
             "#0d0887"
            ],
            [
             0.1111111111111111,
             "#46039f"
            ],
            [
             0.2222222222222222,
             "#7201a8"
            ],
            [
             0.3333333333333333,
             "#9c179e"
            ],
            [
             0.4444444444444444,
             "#bd3786"
            ],
            [
             0.5555555555555556,
             "#d8576b"
            ],
            [
             0.6666666666666666,
             "#ed7953"
            ],
            [
             0.7777777777777778,
             "#fb9f3a"
            ],
            [
             0.8888888888888888,
             "#fdca26"
            ],
            [
             1,
             "#f0f921"
            ]
           ]
          },
          "colorway": [
           "#636efa",
           "#EF553B",
           "#00cc96",
           "#ab63fa",
           "#FFA15A",
           "#19d3f3",
           "#FF6692",
           "#B6E880",
           "#FF97FF",
           "#FECB52"
          ],
          "font": {
           "color": "#2a3f5f"
          },
          "geo": {
           "bgcolor": "white",
           "lakecolor": "white",
           "landcolor": "#E5ECF6",
           "showlakes": true,
           "showland": true,
           "subunitcolor": "white"
          },
          "hoverlabel": {
           "align": "left"
          },
          "hovermode": "closest",
          "mapbox": {
           "style": "light"
          },
          "paper_bgcolor": "white",
          "plot_bgcolor": "#E5ECF6",
          "polar": {
           "angularaxis": {
            "gridcolor": "white",
            "linecolor": "white",
            "ticks": ""
           },
           "bgcolor": "#E5ECF6",
           "radialaxis": {
            "gridcolor": "white",
            "linecolor": "white",
            "ticks": ""
           }
          },
          "scene": {
           "xaxis": {
            "backgroundcolor": "#E5ECF6",
            "gridcolor": "white",
            "gridwidth": 2,
            "linecolor": "white",
            "showbackground": true,
            "ticks": "",
            "zerolinecolor": "white"
           },
           "yaxis": {
            "backgroundcolor": "#E5ECF6",
            "gridcolor": "white",
            "gridwidth": 2,
            "linecolor": "white",
            "showbackground": true,
            "ticks": "",
            "zerolinecolor": "white"
           },
           "zaxis": {
            "backgroundcolor": "#E5ECF6",
            "gridcolor": "white",
            "gridwidth": 2,
            "linecolor": "white",
            "showbackground": true,
            "ticks": "",
            "zerolinecolor": "white"
           }
          },
          "shapedefaults": {
           "line": {
            "color": "#2a3f5f"
           }
          },
          "ternary": {
           "aaxis": {
            "gridcolor": "white",
            "linecolor": "white",
            "ticks": ""
           },
           "baxis": {
            "gridcolor": "white",
            "linecolor": "white",
            "ticks": ""
           },
           "bgcolor": "#E5ECF6",
           "caxis": {
            "gridcolor": "white",
            "linecolor": "white",
            "ticks": ""
           }
          },
          "title": {
           "x": 0.05
          },
          "xaxis": {
           "automargin": true,
           "gridcolor": "white",
           "linecolor": "white",
           "ticks": "",
           "title": {
            "standoff": 15
           },
           "zerolinecolor": "white",
           "zerolinewidth": 2
          },
          "yaxis": {
           "automargin": true,
           "gridcolor": "white",
           "linecolor": "white",
           "ticks": "",
           "title": {
            "standoff": 15
           },
           "zerolinecolor": "white",
           "zerolinewidth": 2
          }
         }
        },
        "title": {
         "text": "Average Weekly Sales: Promo vs. No Promo"
        },
        "xaxis": {
         "anchor": "y",
         "categoryarray": [
          "No Promo",
          "Promo"
         ],
         "categoryorder": "array",
         "domain": [
          0,
          1
         ],
         "title": {
          "text": "Promotion"
         }
        },
        "yaxis": {
         "anchor": "x",
         "domain": [
          0,
          1
         ],
         "title": {
          "text": "Average Weekly Sales"
         }
        }
       }
      }
     },
     "metadata": {},
     "output_type": "display_data"
    }
   ],
   "source": [
    "fig = px.bar(\n",
    "    avg_sales,\n",
    "    x='Promotion',\n",
    "    y='weekly_sales',\n",
    "    color='Promotion',\n",
    "    title='Average Weekly Sales: Promo vs. No Promo',\n",
    "    labels={'weekly_sales': 'Average Weekly Sales'}\n",
    "    \n",
    ")\n",
    "\n",
    "fig.show()"
   ]
  },
  {
   "cell_type": "markdown",
   "id": "df1df718",
   "metadata": {},
   "source": [
    "\"Chart shows the average weekly sales for both promoted and non-promoted products. Products featured on the main page had nearly twice the average weekly sales compared to those that weren’t promoted. This provides a clear indication that promotional placement has a positive impact on overall sales performance.\""
   ]
  },
  {
   "cell_type": "code",
   "execution_count": 12,
   "id": "d1cae568",
   "metadata": {},
   "outputs": [
    {
     "ename": "ModuleNotFoundError",
     "evalue": "No module named 'scipy'",
     "output_type": "error",
     "traceback": [
      "\u001b[1;31m---------------------------------------------------------------------------\u001b[0m",
      "\u001b[1;31mModuleNotFoundError\u001b[0m                       Traceback (most recent call last)",
      "Cell \u001b[1;32mIn[12], line 1\u001b[0m\n\u001b[1;32m----> 1\u001b[0m \u001b[38;5;28;01mfrom\u001b[39;00m\u001b[38;5;250m \u001b[39m\u001b[38;5;21;01mscipy\u001b[39;00m\u001b[38;5;21;01m.\u001b[39;00m\u001b[38;5;21;01mstats\u001b[39;00m\u001b[38;5;250m \u001b[39m\u001b[38;5;28;01mimport\u001b[39;00m ttest_ind\n\u001b[0;32m      3\u001b[0m \u001b[38;5;66;03m# Separate the groups\u001b[39;00m\n\u001b[0;32m      4\u001b[0m promo_sales \u001b[38;5;241m=\u001b[39m df[df[\u001b[38;5;124m'\u001b[39m\u001b[38;5;124mfeat_main_flag\u001b[39m\u001b[38;5;124m'\u001b[39m] \u001b[38;5;241m==\u001b[39m \u001b[38;5;241m1\u001b[39m][\u001b[38;5;124m'\u001b[39m\u001b[38;5;124mweekly_sales\u001b[39m\u001b[38;5;124m'\u001b[39m]\n",
      "\u001b[1;31mModuleNotFoundError\u001b[0m: No module named 'scipy'"
     ]
    }
   ],
   "source": [
    "from scipy.stats import ttest_ind\n",
    "\n",
    "# Separate the groups\n",
    "promo_sales = df[df['feat_main_flag'] == 1]['weekly_sales']\n",
    "no_promo_sales = df[df['feat_main_flag'] == 0]['weekly_sales']\n",
    "\n",
    "# Run Welch’s t-test (doesn't assume equal variance)\n",
    "t_stat, p_value = ttest_ind(promo_sales, no_promo_sales, equal_var=False)\n",
    "\n",
    "print(f\"T-Statistic: {t_stat:.2f}\")\n",
    "print(f\"P-Value: {p_value:.4f}\")"
   ]
  },
  {
   "cell_type": "markdown",
   "id": "a1e26dc8",
   "metadata": {},
   "source": [
    "“There is strong statistical evidence that weekly sales are significantly higher when a product is featured on the main page. The p-value of 0.0000 indicates this result is not due to chance — promotions are genuinely impacting sales.”"
   ]
  },
  {
   "cell_type": "code",
   "execution_count": null,
   "id": "2992fdcc",
   "metadata": {},
   "outputs": [
    {
     "name": "stdout",
     "output_type": "stream",
     "text": [
      "                            OLS Regression Results                            \n",
      "==============================================================================\n",
      "Dep. Variable:           weekly_sales   R-squared:                       0.011\n",
      "Model:                            OLS   Adj. R-squared:                  0.010\n",
      "Method:                 Least Squares   F-statistic:                     47.11\n",
      "Date:                Fri, 25 Apr 2025   Prob (F-statistic):           7.65e-12\n",
      "Time:                        00:13:45   Log-Likelihood:                -31136.\n",
      "No. Observations:                4400   AIC:                         6.228e+04\n",
      "Df Residuals:                    4398   BIC:                         6.229e+04\n",
      "Df Model:                           1                                         \n",
      "Covariance Type:            nonrobust                                         \n",
      "==================================================================================\n",
      "                     coef    std err          t      P>|t|      [0.025      0.975]\n",
      "----------------------------------------------------------------------------------\n",
      "const             60.9193      5.390     11.301      0.000      50.351      71.487\n",
      "feat_main_flag    61.8388      9.010      6.864      0.000      44.175      79.502\n",
      "==============================================================================\n",
      "Omnibus:                     7707.059   Durbin-Watson:                   0.985\n",
      "Prob(Omnibus):                  0.000   Jarque-Bera (JB):          8683183.047\n",
      "Skew:                          12.303   Prob(JB):                         0.00\n",
      "Kurtosis:                     219.234   Cond. No.                         2.42\n",
      "==============================================================================\n",
      "\n",
      "Notes:\n",
      "[1] Standard Errors assume that the covariance matrix of the errors is correctly specified.\n"
     ]
    }
   ],
   "source": [
    "import statsmodels.api as sm\n",
    "\n",
    "# Regression model: weekly_sales ~ feat_main_flag\n",
    "X = sm.add_constant(df['feat_main_flag'])  # Adds intercept\n",
    "y = df['weekly_sales']\n",
    "\n",
    "model = sm.OLS(y, X).fit()\n",
    "print(model.summary())"
   ]
  },
  {
   "cell_type": "markdown",
   "id": "281fda19",
   "metadata": {},
   "source": [
    "“The regression model shows that being promoted on the main page is associated with an increase of ~60 weekly sales units on average, controlling for other factors. This reinforces the value of main-page exposure as a lever for sales growth.”"
   ]
  },
  {
   "cell_type": "code",
   "execution_count": null,
   "id": "238e4855",
   "metadata": {},
   "outputs": [
    {
     "data": {
      "application/vnd.plotly.v1+json": {
       "config": {
        "plotlyServerURL": "https://plot.ly"
       },
       "data": [
        {
         "hovertemplate": "vendor=%{x}<br>Total Sales=%{marker.color}<extra></extra>",
         "legendgroup": "",
         "marker": {
          "color": {
           "bdata": "XGgCAJqEAQBcfAAADnwAADQqAADEJwAAoCcAAKwmAAB2BwAAZwYAAA==",
           "dtype": "i4"
          },
          "coloraxis": "coloraxis",
          "pattern": {
           "shape": ""
          }
         },
         "name": "",
         "orientation": "v",
         "showlegend": false,
         "textposition": "auto",
         "type": "bar",
         "x": {
          "bdata": "CAYFCgIDBAkBBw==",
          "dtype": "i1"
         },
         "xaxis": "x",
         "y": {
          "bdata": "XGgCAJqEAQBcfAAADnwAADQqAADEJwAAoCcAAKwmAAB2BwAAZwYAAA==",
          "dtype": "i4"
         },
         "yaxis": "y"
        }
       ],
       "layout": {
        "barmode": "relative",
        "coloraxis": {
         "colorbar": {
          "title": {
           "text": "Total Sales"
          }
         },
         "colorscale": [
          [
           0,
           "rgb(247,251,255)"
          ],
          [
           0.125,
           "rgb(222,235,247)"
          ],
          [
           0.25,
           "rgb(198,219,239)"
          ],
          [
           0.375,
           "rgb(158,202,225)"
          ],
          [
           0.5,
           "rgb(107,174,214)"
          ],
          [
           0.625,
           "rgb(66,146,198)"
          ],
          [
           0.75,
           "rgb(33,113,181)"
          ],
          [
           0.875,
           "rgb(8,81,156)"
          ],
          [
           1,
           "rgb(8,48,107)"
          ]
         ]
        },
        "legend": {
         "tracegroupgap": 0
        },
        "template": {
         "data": {
          "bar": [
           {
            "error_x": {
             "color": "#2a3f5f"
            },
            "error_y": {
             "color": "#2a3f5f"
            },
            "marker": {
             "line": {
              "color": "#E5ECF6",
              "width": 0.5
             },
             "pattern": {
              "fillmode": "overlay",
              "size": 10,
              "solidity": 0.2
             }
            },
            "type": "bar"
           }
          ],
          "barpolar": [
           {
            "marker": {
             "line": {
              "color": "#E5ECF6",
              "width": 0.5
             },
             "pattern": {
              "fillmode": "overlay",
              "size": 10,
              "solidity": 0.2
             }
            },
            "type": "barpolar"
           }
          ],
          "carpet": [
           {
            "aaxis": {
             "endlinecolor": "#2a3f5f",
             "gridcolor": "white",
             "linecolor": "white",
             "minorgridcolor": "white",
             "startlinecolor": "#2a3f5f"
            },
            "baxis": {
             "endlinecolor": "#2a3f5f",
             "gridcolor": "white",
             "linecolor": "white",
             "minorgridcolor": "white",
             "startlinecolor": "#2a3f5f"
            },
            "type": "carpet"
           }
          ],
          "choropleth": [
           {
            "colorbar": {
             "outlinewidth": 0,
             "ticks": ""
            },
            "type": "choropleth"
           }
          ],
          "contour": [
           {
            "colorbar": {
             "outlinewidth": 0,
             "ticks": ""
            },
            "colorscale": [
             [
              0,
              "#0d0887"
             ],
             [
              0.1111111111111111,
              "#46039f"
             ],
             [
              0.2222222222222222,
              "#7201a8"
             ],
             [
              0.3333333333333333,
              "#9c179e"
             ],
             [
              0.4444444444444444,
              "#bd3786"
             ],
             [
              0.5555555555555556,
              "#d8576b"
             ],
             [
              0.6666666666666666,
              "#ed7953"
             ],
             [
              0.7777777777777778,
              "#fb9f3a"
             ],
             [
              0.8888888888888888,
              "#fdca26"
             ],
             [
              1,
              "#f0f921"
             ]
            ],
            "type": "contour"
           }
          ],
          "contourcarpet": [
           {
            "colorbar": {
             "outlinewidth": 0,
             "ticks": ""
            },
            "type": "contourcarpet"
           }
          ],
          "heatmap": [
           {
            "colorbar": {
             "outlinewidth": 0,
             "ticks": ""
            },
            "colorscale": [
             [
              0,
              "#0d0887"
             ],
             [
              0.1111111111111111,
              "#46039f"
             ],
             [
              0.2222222222222222,
              "#7201a8"
             ],
             [
              0.3333333333333333,
              "#9c179e"
             ],
             [
              0.4444444444444444,
              "#bd3786"
             ],
             [
              0.5555555555555556,
              "#d8576b"
             ],
             [
              0.6666666666666666,
              "#ed7953"
             ],
             [
              0.7777777777777778,
              "#fb9f3a"
             ],
             [
              0.8888888888888888,
              "#fdca26"
             ],
             [
              1,
              "#f0f921"
             ]
            ],
            "type": "heatmap"
           }
          ],
          "histogram": [
           {
            "marker": {
             "pattern": {
              "fillmode": "overlay",
              "size": 10,
              "solidity": 0.2
             }
            },
            "type": "histogram"
           }
          ],
          "histogram2d": [
           {
            "colorbar": {
             "outlinewidth": 0,
             "ticks": ""
            },
            "colorscale": [
             [
              0,
              "#0d0887"
             ],
             [
              0.1111111111111111,
              "#46039f"
             ],
             [
              0.2222222222222222,
              "#7201a8"
             ],
             [
              0.3333333333333333,
              "#9c179e"
             ],
             [
              0.4444444444444444,
              "#bd3786"
             ],
             [
              0.5555555555555556,
              "#d8576b"
             ],
             [
              0.6666666666666666,
              "#ed7953"
             ],
             [
              0.7777777777777778,
              "#fb9f3a"
             ],
             [
              0.8888888888888888,
              "#fdca26"
             ],
             [
              1,
              "#f0f921"
             ]
            ],
            "type": "histogram2d"
           }
          ],
          "histogram2dcontour": [
           {
            "colorbar": {
             "outlinewidth": 0,
             "ticks": ""
            },
            "colorscale": [
             [
              0,
              "#0d0887"
             ],
             [
              0.1111111111111111,
              "#46039f"
             ],
             [
              0.2222222222222222,
              "#7201a8"
             ],
             [
              0.3333333333333333,
              "#9c179e"
             ],
             [
              0.4444444444444444,
              "#bd3786"
             ],
             [
              0.5555555555555556,
              "#d8576b"
             ],
             [
              0.6666666666666666,
              "#ed7953"
             ],
             [
              0.7777777777777778,
              "#fb9f3a"
             ],
             [
              0.8888888888888888,
              "#fdca26"
             ],
             [
              1,
              "#f0f921"
             ]
            ],
            "type": "histogram2dcontour"
           }
          ],
          "mesh3d": [
           {
            "colorbar": {
             "outlinewidth": 0,
             "ticks": ""
            },
            "type": "mesh3d"
           }
          ],
          "parcoords": [
           {
            "line": {
             "colorbar": {
              "outlinewidth": 0,
              "ticks": ""
             }
            },
            "type": "parcoords"
           }
          ],
          "pie": [
           {
            "automargin": true,
            "type": "pie"
           }
          ],
          "scatter": [
           {
            "fillpattern": {
             "fillmode": "overlay",
             "size": 10,
             "solidity": 0.2
            },
            "type": "scatter"
           }
          ],
          "scatter3d": [
           {
            "line": {
             "colorbar": {
              "outlinewidth": 0,
              "ticks": ""
             }
            },
            "marker": {
             "colorbar": {
              "outlinewidth": 0,
              "ticks": ""
             }
            },
            "type": "scatter3d"
           }
          ],
          "scattercarpet": [
           {
            "marker": {
             "colorbar": {
              "outlinewidth": 0,
              "ticks": ""
             }
            },
            "type": "scattercarpet"
           }
          ],
          "scattergeo": [
           {
            "marker": {
             "colorbar": {
              "outlinewidth": 0,
              "ticks": ""
             }
            },
            "type": "scattergeo"
           }
          ],
          "scattergl": [
           {
            "marker": {
             "colorbar": {
              "outlinewidth": 0,
              "ticks": ""
             }
            },
            "type": "scattergl"
           }
          ],
          "scattermap": [
           {
            "marker": {
             "colorbar": {
              "outlinewidth": 0,
              "ticks": ""
             }
            },
            "type": "scattermap"
           }
          ],
          "scattermapbox": [
           {
            "marker": {
             "colorbar": {
              "outlinewidth": 0,
              "ticks": ""
             }
            },
            "type": "scattermapbox"
           }
          ],
          "scatterpolar": [
           {
            "marker": {
             "colorbar": {
              "outlinewidth": 0,
              "ticks": ""
             }
            },
            "type": "scatterpolar"
           }
          ],
          "scatterpolargl": [
           {
            "marker": {
             "colorbar": {
              "outlinewidth": 0,
              "ticks": ""
             }
            },
            "type": "scatterpolargl"
           }
          ],
          "scatterternary": [
           {
            "marker": {
             "colorbar": {
              "outlinewidth": 0,
              "ticks": ""
             }
            },
            "type": "scatterternary"
           }
          ],
          "surface": [
           {
            "colorbar": {
             "outlinewidth": 0,
             "ticks": ""
            },
            "colorscale": [
             [
              0,
              "#0d0887"
             ],
             [
              0.1111111111111111,
              "#46039f"
             ],
             [
              0.2222222222222222,
              "#7201a8"
             ],
             [
              0.3333333333333333,
              "#9c179e"
             ],
             [
              0.4444444444444444,
              "#bd3786"
             ],
             [
              0.5555555555555556,
              "#d8576b"
             ],
             [
              0.6666666666666666,
              "#ed7953"
             ],
             [
              0.7777777777777778,
              "#fb9f3a"
             ],
             [
              0.8888888888888888,
              "#fdca26"
             ],
             [
              1,
              "#f0f921"
             ]
            ],
            "type": "surface"
           }
          ],
          "table": [
           {
            "cells": {
             "fill": {
              "color": "#EBF0F8"
             },
             "line": {
              "color": "white"
             }
            },
            "header": {
             "fill": {
              "color": "#C8D4E3"
             },
             "line": {
              "color": "white"
             }
            },
            "type": "table"
           }
          ]
         },
         "layout": {
          "annotationdefaults": {
           "arrowcolor": "#2a3f5f",
           "arrowhead": 0,
           "arrowwidth": 1
          },
          "autotypenumbers": "strict",
          "coloraxis": {
           "colorbar": {
            "outlinewidth": 0,
            "ticks": ""
           }
          },
          "colorscale": {
           "diverging": [
            [
             0,
             "#8e0152"
            ],
            [
             0.1,
             "#c51b7d"
            ],
            [
             0.2,
             "#de77ae"
            ],
            [
             0.3,
             "#f1b6da"
            ],
            [
             0.4,
             "#fde0ef"
            ],
            [
             0.5,
             "#f7f7f7"
            ],
            [
             0.6,
             "#e6f5d0"
            ],
            [
             0.7,
             "#b8e186"
            ],
            [
             0.8,
             "#7fbc41"
            ],
            [
             0.9,
             "#4d9221"
            ],
            [
             1,
             "#276419"
            ]
           ],
           "sequential": [
            [
             0,
             "#0d0887"
            ],
            [
             0.1111111111111111,
             "#46039f"
            ],
            [
             0.2222222222222222,
             "#7201a8"
            ],
            [
             0.3333333333333333,
             "#9c179e"
            ],
            [
             0.4444444444444444,
             "#bd3786"
            ],
            [
             0.5555555555555556,
             "#d8576b"
            ],
            [
             0.6666666666666666,
             "#ed7953"
            ],
            [
             0.7777777777777778,
             "#fb9f3a"
            ],
            [
             0.8888888888888888,
             "#fdca26"
            ],
            [
             1,
             "#f0f921"
            ]
           ],
           "sequentialminus": [
            [
             0,
             "#0d0887"
            ],
            [
             0.1111111111111111,
             "#46039f"
            ],
            [
             0.2222222222222222,
             "#7201a8"
            ],
            [
             0.3333333333333333,
             "#9c179e"
            ],
            [
             0.4444444444444444,
             "#bd3786"
            ],
            [
             0.5555555555555556,
             "#d8576b"
            ],
            [
             0.6666666666666666,
             "#ed7953"
            ],
            [
             0.7777777777777778,
             "#fb9f3a"
            ],
            [
             0.8888888888888888,
             "#fdca26"
            ],
            [
             1,
             "#f0f921"
            ]
           ]
          },
          "colorway": [
           "#636efa",
           "#EF553B",
           "#00cc96",
           "#ab63fa",
           "#FFA15A",
           "#19d3f3",
           "#FF6692",
           "#B6E880",
           "#FF97FF",
           "#FECB52"
          ],
          "font": {
           "color": "#2a3f5f"
          },
          "geo": {
           "bgcolor": "white",
           "lakecolor": "white",
           "landcolor": "#E5ECF6",
           "showlakes": true,
           "showland": true,
           "subunitcolor": "white"
          },
          "hoverlabel": {
           "align": "left"
          },
          "hovermode": "closest",
          "mapbox": {
           "style": "light"
          },
          "paper_bgcolor": "white",
          "plot_bgcolor": "#E5ECF6",
          "polar": {
           "angularaxis": {
            "gridcolor": "white",
            "linecolor": "white",
            "ticks": ""
           },
           "bgcolor": "#E5ECF6",
           "radialaxis": {
            "gridcolor": "white",
            "linecolor": "white",
            "ticks": ""
           }
          },
          "scene": {
           "xaxis": {
            "backgroundcolor": "#E5ECF6",
            "gridcolor": "white",
            "gridwidth": 2,
            "linecolor": "white",
            "showbackground": true,
            "ticks": "",
            "zerolinecolor": "white"
           },
           "yaxis": {
            "backgroundcolor": "#E5ECF6",
            "gridcolor": "white",
            "gridwidth": 2,
            "linecolor": "white",
            "showbackground": true,
            "ticks": "",
            "zerolinecolor": "white"
           },
           "zaxis": {
            "backgroundcolor": "#E5ECF6",
            "gridcolor": "white",
            "gridwidth": 2,
            "linecolor": "white",
            "showbackground": true,
            "ticks": "",
            "zerolinecolor": "white"
           }
          },
          "shapedefaults": {
           "line": {
            "color": "#2a3f5f"
           }
          },
          "ternary": {
           "aaxis": {
            "gridcolor": "white",
            "linecolor": "white",
            "ticks": ""
           },
           "baxis": {
            "gridcolor": "white",
            "linecolor": "white",
            "ticks": ""
           },
           "bgcolor": "#E5ECF6",
           "caxis": {
            "gridcolor": "white",
            "linecolor": "white",
            "ticks": ""
           }
          },
          "title": {
           "x": 0.05
          },
          "xaxis": {
           "automargin": true,
           "gridcolor": "white",
           "linecolor": "white",
           "ticks": "",
           "title": {
            "standoff": 15
           },
           "zerolinecolor": "white",
           "zerolinewidth": 2
          },
          "yaxis": {
           "automargin": true,
           "gridcolor": "white",
           "linecolor": "white",
           "ticks": "",
           "title": {
            "standoff": 15
           },
           "zerolinecolor": "white",
           "zerolinewidth": 2
          }
         }
        },
        "title": {
         "text": "Total Weekly Sales by Vendor"
        },
        "xaxis": {
         "anchor": "y",
         "domain": [
          0,
          1
         ],
         "title": {
          "text": "vendor"
         }
        },
        "yaxis": {
         "anchor": "x",
         "domain": [
          0,
          1
         ],
         "title": {
          "text": "Total Sales"
         }
        }
       }
      }
     },
     "metadata": {},
     "output_type": "display_data"
    }
   ],
   "source": [
    "# Total sales by vendor\n",
    "vendor_perf = df.groupby('vendor')['weekly_sales'].sum().reset_index().sort_values(by='weekly_sales', ascending=False)\n",
    "\n",
    "fig = px.bar(\n",
    "    vendor_perf,\n",
    "    x='vendor',\n",
    "    y='weekly_sales',\n",
    "    title='Total Weekly Sales by Vendor',\n",
    "    labels={'weekly_sales': 'Total Sales'},\n",
    "    color_continuous_scale='Blues',\n",
    "    color='weekly_sales'\n",
    ")\n",
    "fig.show()"
   ]
  },
  {
   "cell_type": "markdown",
   "id": "b98e691c",
   "metadata": {},
   "source": [
    "\"Vendor 8 stands out as the top performer, generating the highest total weekly sales by a significant margin, followed by Vendors 6 and 5. This suggests that Vendor 8 consistently supplies high-demand products and may be a strong candidate for expanded partnerships or promotional focus. Further analysis of SKU-level performance within these vendors could help pinpoint the drivers of this success.\""
   ]
  },
  {
   "cell_type": "code",
   "execution_count": null,
   "id": "bbfb8a87",
   "metadata": {},
   "outputs": [
    {
     "data": {
      "application/vnd.plotly.v1+json": {
       "config": {
        "plotlyServerURL": "https://plot.ly"
       },
       "data": [
        {
         "coloraxis": "coloraxis",
         "histfunc": "sum",
         "hovertemplate": "vendor=%{x}<br>sku=%{y}<br>sum of weekly_sales=%{z}<extra></extra>",
         "name": "",
         "type": "histogram2d",
         "x": {
          "bdata": "AQECAwMEBQUFBQYGBgYGBgYGBgYGBgcICAgICAgICAkJCQoKCgoKCgoKCgo=",
          "dtype": "i1"
         },
         "xaxis": "x",
         "xbingroup": "x",
         "y": {
          "bdata": "AgMWBgcXFBgoKQEEDA8REhMaHR4fLCUQFRkbISIjJAkKKwUICw0OHCAmJyo=",
          "dtype": "i1"
         },
         "yaxis": "y",
         "ybingroup": "y",
         "z": {
          "bdata": "CtejcD0KIUApXI/C9SglQMP1KFyPAltAZmZmZmamMECamZmZmUlVQFyPwvUoXFlAXI/C9Si8WEBmZmZmZiY+QAAAAAAAIGFAw/UoXI8iSkCuR+F6FC42QFK4HoXr0SFAzczMzMzMQ0DD9Shcj1pxQAAAAAAAgDtArkfhehQuKUBI4XoUrmdJQKRwPQrXo0tA4XoUrkdhRECF61G4HhV3QDMzMzMzg1NAUrgehetRKECkcD0K12MwQI/C9ShcD1RApHA9CtejMUCF61G4HoOPQNejcD0Kh1pAH4XrUbheY0BSuB6F6zFhQDMzMzMzMz9ApHA9CtfjRECamZmZmWlSQMP1KFyPQi1AcT0K16NwJUAzMzMzM7MiQGZmZmZmJj9AKVyPwvVoTEAfhetRuN4wQGZmZmZmBk5ArkfhehTOVUAfhetRuF4zQAAAAAAAACNA16NwPQqXM0CkcD0K16MeQA==",
          "dtype": "f8"
         }
        }
       ],
       "layout": {
        "coloraxis": {
         "colorbar": {
          "title": {
           "text": "sum of weekly_sales"
          }
         },
         "colorscale": [
          [
           0,
           "rgb(247,251,255)"
          ],
          [
           0.125,
           "rgb(222,235,247)"
          ],
          [
           0.25,
           "rgb(198,219,239)"
          ],
          [
           0.375,
           "rgb(158,202,225)"
          ],
          [
           0.5,
           "rgb(107,174,214)"
          ],
          [
           0.625,
           "rgb(66,146,198)"
          ],
          [
           0.75,
           "rgb(33,113,181)"
          ],
          [
           0.875,
           "rgb(8,81,156)"
          ],
          [
           1,
           "rgb(8,48,107)"
          ]
         ]
        },
        "legend": {
         "tracegroupgap": 0
        },
        "template": {
         "data": {
          "bar": [
           {
            "error_x": {
             "color": "#2a3f5f"
            },
            "error_y": {
             "color": "#2a3f5f"
            },
            "marker": {
             "line": {
              "color": "#E5ECF6",
              "width": 0.5
             },
             "pattern": {
              "fillmode": "overlay",
              "size": 10,
              "solidity": 0.2
             }
            },
            "type": "bar"
           }
          ],
          "barpolar": [
           {
            "marker": {
             "line": {
              "color": "#E5ECF6",
              "width": 0.5
             },
             "pattern": {
              "fillmode": "overlay",
              "size": 10,
              "solidity": 0.2
             }
            },
            "type": "barpolar"
           }
          ],
          "carpet": [
           {
            "aaxis": {
             "endlinecolor": "#2a3f5f",
             "gridcolor": "white",
             "linecolor": "white",
             "minorgridcolor": "white",
             "startlinecolor": "#2a3f5f"
            },
            "baxis": {
             "endlinecolor": "#2a3f5f",
             "gridcolor": "white",
             "linecolor": "white",
             "minorgridcolor": "white",
             "startlinecolor": "#2a3f5f"
            },
            "type": "carpet"
           }
          ],
          "choropleth": [
           {
            "colorbar": {
             "outlinewidth": 0,
             "ticks": ""
            },
            "type": "choropleth"
           }
          ],
          "contour": [
           {
            "colorbar": {
             "outlinewidth": 0,
             "ticks": ""
            },
            "colorscale": [
             [
              0,
              "#0d0887"
             ],
             [
              0.1111111111111111,
              "#46039f"
             ],
             [
              0.2222222222222222,
              "#7201a8"
             ],
             [
              0.3333333333333333,
              "#9c179e"
             ],
             [
              0.4444444444444444,
              "#bd3786"
             ],
             [
              0.5555555555555556,
              "#d8576b"
             ],
             [
              0.6666666666666666,
              "#ed7953"
             ],
             [
              0.7777777777777778,
              "#fb9f3a"
             ],
             [
              0.8888888888888888,
              "#fdca26"
             ],
             [
              1,
              "#f0f921"
             ]
            ],
            "type": "contour"
           }
          ],
          "contourcarpet": [
           {
            "colorbar": {
             "outlinewidth": 0,
             "ticks": ""
            },
            "type": "contourcarpet"
           }
          ],
          "heatmap": [
           {
            "colorbar": {
             "outlinewidth": 0,
             "ticks": ""
            },
            "colorscale": [
             [
              0,
              "#0d0887"
             ],
             [
              0.1111111111111111,
              "#46039f"
             ],
             [
              0.2222222222222222,
              "#7201a8"
             ],
             [
              0.3333333333333333,
              "#9c179e"
             ],
             [
              0.4444444444444444,
              "#bd3786"
             ],
             [
              0.5555555555555556,
              "#d8576b"
             ],
             [
              0.6666666666666666,
              "#ed7953"
             ],
             [
              0.7777777777777778,
              "#fb9f3a"
             ],
             [
              0.8888888888888888,
              "#fdca26"
             ],
             [
              1,
              "#f0f921"
             ]
            ],
            "type": "heatmap"
           }
          ],
          "histogram": [
           {
            "marker": {
             "pattern": {
              "fillmode": "overlay",
              "size": 10,
              "solidity": 0.2
             }
            },
            "type": "histogram"
           }
          ],
          "histogram2d": [
           {
            "colorbar": {
             "outlinewidth": 0,
             "ticks": ""
            },
            "colorscale": [
             [
              0,
              "#0d0887"
             ],
             [
              0.1111111111111111,
              "#46039f"
             ],
             [
              0.2222222222222222,
              "#7201a8"
             ],
             [
              0.3333333333333333,
              "#9c179e"
             ],
             [
              0.4444444444444444,
              "#bd3786"
             ],
             [
              0.5555555555555556,
              "#d8576b"
             ],
             [
              0.6666666666666666,
              "#ed7953"
             ],
             [
              0.7777777777777778,
              "#fb9f3a"
             ],
             [
              0.8888888888888888,
              "#fdca26"
             ],
             [
              1,
              "#f0f921"
             ]
            ],
            "type": "histogram2d"
           }
          ],
          "histogram2dcontour": [
           {
            "colorbar": {
             "outlinewidth": 0,
             "ticks": ""
            },
            "colorscale": [
             [
              0,
              "#0d0887"
             ],
             [
              0.1111111111111111,
              "#46039f"
             ],
             [
              0.2222222222222222,
              "#7201a8"
             ],
             [
              0.3333333333333333,
              "#9c179e"
             ],
             [
              0.4444444444444444,
              "#bd3786"
             ],
             [
              0.5555555555555556,
              "#d8576b"
             ],
             [
              0.6666666666666666,
              "#ed7953"
             ],
             [
              0.7777777777777778,
              "#fb9f3a"
             ],
             [
              0.8888888888888888,
              "#fdca26"
             ],
             [
              1,
              "#f0f921"
             ]
            ],
            "type": "histogram2dcontour"
           }
          ],
          "mesh3d": [
           {
            "colorbar": {
             "outlinewidth": 0,
             "ticks": ""
            },
            "type": "mesh3d"
           }
          ],
          "parcoords": [
           {
            "line": {
             "colorbar": {
              "outlinewidth": 0,
              "ticks": ""
             }
            },
            "type": "parcoords"
           }
          ],
          "pie": [
           {
            "automargin": true,
            "type": "pie"
           }
          ],
          "scatter": [
           {
            "fillpattern": {
             "fillmode": "overlay",
             "size": 10,
             "solidity": 0.2
            },
            "type": "scatter"
           }
          ],
          "scatter3d": [
           {
            "line": {
             "colorbar": {
              "outlinewidth": 0,
              "ticks": ""
             }
            },
            "marker": {
             "colorbar": {
              "outlinewidth": 0,
              "ticks": ""
             }
            },
            "type": "scatter3d"
           }
          ],
          "scattercarpet": [
           {
            "marker": {
             "colorbar": {
              "outlinewidth": 0,
              "ticks": ""
             }
            },
            "type": "scattercarpet"
           }
          ],
          "scattergeo": [
           {
            "marker": {
             "colorbar": {
              "outlinewidth": 0,
              "ticks": ""
             }
            },
            "type": "scattergeo"
           }
          ],
          "scattergl": [
           {
            "marker": {
             "colorbar": {
              "outlinewidth": 0,
              "ticks": ""
             }
            },
            "type": "scattergl"
           }
          ],
          "scattermap": [
           {
            "marker": {
             "colorbar": {
              "outlinewidth": 0,
              "ticks": ""
             }
            },
            "type": "scattermap"
           }
          ],
          "scattermapbox": [
           {
            "marker": {
             "colorbar": {
              "outlinewidth": 0,
              "ticks": ""
             }
            },
            "type": "scattermapbox"
           }
          ],
          "scatterpolar": [
           {
            "marker": {
             "colorbar": {
              "outlinewidth": 0,
              "ticks": ""
             }
            },
            "type": "scatterpolar"
           }
          ],
          "scatterpolargl": [
           {
            "marker": {
             "colorbar": {
              "outlinewidth": 0,
              "ticks": ""
             }
            },
            "type": "scatterpolargl"
           }
          ],
          "scatterternary": [
           {
            "marker": {
             "colorbar": {
              "outlinewidth": 0,
              "ticks": ""
             }
            },
            "type": "scatterternary"
           }
          ],
          "surface": [
           {
            "colorbar": {
             "outlinewidth": 0,
             "ticks": ""
            },
            "colorscale": [
             [
              0,
              "#0d0887"
             ],
             [
              0.1111111111111111,
              "#46039f"
             ],
             [
              0.2222222222222222,
              "#7201a8"
             ],
             [
              0.3333333333333333,
              "#9c179e"
             ],
             [
              0.4444444444444444,
              "#bd3786"
             ],
             [
              0.5555555555555556,
              "#d8576b"
             ],
             [
              0.6666666666666666,
              "#ed7953"
             ],
             [
              0.7777777777777778,
              "#fb9f3a"
             ],
             [
              0.8888888888888888,
              "#fdca26"
             ],
             [
              1,
              "#f0f921"
             ]
            ],
            "type": "surface"
           }
          ],
          "table": [
           {
            "cells": {
             "fill": {
              "color": "#EBF0F8"
             },
             "line": {
              "color": "white"
             }
            },
            "header": {
             "fill": {
              "color": "#C8D4E3"
             },
             "line": {
              "color": "white"
             }
            },
            "type": "table"
           }
          ]
         },
         "layout": {
          "annotationdefaults": {
           "arrowcolor": "#2a3f5f",
           "arrowhead": 0,
           "arrowwidth": 1
          },
          "autotypenumbers": "strict",
          "coloraxis": {
           "colorbar": {
            "outlinewidth": 0,
            "ticks": ""
           }
          },
          "colorscale": {
           "diverging": [
            [
             0,
             "#8e0152"
            ],
            [
             0.1,
             "#c51b7d"
            ],
            [
             0.2,
             "#de77ae"
            ],
            [
             0.3,
             "#f1b6da"
            ],
            [
             0.4,
             "#fde0ef"
            ],
            [
             0.5,
             "#f7f7f7"
            ],
            [
             0.6,
             "#e6f5d0"
            ],
            [
             0.7,
             "#b8e186"
            ],
            [
             0.8,
             "#7fbc41"
            ],
            [
             0.9,
             "#4d9221"
            ],
            [
             1,
             "#276419"
            ]
           ],
           "sequential": [
            [
             0,
             "#0d0887"
            ],
            [
             0.1111111111111111,
             "#46039f"
            ],
            [
             0.2222222222222222,
             "#7201a8"
            ],
            [
             0.3333333333333333,
             "#9c179e"
            ],
            [
             0.4444444444444444,
             "#bd3786"
            ],
            [
             0.5555555555555556,
             "#d8576b"
            ],
            [
             0.6666666666666666,
             "#ed7953"
            ],
            [
             0.7777777777777778,
             "#fb9f3a"
            ],
            [
             0.8888888888888888,
             "#fdca26"
            ],
            [
             1,
             "#f0f921"
            ]
           ],
           "sequentialminus": [
            [
             0,
             "#0d0887"
            ],
            [
             0.1111111111111111,
             "#46039f"
            ],
            [
             0.2222222222222222,
             "#7201a8"
            ],
            [
             0.3333333333333333,
             "#9c179e"
            ],
            [
             0.4444444444444444,
             "#bd3786"
            ],
            [
             0.5555555555555556,
             "#d8576b"
            ],
            [
             0.6666666666666666,
             "#ed7953"
            ],
            [
             0.7777777777777778,
             "#fb9f3a"
            ],
            [
             0.8888888888888888,
             "#fdca26"
            ],
            [
             1,
             "#f0f921"
            ]
           ]
          },
          "colorway": [
           "#636efa",
           "#EF553B",
           "#00cc96",
           "#ab63fa",
           "#FFA15A",
           "#19d3f3",
           "#FF6692",
           "#B6E880",
           "#FF97FF",
           "#FECB52"
          ],
          "font": {
           "color": "#2a3f5f"
          },
          "geo": {
           "bgcolor": "white",
           "lakecolor": "white",
           "landcolor": "#E5ECF6",
           "showlakes": true,
           "showland": true,
           "subunitcolor": "white"
          },
          "hoverlabel": {
           "align": "left"
          },
          "hovermode": "closest",
          "mapbox": {
           "style": "light"
          },
          "paper_bgcolor": "white",
          "plot_bgcolor": "#E5ECF6",
          "polar": {
           "angularaxis": {
            "gridcolor": "white",
            "linecolor": "white",
            "ticks": ""
           },
           "bgcolor": "#E5ECF6",
           "radialaxis": {
            "gridcolor": "white",
            "linecolor": "white",
            "ticks": ""
           }
          },
          "scene": {
           "xaxis": {
            "backgroundcolor": "#E5ECF6",
            "gridcolor": "white",
            "gridwidth": 2,
            "linecolor": "white",
            "showbackground": true,
            "ticks": "",
            "zerolinecolor": "white"
           },
           "yaxis": {
            "backgroundcolor": "#E5ECF6",
            "gridcolor": "white",
            "gridwidth": 2,
            "linecolor": "white",
            "showbackground": true,
            "ticks": "",
            "zerolinecolor": "white"
           },
           "zaxis": {
            "backgroundcolor": "#E5ECF6",
            "gridcolor": "white",
            "gridwidth": 2,
            "linecolor": "white",
            "showbackground": true,
            "ticks": "",
            "zerolinecolor": "white"
           }
          },
          "shapedefaults": {
           "line": {
            "color": "#2a3f5f"
           }
          },
          "ternary": {
           "aaxis": {
            "gridcolor": "white",
            "linecolor": "white",
            "ticks": ""
           },
           "baxis": {
            "gridcolor": "white",
            "linecolor": "white",
            "ticks": ""
           },
           "bgcolor": "#E5ECF6",
           "caxis": {
            "gridcolor": "white",
            "linecolor": "white",
            "ticks": ""
           }
          },
          "title": {
           "x": 0.05
          },
          "xaxis": {
           "automargin": true,
           "gridcolor": "white",
           "linecolor": "white",
           "ticks": "",
           "title": {
            "standoff": 15
           },
           "zerolinecolor": "white",
           "zerolinewidth": 2
          },
          "yaxis": {
           "automargin": true,
           "gridcolor": "white",
           "linecolor": "white",
           "ticks": "",
           "title": {
            "standoff": 15
           },
           "zerolinecolor": "white",
           "zerolinewidth": 2
          }
         }
        },
        "title": {
         "text": "Average Weekly Sales: Vendor & SKU Performance"
        },
        "xaxis": {
         "anchor": "y",
         "domain": [
          0,
          1
         ],
         "title": {
          "text": "vendor"
         }
        },
        "yaxis": {
         "anchor": "x",
         "domain": [
          0,
          1
         ],
         "title": {
          "text": "sku"
         }
        }
       }
      }
     },
     "metadata": {},
     "output_type": "display_data"
    }
   ],
   "source": [
    "sku_vendor = df.groupby(['vendor', 'sku'])['weekly_sales'].mean().reset_index()\n",
    "\n",
    "fig = px.density_heatmap(\n",
    "    sku_vendor,\n",
    "    x='vendor',\n",
    "    y='sku',\n",
    "    z='weekly_sales',\n",
    "    title='Average Weekly Sales: Vendor & SKU Performance',\n",
    "    color_continuous_scale='Blues'\n",
    ")\n",
    "fig.show()"
   ]
  },
  {
   "cell_type": "markdown",
   "id": "9416f3ca",
   "metadata": {},
   "source": [
    "\"Vendor 8 not only leads in total sales but also consistently supports high-performing SKUs—particularly SKU 30, which shows the strongest sales intensity overall. This indicates that Vendor 8 delivers both volume and reliability, making it a key contributor to revenue.\""
   ]
  },
  {
   "cell_type": "code",
   "execution_count": null,
   "id": "5a100401",
   "metadata": {},
   "outputs": [
    {
     "data": {
      "application/vnd.plotly.v1+json": {
       "config": {
        "plotlyServerURL": "https://plot.ly"
       },
       "data": [
        {
         "alignmentgroup": "True",
         "boxpoints": "all",
         "hovertemplate": "Functionality Code=%{x}<br>Revenue=%{y}<extra></extra>",
         "legendgroup": "",
         "marker": {
          "color": "rgba(93, 164, 214, 0.5)"
         },
         "name": "",
         "notched": false,
         "offsetgroup": "",
         "orientation": "v",
         "showlegend": false,
         "type": "box",
         "x": {
          "bdata": "BgYGBgYGBgYGBgYGBgYGBgYGBgYGBgYGBgYGBgYGBgYGBgYGBgYGBgYGBgYGBgYGBgYGBgYGBgYGBgYGBgYGBgYGBgYGBgYGBgYGBgYGBgYGBgYGBgYGBgYGBgYGBgYGBgYGBgcHBwcHBwcHBwcHBwcHBwcHBwcHBwcHBwcHBwcHBwcHBwcHBwcHBwcHBwcHBwcHBwcHBwcHBwcHBwcHBwcHBwcHBwcHBwcHBwcHBwcHBwcHBwcHBwcHBwcHBwcHBwcHBwcHBwcHBwcHBwcHBwcHBwcHBwcHBwcHBwcHBwcHBwcHBwcHBwcHBwcHBwcHBwcHBwcHBwcHBwcHBwcHBwcHBwcHBwcHBwcHBwcHBwcHBwcHBwcHBwcHBwcHBwcHBwcHBwcHBwcHBwcHBgYGBgYGBgYGBgYGBgYGBgYGBgYGBgYGBgYGBgYGBgYGBgYGBgYGBgYGBgYGBgYGBgYGBgYGBgYGBgYGBgYGBgYGBgYGBgYGBgYGBgYGBgYGBgYGBgYGBgYGBgYGBgYGBgYGBgYGBgYGBgYGBgYGBgYGBgYGBgYGBgYGBgYGBgYGBgYGBgYGBgYGBgYGBgYGBgYGBgYGBgYGBgYGBgYGBgYGBgYGBgYGBgYGBgYGBgYGBgYGBgYGBgYGBgYGBgYGBgYGBgYGBgYEBAQEBAQEBAQEBAQEBAQEBAQEBAQEBAQEBAQEBAQEBAQEBAQEBAQEBAQEBAQEBAQEBAQEBAQEBAQEBAQEBAQEBAQEBAQEBAQEBAQEBAQEBAQEBAQEBAQEBAQEBAQEBAQEBAQEBAQEBAQEBAQEBAQEBAQEBAQEBAQEBAQEBAQEBAQEBAQEBAQEBAQEBAQEBAQEBAQEBAQEBAQEBAQEBAQEBAQEBAQEBAQEBAQEBAQEBAQEBAQEBAQEBAQEBAQEBAQEBAQEBAQEBAMDAwMDAwMDAwMDAwMDAwMDAwMDAwMDAwMDAwMDAwMDAwMDAwMDAwMDAwMDAwMDAwMDAwMDAwMDAwMDAwMDAwMDAwMDAwMDAwMDAwMDAwMDAwMDAwMDAwMDAwMDAwMDAwMDAwMLCwsLCwsLCwsLCwsLCwsLCwsLCwsLCwsLCwsLCwsLCwsLCwsLCwsLCwsLCwsLCwsLCwsLCwsLCwsLCwsLCwsLCwsLCwsLCwsLCwsLCwsLCwsLCwsLCwsLCwsLCwsLCwsLCwsLCgoKCgoKCgoKCgoKCgoKCgoKCgoKCgoKCgoKCgoKCgoKCgoKCgoKCgoKCgoKCgoKCgoKCgoKCgoKCgoKCgoKCgoKCgoKCgoKCgoKCgoKCgoKCgoKCgoKCgoKCgoKCgoKCgoKCgEBAQEBAQEBAQEBAQEBAQEBAQEBAQEBAQEBAQEBAQEBAQEBAQEBAQEBAQEBAQEBAQEBAQEBAQEBAQEBAQEBAQEBAQEBAQEBAQEBAQEBAQEBAQEBAQEBAQEBAQEBAQEBAQEBAQEBAQEBAQEBAQEBAQEBAQEBAQEBAQEBAQEBAQEBAQEBAQEBAQEBAQEBAQEBAQEBAQEBAQEBAQEBAQEBAQEBAQEBAQEBAQEBAQEBAQEBAQEBAQEBAQEBAQEBAQEBAQEBAQEBAQEBCQkJCQkJCQkJCQkJCQkJCQkJCQkJCQkJCQkJCQkJCQkJCQkJCQkJCQkJCQkJCQkJCQkJCQkJCQkJCQkJCQkJCQkJCQkJCQkJCQkJCQkJCQkJCQkJCQkJCQkJCQkJCQkJCQkJCQkJCQkJCQkJCQkJCQkJCQkJCQkJCQkJCQkJCQkJCQkJCQkJCQkJCQkJCQkJCQkJCQkJCQkJCQkJCQkJCQkJCQkJCQkJCQkJCQkJCQkJCQkJCQkJCQkJCQkJCQkJCQkJCQkJCQkGBgYGBgYGBgYGBgYGBgYGBgYGBgYGBgYGBgYGBgYGBgYGBgYGBgYGBgYGBgYGBgYGBgYGBgYGBgYGBgYGBgYGBgYGBgYGBgYGBgYGBgYGBgYGBgYGBgYGBgYGBgYGBgYGBgYGAgICAgICAgICAgICAgICAgICAgICAgICAgICAgICAgICAgICAgICAgICAgICAgICAgICAgICAgICAgICAgICAgICAgICAgICAgICAgICAgICAgICAgICAgICAgICAgICAgICAgYGBgYGBgYGBgYGBgYGBgYGBgYGBgYGBgYGBgYGBgYGBgYGBgYGBgYGBgYGBgYGBgYGBgYGBgYGBgYGBgYGBgYGBgYGBgYGBgYGBgYGBgYGBgYGBgYGBgYGBgYGBgYGBgYGBgYICAgICAgICAgICAgICAgICAgICAgICAgICAgICAgICAgICAgICAgICAgICAgICAgICAgICAgICAgICAgICAgICAgICAgICAgICAgICAgICAgICAgICAgICAgICAgICAgICAgIAQEBAQEBAQEBAQEBAQEBAQEBAQEBAQEBAQEBAQEBAQEBAQEBAQEBAQEBAQEBAQEBAQEBAQEBAQEBAQEBAQEBAQEBAQEBAQEBAQEBAQEBAQEBAQEBAQEBAQEBAQEBAQEBAQEBAQwMDAwMDAwMDAwMDAwMDAwMDAwMDAwMDAwMDAwMDAwMDAwMDAwMDAwMDAwMDAwMDAwMDAwMDAwMDAwMDAwMDAwMDAwMDAwMDAwMDAwMDAwMDAwMDAwMDAwMDAwMDAwMDAwMDAwEBAQEBAQEBAQEBAQEBAQEBAQEBAQEBAQEBAQEBAQEBAQEBAQEBAQEBAQEBAQEBAQEBAQEBAQEBAQEBAQEBAQEBAQEBAQEBAQEBAQEBAQEBAQEBAQEBAQEBAQEBAQEBAQEBAQEBQUFBQUFBQUFBQUFBQUFBQUFBQUFBQUFBQUFBQUFBQUFBQUFBQUFBQUFBQUFBQUFBQUFBQUFBQUFBQUFBQUFBQUFBQUFBQUFBQUFBQUFBQUFBQUFBQUFBQUFBQUFBQUFBQUFBQQEBAQEBAQEBAQEBAQEBAQEBAQEBAQEBAQEBAQEBAQEBAQEBAQEBAQEBAQEBAQEBAQEBAQEBAQEBAQEBAQEBAQEBAQEBAQEBAQEBAQEBAQEBAQEBAQEBAQEBAQEBAQEBAQEBAQMDAwMDAwMDAwMDAwMDAwMDAwMDAwMDAwMDAwMDAwMDAwMDAwMDAwMDAwMDAwMDAwMDAwMDAwMDAwMDAwMDAwMDAwMDAwMDAwMDAwMDAwMDAwMDAwMDAwMDAwMDAwMDAwMDAwMBAQEBAQEBAQEBAQEBAQEBAQEBAQEBAQEBAQEBAQEBAQEBAQEBAQEBAQEBAQEBAQEBAQEBAQEBAQEBAQEBAQEBAQEBAQEBAQEBAQEBAQEBAQEBAQEBAQEBAQEBAQEBAQEBAQEBAgICAgICAgICAgICAgICAgICAgICAgICAgICAgICAgICAgICAgICAgICAgICAgICAgICAgICAgICAgICAgICAgICAgICAgICAgICAgICAgICAgICAgICAgICAgICAgICAgICAgCAgICAgICAgICAgICAgICAgICAgICAgICAgICAgICAgICAgICAgICAgICAgICAgICAgICAgICAgICAgICAgICAgICAgICAgICAgICAgICAgICAgICAgICAgICAgICAgICAgICCQkJCQkJCQkJCQkJCQkJCQkJCQkJCQkJCQkJCQkJCQkJCQkJCQkJCQkJCQkJCQkJCQkJCQkJCQkJCQkJCQkJCQkJCQkJCQkJCQkJCQkJCQkJCQkJCQkJCQkJCQkJCQkJCQkJCQYGBgYGBgYGBgYGBgYGBgYGBgYGBgYGBgYGBgYGBgYGBgYGBgYGBgYGBgYGBgYGBgYGBgYGBgYGBgYGBgYGBgYGBgYGBgYGBgYGBgYGBgYGBgYGBgYGBgYGBgYGBgYGBgYGBgYGBgYGBgYGBgYGBgYGBgYGBgYGBgYGBgYGBgYGBgYGBgYGBgYGBgYGBgYGBgYGBgYGBgYGBgYGBgYGBgYGBgYGBgYGBgYGBgYGBgYGBgYGBgYGBgYGBgYGBgYGBgYGBgYGBgYGBgYGBgYGBgYGBgYGBgYGBgYGBgYGBgYGBgYGBgYGBgYGBgYGBgYGBgYGBgYGBgYGBgYGBgYGBgYGBgYGBgYGBgYGBgYGBgYGBgYGBgYGBgYGBgYGBgYGBgYGBgYGBgYGBgYGBgEBAQEBAQEBAQEBAQEBAQEBAQEBAQEBAQEBAQEBAQEBAQEBAQEBAQEBAQEBAQEBAQEBAQEBAQEBAQEBAQEBAQEBAQEBAQEBAQEBAQEBAQEBAQEBAQEBAQEBAQEBAQEBAQEBAQEEBAQEBAQEBAQEBAQEBAQEBAQEBAQEBAQEBAQEBAQEBAQEBAQEBAQEBAQEBAQEBAQEBAQEBAQEBAQEBAQEBAQEBAQEBAQEBAQEBAQEBAQEBAQEBAQEBAQEBAQEBAQEBAQEBAQEAgICAgICAgICAgICAgICAgICAgICAgICAgICAgICAgICAgICAgICAgICAgICAgICAgICAgICAgICAgICAgICAgICAgICAgICAgICAgICAgICAgICAgICAgICAgICAgICAgICAgICAgICAgICAgICAgICAgICAgICAgICAgICAgICAgICAgICAgICAgICAgICAgICAgICAgICAgICAgICAgICAgICAgICAgICAgICAgICAgICAgICAgICAgICAgICAgICAgICAgICAgICAgICAgICAgICAgICAgICAgICAgICAgICAgICAgICAgICAgICAgICAgICAgICAgICAgICAgICAgICAgICAgICAgICAgICAgICAgICAgICAgICAgICAgICAgICAgICAgICBAQEBAQEBAQEBAQEBAQEBAQEBAQEBAQEBAQEBAQEBAQEBAQEBAQEBAQEBAQEBAQEBAQEBAQEBAQEBAQEBAQEBAQEBAQEBAQEBAQEBAQEBAQEBAQEBAQEBAQEBAQEBAQEBAQEBAYGBgYGBgYGBgYGBgYGBgYGBgYGBgYGBgYGBgYGBgYGBgYGBgYGBgYGBgYGBgYGBgYGBgYGBgYGBgYGBgYGBgYGBgYGBgYGBgYGBgYGBgYGBgYGBgYGBgYGBgYGBgYGBgYGBgYGBgYGBgYGBgYGBgYGBgYGBgYGBgYGBgYGBgYGBgYGBgYGBgYGBgYGBgYGBgYGBgYGBgYGBgYGBgYGBgYGBgYGBgYGBgYGBgYGBgYGBgYGBgYGBgYGBgYGBgYGBgYGBgYGBgYGBgYGBgYGBgYGBgYGBgYGBgYGBgYGBgYGBgYGBgYGBgYGBgYGBgYGBgYGBgYGBgYGBgYGBgYGBgYGBgYGBgYGBgYGBgYGBgYGBgYGBgYGBgYGBgYGBgYGBgYGBgYGBgYGBgYGBgkJCQkJCQkJCQkJCQkJCQkJCQkJCQkJCQkJCQkJCQkJCQkJCQkJCQkJCQkJCQkJCQkJCQkJCQkJCQkJCQkJCQkJCQkJCQkJCQkJCQkJCQkJCQkJCQkJCQkJCQkJCQkJCQkJCQkJCQkJCQkJCQkJCQkJCQkJCQkJCQkJCQkJCQkJCQkJCQkJCQkJCQkJCQkJCQkJCQkJCQkJCQkJCQkJCQkJCQkJCQkJCQkJCQkJCQkJCQkJCQkJCQkJCQkJCQkJCQkJCQkJCQkJCwsLCwsLCwsLCwsLCwsLCwsLCwsLCwsLCwsLCwsLCwsLCwsLCwsLCwsLCwsLCwsLCwsLCwsLCwsLCwsLCwsLCwsLCwsLCwsLCwsLCwsLCwsLCwsLCwsLCwsLCwsLCwsLCwsLCwkJCQkJCQkJCQkJCQkJCQkJCQkJCQkJCQkJCQkJCQkJCQkJCQkJCQkJCQkJCQkJCQkJCQkJCQkJCQkJCQkJCQkJCQkJCQkJCQkJCQkJCQkJCQkJCQkJCQkJCQkJCQkJCQkJCQk=",
          "dtype": "i1"
         },
         "x0": " ",
         "xaxis": "x",
         "y": {
          "bdata": "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",
          "dtype": "f8"
         },
         "y0": " ",
         "yaxis": "y"
        }
       ],
       "layout": {
        "boxmode": "group",
        "legend": {
         "tracegroupgap": 0
        },
        "template": {
         "data": {
          "bar": [
           {
            "error_x": {
             "color": "#2a3f5f"
            },
            "error_y": {
             "color": "#2a3f5f"
            },
            "marker": {
             "line": {
              "color": "#E5ECF6",
              "width": 0.5
             },
             "pattern": {
              "fillmode": "overlay",
              "size": 10,
              "solidity": 0.2
             }
            },
            "type": "bar"
           }
          ],
          "barpolar": [
           {
            "marker": {
             "line": {
              "color": "#E5ECF6",
              "width": 0.5
             },
             "pattern": {
              "fillmode": "overlay",
              "size": 10,
              "solidity": 0.2
             }
            },
            "type": "barpolar"
           }
          ],
          "carpet": [
           {
            "aaxis": {
             "endlinecolor": "#2a3f5f",
             "gridcolor": "white",
             "linecolor": "white",
             "minorgridcolor": "white",
             "startlinecolor": "#2a3f5f"
            },
            "baxis": {
             "endlinecolor": "#2a3f5f",
             "gridcolor": "white",
             "linecolor": "white",
             "minorgridcolor": "white",
             "startlinecolor": "#2a3f5f"
            },
            "type": "carpet"
           }
          ],
          "choropleth": [
           {
            "colorbar": {
             "outlinewidth": 0,
             "ticks": ""
            },
            "type": "choropleth"
           }
          ],
          "contour": [
           {
            "colorbar": {
             "outlinewidth": 0,
             "ticks": ""
            },
            "colorscale": [
             [
              0,
              "#0d0887"
             ],
             [
              0.1111111111111111,
              "#46039f"
             ],
             [
              0.2222222222222222,
              "#7201a8"
             ],
             [
              0.3333333333333333,
              "#9c179e"
             ],
             [
              0.4444444444444444,
              "#bd3786"
             ],
             [
              0.5555555555555556,
              "#d8576b"
             ],
             [
              0.6666666666666666,
              "#ed7953"
             ],
             [
              0.7777777777777778,
              "#fb9f3a"
             ],
             [
              0.8888888888888888,
              "#fdca26"
             ],
             [
              1,
              "#f0f921"
             ]
            ],
            "type": "contour"
           }
          ],
          "contourcarpet": [
           {
            "colorbar": {
             "outlinewidth": 0,
             "ticks": ""
            },
            "type": "contourcarpet"
           }
          ],
          "heatmap": [
           {
            "colorbar": {
             "outlinewidth": 0,
             "ticks": ""
            },
            "colorscale": [
             [
              0,
              "#0d0887"
             ],
             [
              0.1111111111111111,
              "#46039f"
             ],
             [
              0.2222222222222222,
              "#7201a8"
             ],
             [
              0.3333333333333333,
              "#9c179e"
             ],
             [
              0.4444444444444444,
              "#bd3786"
             ],
             [
              0.5555555555555556,
              "#d8576b"
             ],
             [
              0.6666666666666666,
              "#ed7953"
             ],
             [
              0.7777777777777778,
              "#fb9f3a"
             ],
             [
              0.8888888888888888,
              "#fdca26"
             ],
             [
              1,
              "#f0f921"
             ]
            ],
            "type": "heatmap"
           }
          ],
          "histogram": [
           {
            "marker": {
             "pattern": {
              "fillmode": "overlay",
              "size": 10,
              "solidity": 0.2
             }
            },
            "type": "histogram"
           }
          ],
          "histogram2d": [
           {
            "colorbar": {
             "outlinewidth": 0,
             "ticks": ""
            },
            "colorscale": [
             [
              0,
              "#0d0887"
             ],
             [
              0.1111111111111111,
              "#46039f"
             ],
             [
              0.2222222222222222,
              "#7201a8"
             ],
             [
              0.3333333333333333,
              "#9c179e"
             ],
             [
              0.4444444444444444,
              "#bd3786"
             ],
             [
              0.5555555555555556,
              "#d8576b"
             ],
             [
              0.6666666666666666,
              "#ed7953"
             ],
             [
              0.7777777777777778,
              "#fb9f3a"
             ],
             [
              0.8888888888888888,
              "#fdca26"
             ],
             [
              1,
              "#f0f921"
             ]
            ],
            "type": "histogram2d"
           }
          ],
          "histogram2dcontour": [
           {
            "colorbar": {
             "outlinewidth": 0,
             "ticks": ""
            },
            "colorscale": [
             [
              0,
              "#0d0887"
             ],
             [
              0.1111111111111111,
              "#46039f"
             ],
             [
              0.2222222222222222,
              "#7201a8"
             ],
             [
              0.3333333333333333,
              "#9c179e"
             ],
             [
              0.4444444444444444,
              "#bd3786"
             ],
             [
              0.5555555555555556,
              "#d8576b"
             ],
             [
              0.6666666666666666,
              "#ed7953"
             ],
             [
              0.7777777777777778,
              "#fb9f3a"
             ],
             [
              0.8888888888888888,
              "#fdca26"
             ],
             [
              1,
              "#f0f921"
             ]
            ],
            "type": "histogram2dcontour"
           }
          ],
          "mesh3d": [
           {
            "colorbar": {
             "outlinewidth": 0,
             "ticks": ""
            },
            "type": "mesh3d"
           }
          ],
          "parcoords": [
           {
            "line": {
             "colorbar": {
              "outlinewidth": 0,
              "ticks": ""
             }
            },
            "type": "parcoords"
           }
          ],
          "pie": [
           {
            "automargin": true,
            "type": "pie"
           }
          ],
          "scatter": [
           {
            "fillpattern": {
             "fillmode": "overlay",
             "size": 10,
             "solidity": 0.2
            },
            "type": "scatter"
           }
          ],
          "scatter3d": [
           {
            "line": {
             "colorbar": {
              "outlinewidth": 0,
              "ticks": ""
             }
            },
            "marker": {
             "colorbar": {
              "outlinewidth": 0,
              "ticks": ""
             }
            },
            "type": "scatter3d"
           }
          ],
          "scattercarpet": [
           {
            "marker": {
             "colorbar": {
              "outlinewidth": 0,
              "ticks": ""
             }
            },
            "type": "scattercarpet"
           }
          ],
          "scattergeo": [
           {
            "marker": {
             "colorbar": {
              "outlinewidth": 0,
              "ticks": ""
             }
            },
            "type": "scattergeo"
           }
          ],
          "scattergl": [
           {
            "marker": {
             "colorbar": {
              "outlinewidth": 0,
              "ticks": ""
             }
            },
            "type": "scattergl"
           }
          ],
          "scattermap": [
           {
            "marker": {
             "colorbar": {
              "outlinewidth": 0,
              "ticks": ""
             }
            },
            "type": "scattermap"
           }
          ],
          "scattermapbox": [
           {
            "marker": {
             "colorbar": {
              "outlinewidth": 0,
              "ticks": ""
             }
            },
            "type": "scattermapbox"
           }
          ],
          "scatterpolar": [
           {
            "marker": {
             "colorbar": {
              "outlinewidth": 0,
              "ticks": ""
             }
            },
            "type": "scatterpolar"
           }
          ],
          "scatterpolargl": [
           {
            "marker": {
             "colorbar": {
              "outlinewidth": 0,
              "ticks": ""
             }
            },
            "type": "scatterpolargl"
           }
          ],
          "scatterternary": [
           {
            "marker": {
             "colorbar": {
              "outlinewidth": 0,
              "ticks": ""
             }
            },
            "type": "scatterternary"
           }
          ],
          "surface": [
           {
            "colorbar": {
             "outlinewidth": 0,
             "ticks": ""
            },
            "colorscale": [
             [
              0,
              "#0d0887"
             ],
             [
              0.1111111111111111,
              "#46039f"
             ],
             [
              0.2222222222222222,
              "#7201a8"
             ],
             [
              0.3333333333333333,
              "#9c179e"
             ],
             [
              0.4444444444444444,
              "#bd3786"
             ],
             [
              0.5555555555555556,
              "#d8576b"
             ],
             [
              0.6666666666666666,
              "#ed7953"
             ],
             [
              0.7777777777777778,
              "#fb9f3a"
             ],
             [
              0.8888888888888888,
              "#fdca26"
             ],
             [
              1,
              "#f0f921"
             ]
            ],
            "type": "surface"
           }
          ],
          "table": [
           {
            "cells": {
             "fill": {
              "color": "#EBF0F8"
             },
             "line": {
              "color": "white"
             }
            },
            "header": {
             "fill": {
              "color": "#C8D4E3"
             },
             "line": {
              "color": "white"
             }
            },
            "type": "table"
           }
          ]
         },
         "layout": {
          "annotationdefaults": {
           "arrowcolor": "#2a3f5f",
           "arrowhead": 0,
           "arrowwidth": 1
          },
          "autotypenumbers": "strict",
          "coloraxis": {
           "colorbar": {
            "outlinewidth": 0,
            "ticks": ""
           }
          },
          "colorscale": {
           "diverging": [
            [
             0,
             "#8e0152"
            ],
            [
             0.1,
             "#c51b7d"
            ],
            [
             0.2,
             "#de77ae"
            ],
            [
             0.3,
             "#f1b6da"
            ],
            [
             0.4,
             "#fde0ef"
            ],
            [
             0.5,
             "#f7f7f7"
            ],
            [
             0.6,
             "#e6f5d0"
            ],
            [
             0.7,
             "#b8e186"
            ],
            [
             0.8,
             "#7fbc41"
            ],
            [
             0.9,
             "#4d9221"
            ],
            [
             1,
             "#276419"
            ]
           ],
           "sequential": [
            [
             0,
             "#0d0887"
            ],
            [
             0.1111111111111111,
             "#46039f"
            ],
            [
             0.2222222222222222,
             "#7201a8"
            ],
            [
             0.3333333333333333,
             "#9c179e"
            ],
            [
             0.4444444444444444,
             "#bd3786"
            ],
            [
             0.5555555555555556,
             "#d8576b"
            ],
            [
             0.6666666666666666,
             "#ed7953"
            ],
            [
             0.7777777777777778,
             "#fb9f3a"
            ],
            [
             0.8888888888888888,
             "#fdca26"
            ],
            [
             1,
             "#f0f921"
            ]
           ],
           "sequentialminus": [
            [
             0,
             "#0d0887"
            ],
            [
             0.1111111111111111,
             "#46039f"
            ],
            [
             0.2222222222222222,
             "#7201a8"
            ],
            [
             0.3333333333333333,
             "#9c179e"
            ],
            [
             0.4444444444444444,
             "#bd3786"
            ],
            [
             0.5555555555555556,
             "#d8576b"
            ],
            [
             0.6666666666666666,
             "#ed7953"
            ],
            [
             0.7777777777777778,
             "#fb9f3a"
            ],
            [
             0.8888888888888888,
             "#fdca26"
            ],
            [
             1,
             "#f0f921"
            ]
           ]
          },
          "colorway": [
           "#636efa",
           "#EF553B",
           "#00cc96",
           "#ab63fa",
           "#FFA15A",
           "#19d3f3",
           "#FF6692",
           "#B6E880",
           "#FF97FF",
           "#FECB52"
          ],
          "font": {
           "color": "#2a3f5f"
          },
          "geo": {
           "bgcolor": "white",
           "lakecolor": "white",
           "landcolor": "#E5ECF6",
           "showlakes": true,
           "showland": true,
           "subunitcolor": "white"
          },
          "hoverlabel": {
           "align": "left"
          },
          "hovermode": "closest",
          "mapbox": {
           "style": "light"
          },
          "paper_bgcolor": "white",
          "plot_bgcolor": "#E5ECF6",
          "polar": {
           "angularaxis": {
            "gridcolor": "white",
            "linecolor": "white",
            "ticks": ""
           },
           "bgcolor": "#E5ECF6",
           "radialaxis": {
            "gridcolor": "white",
            "linecolor": "white",
            "ticks": ""
           }
          },
          "scene": {
           "xaxis": {
            "backgroundcolor": "#E5ECF6",
            "gridcolor": "white",
            "gridwidth": 2,
            "linecolor": "white",
            "showbackground": true,
            "ticks": "",
            "zerolinecolor": "white"
           },
           "yaxis": {
            "backgroundcolor": "#E5ECF6",
            "gridcolor": "white",
            "gridwidth": 2,
            "linecolor": "white",
            "showbackground": true,
            "ticks": "",
            "zerolinecolor": "white"
           },
           "zaxis": {
            "backgroundcolor": "#E5ECF6",
            "gridcolor": "white",
            "gridwidth": 2,
            "linecolor": "white",
            "showbackground": true,
            "ticks": "",
            "zerolinecolor": "white"
           }
          },
          "shapedefaults": {
           "line": {
            "color": "#2a3f5f"
           }
          },
          "ternary": {
           "aaxis": {
            "gridcolor": "white",
            "linecolor": "white",
            "ticks": ""
           },
           "baxis": {
            "gridcolor": "white",
            "linecolor": "white",
            "ticks": ""
           },
           "bgcolor": "#E5ECF6",
           "caxis": {
            "gridcolor": "white",
            "linecolor": "white",
            "ticks": ""
           }
          },
          "title": {
           "x": 0.05
          },
          "xaxis": {
           "automargin": true,
           "gridcolor": "white",
           "linecolor": "white",
           "ticks": "",
           "title": {
            "standoff": 15
           },
           "zerolinecolor": "white",
           "zerolinewidth": 2
          },
          "yaxis": {
           "automargin": true,
           "gridcolor": "white",
           "linecolor": "white",
           "ticks": "",
           "title": {
            "standoff": 15
           },
           "zerolinecolor": "white",
           "zerolinewidth": 2
          }
         }
        },
        "title": {
         "text": "Revenue Distribution by Product Functionality"
        },
        "xaxis": {
         "anchor": "y",
         "domain": [
          0,
          1
         ],
         "title": {
          "text": "Functionality Code"
         }
        },
        "yaxis": {
         "anchor": "x",
         "domain": [
          0,
          1
         ],
         "title": {
          "text": "Revenue"
         }
        }
       }
      }
     },
     "metadata": {},
     "output_type": "display_data"
    }
   ],
   "source": [
    "# Group by functionality and calculate total revenue\n",
    "functionality_revenue = df.groupby('functionality_code')['revenue'].sum().reset_index().sort_values(by='revenue', ascending=False)\n",
    "\n",
    "fig = px.box(\n",
    "    df,\n",
    "    x='functionality_code',\n",
    "    y='revenue',\n",
    "    title='Revenue Distribution by Product Functionality',\n",
    "    labels={'revenue': 'Revenue', 'functionality_code': 'Functionality Code'},\n",
    "    points='all',\n",
    "    color_discrete_sequence=['rgba(93, 164, 214, 0.5)']\n",
    ")\n",
    "fig.show()"
   ]
  },
  {
   "cell_type": "markdown",
   "id": "f62f1cca",
   "metadata": {},
   "source": [
    "\"The box plot shows how much money each product makes within each functionality. Here, Functionality 11 stands out because its individual products tend to earn more, even if it doesn’t sell as many.\""
   ]
  },
  {
   "cell_type": "code",
   "execution_count": null,
   "id": "fa89a62e",
   "metadata": {},
   "outputs": [
    {
     "data": {
      "application/vnd.plotly.v1+json": {
       "config": {
        "plotlyServerURL": "https://plot.ly"
       },
       "data": [
        {
         "hovertemplate": "Functionality Code=%{x}<br>Total Revenue=%{marker.color}<extra></extra>",
         "legendgroup": "",
         "marker": {
          "color": {
           "bdata": "Urgexc1PO0HsUbgeVswzQQrXo3C9RTBBw/Uo3JqoKUG4HoXrIzMpQVK4HoWGhhxBAAAAADDQFEEVrkfhq2ATQTMzMzOA3hBBXI/C9aRnCUHhehSugcsDQYXrUbg6Lv9A",
           "dtype": "f8"
          },
          "coloraxis": "coloraxis",
          "pattern": {
           "shape": ""
          }
         },
         "name": "",
         "orientation": "v",
         "showlegend": false,
         "textposition": "auto",
         "type": "bar",
         "x": {
          "bdata": "BgsEAQIJAwgKDAcF",
          "dtype": "i1"
         },
         "xaxis": "x",
         "y": {
          "bdata": "Urgexc1PO0HsUbgeVswzQQrXo3C9RTBBw/Uo3JqoKUG4HoXrIzMpQVK4HoWGhhxBAAAAADDQFEEVrkfhq2ATQTMzMzOA3hBBXI/C9aRnCUHhehSugcsDQYXrUbg6Lv9A",
          "dtype": "f8"
         },
         "yaxis": "y"
        }
       ],
       "layout": {
        "barmode": "relative",
        "coloraxis": {
         "colorbar": {
          "title": {
           "text": "Total Revenue"
          }
         },
         "colorscale": [
          [
           0,
           "rgb(247,251,255)"
          ],
          [
           0.125,
           "rgb(222,235,247)"
          ],
          [
           0.25,
           "rgb(198,219,239)"
          ],
          [
           0.375,
           "rgb(158,202,225)"
          ],
          [
           0.5,
           "rgb(107,174,214)"
          ],
          [
           0.625,
           "rgb(66,146,198)"
          ],
          [
           0.75,
           "rgb(33,113,181)"
          ],
          [
           0.875,
           "rgb(8,81,156)"
          ],
          [
           1,
           "rgb(8,48,107)"
          ]
         ]
        },
        "legend": {
         "tracegroupgap": 0
        },
        "template": {
         "data": {
          "bar": [
           {
            "error_x": {
             "color": "#2a3f5f"
            },
            "error_y": {
             "color": "#2a3f5f"
            },
            "marker": {
             "line": {
              "color": "#E5ECF6",
              "width": 0.5
             },
             "pattern": {
              "fillmode": "overlay",
              "size": 10,
              "solidity": 0.2
             }
            },
            "type": "bar"
           }
          ],
          "barpolar": [
           {
            "marker": {
             "line": {
              "color": "#E5ECF6",
              "width": 0.5
             },
             "pattern": {
              "fillmode": "overlay",
              "size": 10,
              "solidity": 0.2
             }
            },
            "type": "barpolar"
           }
          ],
          "carpet": [
           {
            "aaxis": {
             "endlinecolor": "#2a3f5f",
             "gridcolor": "white",
             "linecolor": "white",
             "minorgridcolor": "white",
             "startlinecolor": "#2a3f5f"
            },
            "baxis": {
             "endlinecolor": "#2a3f5f",
             "gridcolor": "white",
             "linecolor": "white",
             "minorgridcolor": "white",
             "startlinecolor": "#2a3f5f"
            },
            "type": "carpet"
           }
          ],
          "choropleth": [
           {
            "colorbar": {
             "outlinewidth": 0,
             "ticks": ""
            },
            "type": "choropleth"
           }
          ],
          "contour": [
           {
            "colorbar": {
             "outlinewidth": 0,
             "ticks": ""
            },
            "colorscale": [
             [
              0,
              "#0d0887"
             ],
             [
              0.1111111111111111,
              "#46039f"
             ],
             [
              0.2222222222222222,
              "#7201a8"
             ],
             [
              0.3333333333333333,
              "#9c179e"
             ],
             [
              0.4444444444444444,
              "#bd3786"
             ],
             [
              0.5555555555555556,
              "#d8576b"
             ],
             [
              0.6666666666666666,
              "#ed7953"
             ],
             [
              0.7777777777777778,
              "#fb9f3a"
             ],
             [
              0.8888888888888888,
              "#fdca26"
             ],
             [
              1,
              "#f0f921"
             ]
            ],
            "type": "contour"
           }
          ],
          "contourcarpet": [
           {
            "colorbar": {
             "outlinewidth": 0,
             "ticks": ""
            },
            "type": "contourcarpet"
           }
          ],
          "heatmap": [
           {
            "colorbar": {
             "outlinewidth": 0,
             "ticks": ""
            },
            "colorscale": [
             [
              0,
              "#0d0887"
             ],
             [
              0.1111111111111111,
              "#46039f"
             ],
             [
              0.2222222222222222,
              "#7201a8"
             ],
             [
              0.3333333333333333,
              "#9c179e"
             ],
             [
              0.4444444444444444,
              "#bd3786"
             ],
             [
              0.5555555555555556,
              "#d8576b"
             ],
             [
              0.6666666666666666,
              "#ed7953"
             ],
             [
              0.7777777777777778,
              "#fb9f3a"
             ],
             [
              0.8888888888888888,
              "#fdca26"
             ],
             [
              1,
              "#f0f921"
             ]
            ],
            "type": "heatmap"
           }
          ],
          "histogram": [
           {
            "marker": {
             "pattern": {
              "fillmode": "overlay",
              "size": 10,
              "solidity": 0.2
             }
            },
            "type": "histogram"
           }
          ],
          "histogram2d": [
           {
            "colorbar": {
             "outlinewidth": 0,
             "ticks": ""
            },
            "colorscale": [
             [
              0,
              "#0d0887"
             ],
             [
              0.1111111111111111,
              "#46039f"
             ],
             [
              0.2222222222222222,
              "#7201a8"
             ],
             [
              0.3333333333333333,
              "#9c179e"
             ],
             [
              0.4444444444444444,
              "#bd3786"
             ],
             [
              0.5555555555555556,
              "#d8576b"
             ],
             [
              0.6666666666666666,
              "#ed7953"
             ],
             [
              0.7777777777777778,
              "#fb9f3a"
             ],
             [
              0.8888888888888888,
              "#fdca26"
             ],
             [
              1,
              "#f0f921"
             ]
            ],
            "type": "histogram2d"
           }
          ],
          "histogram2dcontour": [
           {
            "colorbar": {
             "outlinewidth": 0,
             "ticks": ""
            },
            "colorscale": [
             [
              0,
              "#0d0887"
             ],
             [
              0.1111111111111111,
              "#46039f"
             ],
             [
              0.2222222222222222,
              "#7201a8"
             ],
             [
              0.3333333333333333,
              "#9c179e"
             ],
             [
              0.4444444444444444,
              "#bd3786"
             ],
             [
              0.5555555555555556,
              "#d8576b"
             ],
             [
              0.6666666666666666,
              "#ed7953"
             ],
             [
              0.7777777777777778,
              "#fb9f3a"
             ],
             [
              0.8888888888888888,
              "#fdca26"
             ],
             [
              1,
              "#f0f921"
             ]
            ],
            "type": "histogram2dcontour"
           }
          ],
          "mesh3d": [
           {
            "colorbar": {
             "outlinewidth": 0,
             "ticks": ""
            },
            "type": "mesh3d"
           }
          ],
          "parcoords": [
           {
            "line": {
             "colorbar": {
              "outlinewidth": 0,
              "ticks": ""
             }
            },
            "type": "parcoords"
           }
          ],
          "pie": [
           {
            "automargin": true,
            "type": "pie"
           }
          ],
          "scatter": [
           {
            "fillpattern": {
             "fillmode": "overlay",
             "size": 10,
             "solidity": 0.2
            },
            "type": "scatter"
           }
          ],
          "scatter3d": [
           {
            "line": {
             "colorbar": {
              "outlinewidth": 0,
              "ticks": ""
             }
            },
            "marker": {
             "colorbar": {
              "outlinewidth": 0,
              "ticks": ""
             }
            },
            "type": "scatter3d"
           }
          ],
          "scattercarpet": [
           {
            "marker": {
             "colorbar": {
              "outlinewidth": 0,
              "ticks": ""
             }
            },
            "type": "scattercarpet"
           }
          ],
          "scattergeo": [
           {
            "marker": {
             "colorbar": {
              "outlinewidth": 0,
              "ticks": ""
             }
            },
            "type": "scattergeo"
           }
          ],
          "scattergl": [
           {
            "marker": {
             "colorbar": {
              "outlinewidth": 0,
              "ticks": ""
             }
            },
            "type": "scattergl"
           }
          ],
          "scattermap": [
           {
            "marker": {
             "colorbar": {
              "outlinewidth": 0,
              "ticks": ""
             }
            },
            "type": "scattermap"
           }
          ],
          "scattermapbox": [
           {
            "marker": {
             "colorbar": {
              "outlinewidth": 0,
              "ticks": ""
             }
            },
            "type": "scattermapbox"
           }
          ],
          "scatterpolar": [
           {
            "marker": {
             "colorbar": {
              "outlinewidth": 0,
              "ticks": ""
             }
            },
            "type": "scatterpolar"
           }
          ],
          "scatterpolargl": [
           {
            "marker": {
             "colorbar": {
              "outlinewidth": 0,
              "ticks": ""
             }
            },
            "type": "scatterpolargl"
           }
          ],
          "scatterternary": [
           {
            "marker": {
             "colorbar": {
              "outlinewidth": 0,
              "ticks": ""
             }
            },
            "type": "scatterternary"
           }
          ],
          "surface": [
           {
            "colorbar": {
             "outlinewidth": 0,
             "ticks": ""
            },
            "colorscale": [
             [
              0,
              "#0d0887"
             ],
             [
              0.1111111111111111,
              "#46039f"
             ],
             [
              0.2222222222222222,
              "#7201a8"
             ],
             [
              0.3333333333333333,
              "#9c179e"
             ],
             [
              0.4444444444444444,
              "#bd3786"
             ],
             [
              0.5555555555555556,
              "#d8576b"
             ],
             [
              0.6666666666666666,
              "#ed7953"
             ],
             [
              0.7777777777777778,
              "#fb9f3a"
             ],
             [
              0.8888888888888888,
              "#fdca26"
             ],
             [
              1,
              "#f0f921"
             ]
            ],
            "type": "surface"
           }
          ],
          "table": [
           {
            "cells": {
             "fill": {
              "color": "#EBF0F8"
             },
             "line": {
              "color": "white"
             }
            },
            "header": {
             "fill": {
              "color": "#C8D4E3"
             },
             "line": {
              "color": "white"
             }
            },
            "type": "table"
           }
          ]
         },
         "layout": {
          "annotationdefaults": {
           "arrowcolor": "#2a3f5f",
           "arrowhead": 0,
           "arrowwidth": 1
          },
          "autotypenumbers": "strict",
          "coloraxis": {
           "colorbar": {
            "outlinewidth": 0,
            "ticks": ""
           }
          },
          "colorscale": {
           "diverging": [
            [
             0,
             "#8e0152"
            ],
            [
             0.1,
             "#c51b7d"
            ],
            [
             0.2,
             "#de77ae"
            ],
            [
             0.3,
             "#f1b6da"
            ],
            [
             0.4,
             "#fde0ef"
            ],
            [
             0.5,
             "#f7f7f7"
            ],
            [
             0.6,
             "#e6f5d0"
            ],
            [
             0.7,
             "#b8e186"
            ],
            [
             0.8,
             "#7fbc41"
            ],
            [
             0.9,
             "#4d9221"
            ],
            [
             1,
             "#276419"
            ]
           ],
           "sequential": [
            [
             0,
             "#0d0887"
            ],
            [
             0.1111111111111111,
             "#46039f"
            ],
            [
             0.2222222222222222,
             "#7201a8"
            ],
            [
             0.3333333333333333,
             "#9c179e"
            ],
            [
             0.4444444444444444,
             "#bd3786"
            ],
            [
             0.5555555555555556,
             "#d8576b"
            ],
            [
             0.6666666666666666,
             "#ed7953"
            ],
            [
             0.7777777777777778,
             "#fb9f3a"
            ],
            [
             0.8888888888888888,
             "#fdca26"
            ],
            [
             1,
             "#f0f921"
            ]
           ],
           "sequentialminus": [
            [
             0,
             "#0d0887"
            ],
            [
             0.1111111111111111,
             "#46039f"
            ],
            [
             0.2222222222222222,
             "#7201a8"
            ],
            [
             0.3333333333333333,
             "#9c179e"
            ],
            [
             0.4444444444444444,
             "#bd3786"
            ],
            [
             0.5555555555555556,
             "#d8576b"
            ],
            [
             0.6666666666666666,
             "#ed7953"
            ],
            [
             0.7777777777777778,
             "#fb9f3a"
            ],
            [
             0.8888888888888888,
             "#fdca26"
            ],
            [
             1,
             "#f0f921"
            ]
           ]
          },
          "colorway": [
           "#636efa",
           "#EF553B",
           "#00cc96",
           "#ab63fa",
           "#FFA15A",
           "#19d3f3",
           "#FF6692",
           "#B6E880",
           "#FF97FF",
           "#FECB52"
          ],
          "font": {
           "color": "#2a3f5f"
          },
          "geo": {
           "bgcolor": "white",
           "lakecolor": "white",
           "landcolor": "#E5ECF6",
           "showlakes": true,
           "showland": true,
           "subunitcolor": "white"
          },
          "hoverlabel": {
           "align": "left"
          },
          "hovermode": "closest",
          "mapbox": {
           "style": "light"
          },
          "paper_bgcolor": "white",
          "plot_bgcolor": "#E5ECF6",
          "polar": {
           "angularaxis": {
            "gridcolor": "white",
            "linecolor": "white",
            "ticks": ""
           },
           "bgcolor": "#E5ECF6",
           "radialaxis": {
            "gridcolor": "white",
            "linecolor": "white",
            "ticks": ""
           }
          },
          "scene": {
           "xaxis": {
            "backgroundcolor": "#E5ECF6",
            "gridcolor": "white",
            "gridwidth": 2,
            "linecolor": "white",
            "showbackground": true,
            "ticks": "",
            "zerolinecolor": "white"
           },
           "yaxis": {
            "backgroundcolor": "#E5ECF6",
            "gridcolor": "white",
            "gridwidth": 2,
            "linecolor": "white",
            "showbackground": true,
            "ticks": "",
            "zerolinecolor": "white"
           },
           "zaxis": {
            "backgroundcolor": "#E5ECF6",
            "gridcolor": "white",
            "gridwidth": 2,
            "linecolor": "white",
            "showbackground": true,
            "ticks": "",
            "zerolinecolor": "white"
           }
          },
          "shapedefaults": {
           "line": {
            "color": "#2a3f5f"
           }
          },
          "ternary": {
           "aaxis": {
            "gridcolor": "white",
            "linecolor": "white",
            "ticks": ""
           },
           "baxis": {
            "gridcolor": "white",
            "linecolor": "white",
            "ticks": ""
           },
           "bgcolor": "#E5ECF6",
           "caxis": {
            "gridcolor": "white",
            "linecolor": "white",
            "ticks": ""
           }
          },
          "title": {
           "x": 0.05
          },
          "xaxis": {
           "automargin": true,
           "gridcolor": "white",
           "linecolor": "white",
           "ticks": "",
           "title": {
            "standoff": 15
           },
           "zerolinecolor": "white",
           "zerolinewidth": 2
          },
          "yaxis": {
           "automargin": true,
           "gridcolor": "white",
           "linecolor": "white",
           "ticks": "",
           "title": {
            "standoff": 15
           },
           "zerolinecolor": "white",
           "zerolinewidth": 2
          }
         }
        },
        "title": {
         "text": "Total Revenue by Product Functionality"
        },
        "xaxis": {
         "anchor": "y",
         "domain": [
          0,
          1
         ],
         "title": {
          "text": "Functionality Code"
         }
        },
        "yaxis": {
         "anchor": "x",
         "domain": [
          0,
          1
         ],
         "title": {
          "text": "Total Revenue"
         }
        }
       }
      }
     },
     "metadata": {},
     "output_type": "display_data"
    }
   ],
   "source": [
    "fig = px.bar(\n",
    "    functionality_revenue,\n",
    "    x='functionality_code',\n",
    "    y='revenue',\n",
    "    title='Total Revenue by Product Functionality',\n",
    "    labels={'revenue': 'Total Revenue', 'functionality_code': 'Functionality Code'},\n",
    "    color='revenue',\n",
    "    color_continuous_scale='Blues'\n",
    ")\n",
    "fig.show()"
   ]
  },
  {
   "cell_type": "markdown",
   "id": "2e5b3b14",
   "metadata": {},
   "source": [
    "\"Functionality 6 is winning by volume (lots of products selling steadily), while Functionality 11 is winning by product strength (fewer products, but stronger performance per item).\""
   ]
  },
  {
   "cell_type": "code",
   "execution_count": null,
   "id": "005f63b0",
   "metadata": {},
   "outputs": [
    {
     "data": {
      "application/vnd.plotly.v1+json": {
       "config": {
        "plotlyServerURL": "https://plot.ly"
       },
       "data": [
        {
         "line": {
          "color": "red"
         },
         "mode": "lines",
         "name": "Avg Price",
         "type": "scatter",
         "x": [
          "2016-10-31T00:00:00.000000000",
          "2016-11-07T00:00:00.000000000",
          "2016-11-14T00:00:00.000000000",
          "2016-11-21T00:00:00.000000000",
          "2016-11-28T00:00:00.000000000",
          "2016-12-05T00:00:00.000000000",
          "2016-12-12T00:00:00.000000000",
          "2016-12-19T00:00:00.000000000",
          "2016-12-26T00:00:00.000000000",
          "2017-01-02T00:00:00.000000000",
          "2017-01-09T00:00:00.000000000",
          "2017-01-16T00:00:00.000000000",
          "2017-01-23T00:00:00.000000000",
          "2017-01-30T00:00:00.000000000",
          "2017-02-06T00:00:00.000000000",
          "2017-02-13T00:00:00.000000000",
          "2017-02-20T00:00:00.000000000",
          "2017-02-27T00:00:00.000000000",
          "2017-03-06T00:00:00.000000000",
          "2017-03-13T00:00:00.000000000",
          "2017-03-20T00:00:00.000000000",
          "2017-03-27T00:00:00.000000000",
          "2017-04-03T00:00:00.000000000",
          "2017-04-10T00:00:00.000000000",
          "2017-04-17T00:00:00.000000000",
          "2017-04-24T00:00:00.000000000",
          "2017-05-01T00:00:00.000000000",
          "2017-05-08T00:00:00.000000000",
          "2017-05-15T00:00:00.000000000",
          "2017-05-22T00:00:00.000000000",
          "2017-05-29T00:00:00.000000000",
          "2017-06-05T00:00:00.000000000",
          "2017-06-12T00:00:00.000000000",
          "2017-06-19T00:00:00.000000000",
          "2017-06-26T00:00:00.000000000",
          "2017-07-03T00:00:00.000000000",
          "2017-07-10T00:00:00.000000000",
          "2017-07-17T00:00:00.000000000",
          "2017-07-24T00:00:00.000000000",
          "2017-07-31T00:00:00.000000000",
          "2017-08-07T00:00:00.000000000",
          "2017-08-14T00:00:00.000000000",
          "2017-08-21T00:00:00.000000000",
          "2017-08-28T00:00:00.000000000",
          "2017-09-04T00:00:00.000000000",
          "2017-09-11T00:00:00.000000000",
          "2017-09-18T00:00:00.000000000",
          "2017-09-25T00:00:00.000000000",
          "2017-10-02T00:00:00.000000000",
          "2017-10-09T00:00:00.000000000",
          "2017-10-16T00:00:00.000000000",
          "2017-10-23T00:00:00.000000000",
          "2017-10-30T00:00:00.000000000",
          "2017-11-06T00:00:00.000000000",
          "2017-11-13T00:00:00.000000000",
          "2017-11-20T00:00:00.000000000",
          "2017-11-27T00:00:00.000000000",
          "2017-12-04T00:00:00.000000000",
          "2017-12-11T00:00:00.000000000",
          "2017-12-18T00:00:00.000000000",
          "2017-12-25T00:00:00.000000000",
          "2018-01-01T00:00:00.000000000",
          "2018-01-08T00:00:00.000000000",
          "2018-01-15T00:00:00.000000000",
          "2018-01-22T00:00:00.000000000",
          "2018-01-29T00:00:00.000000000",
          "2018-02-05T00:00:00.000000000",
          "2018-02-12T00:00:00.000000000",
          "2018-02-19T00:00:00.000000000",
          "2018-02-26T00:00:00.000000000",
          "2018-03-05T00:00:00.000000000",
          "2018-03-12T00:00:00.000000000",
          "2018-03-19T00:00:00.000000000",
          "2018-03-26T00:00:00.000000000",
          "2018-04-02T00:00:00.000000000",
          "2018-04-09T00:00:00.000000000",
          "2018-04-16T00:00:00.000000000",
          "2018-04-23T00:00:00.000000000",
          "2018-04-30T00:00:00.000000000",
          "2018-05-07T00:00:00.000000000",
          "2018-05-14T00:00:00.000000000",
          "2018-05-21T00:00:00.000000000",
          "2018-05-28T00:00:00.000000000",
          "2018-06-04T00:00:00.000000000",
          "2018-06-11T00:00:00.000000000",
          "2018-06-18T00:00:00.000000000",
          "2018-06-25T00:00:00.000000000",
          "2018-07-02T00:00:00.000000000",
          "2018-07-09T00:00:00.000000000",
          "2018-07-16T00:00:00.000000000",
          "2018-07-23T00:00:00.000000000",
          "2018-07-30T00:00:00.000000000",
          "2018-08-06T00:00:00.000000000",
          "2018-08-13T00:00:00.000000000",
          "2018-08-20T00:00:00.000000000",
          "2018-08-27T00:00:00.000000000",
          "2018-09-03T00:00:00.000000000",
          "2018-09-10T00:00:00.000000000",
          "2018-09-17T00:00:00.000000000",
          "2018-09-24T00:00:00.000000000"
         ],
         "xaxis": "x",
         "y": {
          "bdata": "xNo3rH17RUAXXXTRRX9EQBTJOJGMq0RA4XoUrkcxREBH4XoUrgdEQOmHmn6o6UVA8a8R/xrxREA24l8j/n1EQNa+Ye0bDkVAL5/38nlvRECp6YeafihFQMTaN6x9o0VABJQ7QLm7REA9CtejcMVFQAVeWeCVPUVAh7VvWPueREArJq1i0lJFQIFXFnhlyUVA9ENNP9TsREB7FK5H4ZpFQKOLLrro8kVAhtBgCA2mRUC1b1j7hhVGQOfYbY7dHkZA+byXz3vRRkAhNBhCgxFFQOmiiy662ERA1r5h7RueRUBlgVcWePVEQGdmZmZmXkRAwRAaDKFpRUC5A5Q7QOlFQLSlOluqK0ZAavqhph/6RUB00UUXXfxEQNFFF110WUVAFZNWMWnNREAvn/fyeTdFQFRnS3W2JEVAiJp+qOnvRUDXvmHtG6ZGQMk4kYwTcUVAFMk4kYzbRUAhTwnylIBFQAgNhtBgqERAmbSKSauYREAvuuiii55EQLvNsdsc80NAz3v5vJcXRUAb8a8R/+JFQHE9CtejEEZAhetRuB4dRkCfEuQpQdZGQGAj/jXiz0ZAQ2gwhAb7RkAIDYbQYNBGQHE9CtejOEZAqemHmn6QR0DD9Shcj5JHQOe9fN7LX0dA83kvn/cqRkDZUp0t1elGQJNWMWkV+0dARhdddNF9SEB83svnvYRGQExaxaRV5EZAHPGvEf+qR0D8hrVvWKtHQNo3rH3DakdA8MoCryy4SECdLdXZUlVJQOfYbY7d5kdAAeUOUO6YR0CkcD0K11NHQCl3gHIH0EdA0Hv5vJd3R0AmrWLSKv5HQOpsqc6WmkdA1r5h7RsGSEDZbY7d5tBHQM2x2xy7pUdAsfYNa98QR0CNE8k4kYxHQCFPCfKUiEZA0iomrWJiRkBKkKcEeSJGQJp+qOmHykVASpCnBHmSRkD5vJfPe8lGQH+o6YeajkVAiX+N+NcoRkCScSIZJyJHQKDcAcodkEdANuJfI/7lR0CEBkNoMCRIQH+o6YeaRkhAOZGME8mAR0A3x25z7IZGQDisfcPal0VAtzl2m2P/RUA=",
          "dtype": "f8"
         },
         "yaxis": "y"
        },
        {
         "line": {
          "color": "blue"
         },
         "mode": "lines",
         "name": "Avg Sales",
         "type": "scatter",
         "x": [
          "2016-10-31T00:00:00.000000000",
          "2016-11-07T00:00:00.000000000",
          "2016-11-14T00:00:00.000000000",
          "2016-11-21T00:00:00.000000000",
          "2016-11-28T00:00:00.000000000",
          "2016-12-05T00:00:00.000000000",
          "2016-12-12T00:00:00.000000000",
          "2016-12-19T00:00:00.000000000",
          "2016-12-26T00:00:00.000000000",
          "2017-01-02T00:00:00.000000000",
          "2017-01-09T00:00:00.000000000",
          "2017-01-16T00:00:00.000000000",
          "2017-01-23T00:00:00.000000000",
          "2017-01-30T00:00:00.000000000",
          "2017-02-06T00:00:00.000000000",
          "2017-02-13T00:00:00.000000000",
          "2017-02-20T00:00:00.000000000",
          "2017-02-27T00:00:00.000000000",
          "2017-03-06T00:00:00.000000000",
          "2017-03-13T00:00:00.000000000",
          "2017-03-20T00:00:00.000000000",
          "2017-03-27T00:00:00.000000000",
          "2017-04-03T00:00:00.000000000",
          "2017-04-10T00:00:00.000000000",
          "2017-04-17T00:00:00.000000000",
          "2017-04-24T00:00:00.000000000",
          "2017-05-01T00:00:00.000000000",
          "2017-05-08T00:00:00.000000000",
          "2017-05-15T00:00:00.000000000",
          "2017-05-22T00:00:00.000000000",
          "2017-05-29T00:00:00.000000000",
          "2017-06-05T00:00:00.000000000",
          "2017-06-12T00:00:00.000000000",
          "2017-06-19T00:00:00.000000000",
          "2017-06-26T00:00:00.000000000",
          "2017-07-03T00:00:00.000000000",
          "2017-07-10T00:00:00.000000000",
          "2017-07-17T00:00:00.000000000",
          "2017-07-24T00:00:00.000000000",
          "2017-07-31T00:00:00.000000000",
          "2017-08-07T00:00:00.000000000",
          "2017-08-14T00:00:00.000000000",
          "2017-08-21T00:00:00.000000000",
          "2017-08-28T00:00:00.000000000",
          "2017-09-04T00:00:00.000000000",
          "2017-09-11T00:00:00.000000000",
          "2017-09-18T00:00:00.000000000",
          "2017-09-25T00:00:00.000000000",
          "2017-10-02T00:00:00.000000000",
          "2017-10-09T00:00:00.000000000",
          "2017-10-16T00:00:00.000000000",
          "2017-10-23T00:00:00.000000000",
          "2017-10-30T00:00:00.000000000",
          "2017-11-06T00:00:00.000000000",
          "2017-11-13T00:00:00.000000000",
          "2017-11-20T00:00:00.000000000",
          "2017-11-27T00:00:00.000000000",
          "2017-12-04T00:00:00.000000000",
          "2017-12-11T00:00:00.000000000",
          "2017-12-18T00:00:00.000000000",
          "2017-12-25T00:00:00.000000000",
          "2018-01-01T00:00:00.000000000",
          "2018-01-08T00:00:00.000000000",
          "2018-01-15T00:00:00.000000000",
          "2018-01-22T00:00:00.000000000",
          "2018-01-29T00:00:00.000000000",
          "2018-02-05T00:00:00.000000000",
          "2018-02-12T00:00:00.000000000",
          "2018-02-19T00:00:00.000000000",
          "2018-02-26T00:00:00.000000000",
          "2018-03-05T00:00:00.000000000",
          "2018-03-12T00:00:00.000000000",
          "2018-03-19T00:00:00.000000000",
          "2018-03-26T00:00:00.000000000",
          "2018-04-02T00:00:00.000000000",
          "2018-04-09T00:00:00.000000000",
          "2018-04-16T00:00:00.000000000",
          "2018-04-23T00:00:00.000000000",
          "2018-04-30T00:00:00.000000000",
          "2018-05-07T00:00:00.000000000",
          "2018-05-14T00:00:00.000000000",
          "2018-05-21T00:00:00.000000000",
          "2018-05-28T00:00:00.000000000",
          "2018-06-04T00:00:00.000000000",
          "2018-06-11T00:00:00.000000000",
          "2018-06-18T00:00:00.000000000",
          "2018-06-25T00:00:00.000000000",
          "2018-07-02T00:00:00.000000000",
          "2018-07-09T00:00:00.000000000",
          "2018-07-16T00:00:00.000000000",
          "2018-07-23T00:00:00.000000000",
          "2018-07-30T00:00:00.000000000",
          "2018-08-06T00:00:00.000000000",
          "2018-08-13T00:00:00.000000000",
          "2018-08-20T00:00:00.000000000",
          "2018-08-27T00:00:00.000000000",
          "2018-09-03T00:00:00.000000000",
          "2018-09-10T00:00:00.000000000",
          "2018-09-17T00:00:00.000000000",
          "2018-09-24T00:00:00.000000000"
         ],
         "xaxis": "x2",
         "y": {
          "bdata": "dNFFF11UT0BddNFFF51OQBdddNFFt09AF1100UU3TUCMLrroootPQLrooosu+kxAF1100UXnW0AXXXTRRbdYQHTRRRdd1FFAjC666KLjYkBGF1100fVTQNFFF1104VRAF1100UWXT0BddNFFF31RQBdddNFFF0pAdNFFF12UTUAAAAAAAKBNQNFFF110EUhAL7rooovOX0Cjiy666BJVQF100UUXXUtA6aKLLrrITEAXXXTRRedWQOmiiy66uFFAjC666KLLUEBGF1100WVJQIwuuuiii19ARhdddNElVkCMLrrooktSQF100UUXlWNA6aKLLrqYYECMLrroontgQBdddNFFT2NA6aKLLroYXUDpoosuuthfQNFFF1100VNAAAAAAAAAXEDpoosuunhSQEYXXXTRhUxAL7rooovOSUC66KKLLupRQF100UUXzVVA0UUXXXQ5YkDpoosuuhhTQBdddNFFF0VAL7rooovuWkAvuuiii95cQBdddNFFF2BAdNFFF11kXkDpoosuumhOQIwuuuii605AAAAAAAAgVkAAAAAAACBrQEYXXXTRBUpAdNFFF10MYkAvuuiii65HQBdddNFFl0hAXXTRRRf9QkAvuuiii45DQNFFF110kUlAAAAAAACAT0C66KKLLrpIQIwuuuiii0hAXXTRRRddRkAAAAAAAIBNQAAAAAAAIEVAdNFFF100RUAAAAAAAOBGQNFFF1108UdARhdddNEFPkAvuuiiiy5JQBdddNFF90tAo4suuuhyUkC66KKLLgpRQHTRRRddtERAL7rooosORkDRRRdddLFDQIwuuuiiC09AAAAAAAAASEAXXXTRRbdLQLrooosuulJAo4suuuhyYEAvuuiii45HQAAAAAAAoFBAdNFFF11UXEAAAAAAAOhiQF100UUXPV1AL7rooovuVEDpoosuusBpQIwuuuiii1hAjC666KKrTEB00UUXXdRWQEYXXXTRNVtA0UUXXXSxSECMLrroomtQQLrooosuWlhAAAAAAAAgTkBGF1100VVfQIwuuuiiS2hAuuiiiy7iaUA=",
          "dtype": "f8"
         },
         "yaxis": "y2"
        }
       ],
       "layout": {
        "annotations": [
         {
          "font": {
           "size": 16
          },
          "showarrow": false,
          "text": "Average Price Over Time",
          "x": 0.5,
          "xanchor": "center",
          "xref": "paper",
          "y": 1,
          "yanchor": "bottom",
          "yref": "paper"
         },
         {
          "font": {
           "size": 16
          },
          "showarrow": false,
          "text": "Average Weekly Sales",
          "x": 0.5,
          "xanchor": "center",
          "xref": "paper",
          "y": 0.375,
          "yanchor": "bottom",
          "yref": "paper"
         }
        ],
        "height": 600,
        "showlegend": false,
        "template": {
         "data": {
          "bar": [
           {
            "error_x": {
             "color": "#2a3f5f"
            },
            "error_y": {
             "color": "#2a3f5f"
            },
            "marker": {
             "line": {
              "color": "#E5ECF6",
              "width": 0.5
             },
             "pattern": {
              "fillmode": "overlay",
              "size": 10,
              "solidity": 0.2
             }
            },
            "type": "bar"
           }
          ],
          "barpolar": [
           {
            "marker": {
             "line": {
              "color": "#E5ECF6",
              "width": 0.5
             },
             "pattern": {
              "fillmode": "overlay",
              "size": 10,
              "solidity": 0.2
             }
            },
            "type": "barpolar"
           }
          ],
          "carpet": [
           {
            "aaxis": {
             "endlinecolor": "#2a3f5f",
             "gridcolor": "white",
             "linecolor": "white",
             "minorgridcolor": "white",
             "startlinecolor": "#2a3f5f"
            },
            "baxis": {
             "endlinecolor": "#2a3f5f",
             "gridcolor": "white",
             "linecolor": "white",
             "minorgridcolor": "white",
             "startlinecolor": "#2a3f5f"
            },
            "type": "carpet"
           }
          ],
          "choropleth": [
           {
            "colorbar": {
             "outlinewidth": 0,
             "ticks": ""
            },
            "type": "choropleth"
           }
          ],
          "contour": [
           {
            "colorbar": {
             "outlinewidth": 0,
             "ticks": ""
            },
            "colorscale": [
             [
              0,
              "#0d0887"
             ],
             [
              0.1111111111111111,
              "#46039f"
             ],
             [
              0.2222222222222222,
              "#7201a8"
             ],
             [
              0.3333333333333333,
              "#9c179e"
             ],
             [
              0.4444444444444444,
              "#bd3786"
             ],
             [
              0.5555555555555556,
              "#d8576b"
             ],
             [
              0.6666666666666666,
              "#ed7953"
             ],
             [
              0.7777777777777778,
              "#fb9f3a"
             ],
             [
              0.8888888888888888,
              "#fdca26"
             ],
             [
              1,
              "#f0f921"
             ]
            ],
            "type": "contour"
           }
          ],
          "contourcarpet": [
           {
            "colorbar": {
             "outlinewidth": 0,
             "ticks": ""
            },
            "type": "contourcarpet"
           }
          ],
          "heatmap": [
           {
            "colorbar": {
             "outlinewidth": 0,
             "ticks": ""
            },
            "colorscale": [
             [
              0,
              "#0d0887"
             ],
             [
              0.1111111111111111,
              "#46039f"
             ],
             [
              0.2222222222222222,
              "#7201a8"
             ],
             [
              0.3333333333333333,
              "#9c179e"
             ],
             [
              0.4444444444444444,
              "#bd3786"
             ],
             [
              0.5555555555555556,
              "#d8576b"
             ],
             [
              0.6666666666666666,
              "#ed7953"
             ],
             [
              0.7777777777777778,
              "#fb9f3a"
             ],
             [
              0.8888888888888888,
              "#fdca26"
             ],
             [
              1,
              "#f0f921"
             ]
            ],
            "type": "heatmap"
           }
          ],
          "histogram": [
           {
            "marker": {
             "pattern": {
              "fillmode": "overlay",
              "size": 10,
              "solidity": 0.2
             }
            },
            "type": "histogram"
           }
          ],
          "histogram2d": [
           {
            "colorbar": {
             "outlinewidth": 0,
             "ticks": ""
            },
            "colorscale": [
             [
              0,
              "#0d0887"
             ],
             [
              0.1111111111111111,
              "#46039f"
             ],
             [
              0.2222222222222222,
              "#7201a8"
             ],
             [
              0.3333333333333333,
              "#9c179e"
             ],
             [
              0.4444444444444444,
              "#bd3786"
             ],
             [
              0.5555555555555556,
              "#d8576b"
             ],
             [
              0.6666666666666666,
              "#ed7953"
             ],
             [
              0.7777777777777778,
              "#fb9f3a"
             ],
             [
              0.8888888888888888,
              "#fdca26"
             ],
             [
              1,
              "#f0f921"
             ]
            ],
            "type": "histogram2d"
           }
          ],
          "histogram2dcontour": [
           {
            "colorbar": {
             "outlinewidth": 0,
             "ticks": ""
            },
            "colorscale": [
             [
              0,
              "#0d0887"
             ],
             [
              0.1111111111111111,
              "#46039f"
             ],
             [
              0.2222222222222222,
              "#7201a8"
             ],
             [
              0.3333333333333333,
              "#9c179e"
             ],
             [
              0.4444444444444444,
              "#bd3786"
             ],
             [
              0.5555555555555556,
              "#d8576b"
             ],
             [
              0.6666666666666666,
              "#ed7953"
             ],
             [
              0.7777777777777778,
              "#fb9f3a"
             ],
             [
              0.8888888888888888,
              "#fdca26"
             ],
             [
              1,
              "#f0f921"
             ]
            ],
            "type": "histogram2dcontour"
           }
          ],
          "mesh3d": [
           {
            "colorbar": {
             "outlinewidth": 0,
             "ticks": ""
            },
            "type": "mesh3d"
           }
          ],
          "parcoords": [
           {
            "line": {
             "colorbar": {
              "outlinewidth": 0,
              "ticks": ""
             }
            },
            "type": "parcoords"
           }
          ],
          "pie": [
           {
            "automargin": true,
            "type": "pie"
           }
          ],
          "scatter": [
           {
            "fillpattern": {
             "fillmode": "overlay",
             "size": 10,
             "solidity": 0.2
            },
            "type": "scatter"
           }
          ],
          "scatter3d": [
           {
            "line": {
             "colorbar": {
              "outlinewidth": 0,
              "ticks": ""
             }
            },
            "marker": {
             "colorbar": {
              "outlinewidth": 0,
              "ticks": ""
             }
            },
            "type": "scatter3d"
           }
          ],
          "scattercarpet": [
           {
            "marker": {
             "colorbar": {
              "outlinewidth": 0,
              "ticks": ""
             }
            },
            "type": "scattercarpet"
           }
          ],
          "scattergeo": [
           {
            "marker": {
             "colorbar": {
              "outlinewidth": 0,
              "ticks": ""
             }
            },
            "type": "scattergeo"
           }
          ],
          "scattergl": [
           {
            "marker": {
             "colorbar": {
              "outlinewidth": 0,
              "ticks": ""
             }
            },
            "type": "scattergl"
           }
          ],
          "scattermap": [
           {
            "marker": {
             "colorbar": {
              "outlinewidth": 0,
              "ticks": ""
             }
            },
            "type": "scattermap"
           }
          ],
          "scattermapbox": [
           {
            "marker": {
             "colorbar": {
              "outlinewidth": 0,
              "ticks": ""
             }
            },
            "type": "scattermapbox"
           }
          ],
          "scatterpolar": [
           {
            "marker": {
             "colorbar": {
              "outlinewidth": 0,
              "ticks": ""
             }
            },
            "type": "scatterpolar"
           }
          ],
          "scatterpolargl": [
           {
            "marker": {
             "colorbar": {
              "outlinewidth": 0,
              "ticks": ""
             }
            },
            "type": "scatterpolargl"
           }
          ],
          "scatterternary": [
           {
            "marker": {
             "colorbar": {
              "outlinewidth": 0,
              "ticks": ""
             }
            },
            "type": "scatterternary"
           }
          ],
          "surface": [
           {
            "colorbar": {
             "outlinewidth": 0,
             "ticks": ""
            },
            "colorscale": [
             [
              0,
              "#0d0887"
             ],
             [
              0.1111111111111111,
              "#46039f"
             ],
             [
              0.2222222222222222,
              "#7201a8"
             ],
             [
              0.3333333333333333,
              "#9c179e"
             ],
             [
              0.4444444444444444,
              "#bd3786"
             ],
             [
              0.5555555555555556,
              "#d8576b"
             ],
             [
              0.6666666666666666,
              "#ed7953"
             ],
             [
              0.7777777777777778,
              "#fb9f3a"
             ],
             [
              0.8888888888888888,
              "#fdca26"
             ],
             [
              1,
              "#f0f921"
             ]
            ],
            "type": "surface"
           }
          ],
          "table": [
           {
            "cells": {
             "fill": {
              "color": "#EBF0F8"
             },
             "line": {
              "color": "white"
             }
            },
            "header": {
             "fill": {
              "color": "#C8D4E3"
             },
             "line": {
              "color": "white"
             }
            },
            "type": "table"
           }
          ]
         },
         "layout": {
          "annotationdefaults": {
           "arrowcolor": "#2a3f5f",
           "arrowhead": 0,
           "arrowwidth": 1
          },
          "autotypenumbers": "strict",
          "coloraxis": {
           "colorbar": {
            "outlinewidth": 0,
            "ticks": ""
           }
          },
          "colorscale": {
           "diverging": [
            [
             0,
             "#8e0152"
            ],
            [
             0.1,
             "#c51b7d"
            ],
            [
             0.2,
             "#de77ae"
            ],
            [
             0.3,
             "#f1b6da"
            ],
            [
             0.4,
             "#fde0ef"
            ],
            [
             0.5,
             "#f7f7f7"
            ],
            [
             0.6,
             "#e6f5d0"
            ],
            [
             0.7,
             "#b8e186"
            ],
            [
             0.8,
             "#7fbc41"
            ],
            [
             0.9,
             "#4d9221"
            ],
            [
             1,
             "#276419"
            ]
           ],
           "sequential": [
            [
             0,
             "#0d0887"
            ],
            [
             0.1111111111111111,
             "#46039f"
            ],
            [
             0.2222222222222222,
             "#7201a8"
            ],
            [
             0.3333333333333333,
             "#9c179e"
            ],
            [
             0.4444444444444444,
             "#bd3786"
            ],
            [
             0.5555555555555556,
             "#d8576b"
            ],
            [
             0.6666666666666666,
             "#ed7953"
            ],
            [
             0.7777777777777778,
             "#fb9f3a"
            ],
            [
             0.8888888888888888,
             "#fdca26"
            ],
            [
             1,
             "#f0f921"
            ]
           ],
           "sequentialminus": [
            [
             0,
             "#0d0887"
            ],
            [
             0.1111111111111111,
             "#46039f"
            ],
            [
             0.2222222222222222,
             "#7201a8"
            ],
            [
             0.3333333333333333,
             "#9c179e"
            ],
            [
             0.4444444444444444,
             "#bd3786"
            ],
            [
             0.5555555555555556,
             "#d8576b"
            ],
            [
             0.6666666666666666,
             "#ed7953"
            ],
            [
             0.7777777777777778,
             "#fb9f3a"
            ],
            [
             0.8888888888888888,
             "#fdca26"
            ],
            [
             1,
             "#f0f921"
            ]
           ]
          },
          "colorway": [
           "#636efa",
           "#EF553B",
           "#00cc96",
           "#ab63fa",
           "#FFA15A",
           "#19d3f3",
           "#FF6692",
           "#B6E880",
           "#FF97FF",
           "#FECB52"
          ],
          "font": {
           "color": "#2a3f5f"
          },
          "geo": {
           "bgcolor": "white",
           "lakecolor": "white",
           "landcolor": "#E5ECF6",
           "showlakes": true,
           "showland": true,
           "subunitcolor": "white"
          },
          "hoverlabel": {
           "align": "left"
          },
          "hovermode": "closest",
          "mapbox": {
           "style": "light"
          },
          "paper_bgcolor": "white",
          "plot_bgcolor": "#E5ECF6",
          "polar": {
           "angularaxis": {
            "gridcolor": "white",
            "linecolor": "white",
            "ticks": ""
           },
           "bgcolor": "#E5ECF6",
           "radialaxis": {
            "gridcolor": "white",
            "linecolor": "white",
            "ticks": ""
           }
          },
          "scene": {
           "xaxis": {
            "backgroundcolor": "#E5ECF6",
            "gridcolor": "white",
            "gridwidth": 2,
            "linecolor": "white",
            "showbackground": true,
            "ticks": "",
            "zerolinecolor": "white"
           },
           "yaxis": {
            "backgroundcolor": "#E5ECF6",
            "gridcolor": "white",
            "gridwidth": 2,
            "linecolor": "white",
            "showbackground": true,
            "ticks": "",
            "zerolinecolor": "white"
           },
           "zaxis": {
            "backgroundcolor": "#E5ECF6",
            "gridcolor": "white",
            "gridwidth": 2,
            "linecolor": "white",
            "showbackground": true,
            "ticks": "",
            "zerolinecolor": "white"
           }
          },
          "shapedefaults": {
           "line": {
            "color": "#2a3f5f"
           }
          },
          "ternary": {
           "aaxis": {
            "gridcolor": "white",
            "linecolor": "white",
            "ticks": ""
           },
           "baxis": {
            "gridcolor": "white",
            "linecolor": "white",
            "ticks": ""
           },
           "bgcolor": "#E5ECF6",
           "caxis": {
            "gridcolor": "white",
            "linecolor": "white",
            "ticks": ""
           }
          },
          "title": {
           "x": 0.05
          },
          "xaxis": {
           "automargin": true,
           "gridcolor": "white",
           "linecolor": "white",
           "ticks": "",
           "title": {
            "standoff": 15
           },
           "zerolinecolor": "white",
           "zerolinewidth": 2
          },
          "yaxis": {
           "automargin": true,
           "gridcolor": "white",
           "linecolor": "white",
           "ticks": "",
           "title": {
            "standoff": 15
           },
           "zerolinecolor": "white",
           "zerolinewidth": 2
          }
         }
        },
        "title": {
         "text": "Average Price and Weekly Sales Over Time"
        },
        "xaxis": {
         "anchor": "y",
         "domain": [
          0,
          1
         ],
         "matches": "x2",
         "showticklabels": false
        },
        "xaxis2": {
         "anchor": "y2",
         "domain": [
          0,
          1
         ],
         "tickangle": 30
        },
        "yaxis": {
         "anchor": "x",
         "domain": [
          0.625,
          1
         ]
        },
        "yaxis2": {
         "anchor": "x2",
         "domain": [
          0,
          0.375
         ]
        }
       }
      }
     },
     "metadata": {},
     "output_type": "display_data"
    }
   ],
   "source": [
    "avg = df.groupby(\"week\")[[\"weekly_sales\",\"price\"]].mean().reset_index()\n",
    "\n",
    "# Create subplots: 2 rows, 1 column\n",
    "fig = make_subplots(\n",
    "    rows=2, cols=1,\n",
    "    shared_xaxes=True,\n",
    "    subplot_titles=(\"Average Price Over Time\", \"Average Weekly Sales\")\n",
    ")\n",
    "\n",
    "# Row 1: Average Price (now on top)\n",
    "fig.add_trace(\n",
    "    go.Scatter(x=avg[\"week\"], y=avg[\"price\"], mode='lines', name='Avg Price', line=dict(color='red')),\n",
    "    row=1, col=1\n",
    ")\n",
    "\n",
    "# Row 2: Average Sales (now on bottom)\n",
    "fig.add_trace(\n",
    "    go.Scatter(x=avg[\"week\"], y=avg[\"weekly_sales\"], mode='lines', name='Avg Sales', line=dict(color='blue')),\n",
    "    row=2, col=1\n",
    ")\n",
    "\n",
    "# Update layout\n",
    "fig.update_layout(\n",
    "    height=600,\n",
    "    title_text=\"Average Price and Weekly Sales Over Time\",\n",
    "    showlegend=False\n",
    ")\n",
    "\n",
    "# Optional: rotate x-axis ticks\n",
    "fig.update_xaxes(tickangle=30, row=2, col=1)\n",
    "\n",
    "fig.show()"
   ]
  },
  {
   "cell_type": "markdown",
   "id": "c0d8d5c6",
   "metadata": {},
   "source": [
    "\"While average prices steadily rise, weekly sales show an inverse pattern at key points. For example, during periods where price dips slightly, such as in late 2017 and summer 2018, sales surge — suggesting a negative price elasticity, where lower prices drive higher sales.\""
   ]
  },
  {
   "cell_type": "markdown",
   "id": "ce21090a",
   "metadata": {},
   "source": [
    "## 📢\"This indicates that customers may be price-sensitive, and even small pricing adjustments could significantly impact weekly sales performance.\""
   ]
  },
  {
   "cell_type": "code",
   "execution_count": null,
   "id": "46493ce2",
   "metadata": {},
   "outputs": [
    {
     "data": {
      "application/vnd.plotly.v1+json": {
       "config": {
        "plotlyServerURL": "https://plot.ly"
       },
       "data": [
        {
         "hovertemplate": "Month=%{x}<br>Total Sales=%{marker.color}<extra></extra>",
         "legendgroup": "",
         "marker": {
          "color": {
           "bdata": "9nYAACNCAABTYgAAmVgAAFuYAAAeqAAAepwAALh4AACiqAAAQWkAAKtcAABDWwAA",
           "dtype": "i4"
          },
          "coloraxis": "coloraxis",
          "pattern": {
           "shape": ""
          }
         },
         "name": "",
         "orientation": "v",
         "showlegend": false,
         "textposition": "auto",
         "texttemplate": "%{y:.2s}",
         "type": "bar",
         "x": {
          "bdata": "AQIDBAUGBwgJCgsM",
          "dtype": "i1"
         },
         "xaxis": "x",
         "y": {
          "bdata": "9nYAACNCAABTYgAAmVgAAFuYAAAeqAAAepwAALh4AACiqAAAQWkAAKtcAABDWwAA",
          "dtype": "i4"
         },
         "yaxis": "y"
        }
       ],
       "layout": {
        "barmode": "relative",
        "coloraxis": {
         "colorbar": {
          "title": {
           "text": "Total Sales"
          }
         },
         "colorscale": [
          [
           0,
           "rgb(247,251,255)"
          ],
          [
           0.125,
           "rgb(222,235,247)"
          ],
          [
           0.25,
           "rgb(198,219,239)"
          ],
          [
           0.375,
           "rgb(158,202,225)"
          ],
          [
           0.5,
           "rgb(107,174,214)"
          ],
          [
           0.625,
           "rgb(66,146,198)"
          ],
          [
           0.75,
           "rgb(33,113,181)"
          ],
          [
           0.875,
           "rgb(8,81,156)"
          ],
          [
           1,
           "rgb(8,48,107)"
          ]
         ]
        },
        "legend": {
         "tracegroupgap": 0
        },
        "template": {
         "data": {
          "bar": [
           {
            "error_x": {
             "color": "#2a3f5f"
            },
            "error_y": {
             "color": "#2a3f5f"
            },
            "marker": {
             "line": {
              "color": "#E5ECF6",
              "width": 0.5
             },
             "pattern": {
              "fillmode": "overlay",
              "size": 10,
              "solidity": 0.2
             }
            },
            "type": "bar"
           }
          ],
          "barpolar": [
           {
            "marker": {
             "line": {
              "color": "#E5ECF6",
              "width": 0.5
             },
             "pattern": {
              "fillmode": "overlay",
              "size": 10,
              "solidity": 0.2
             }
            },
            "type": "barpolar"
           }
          ],
          "carpet": [
           {
            "aaxis": {
             "endlinecolor": "#2a3f5f",
             "gridcolor": "white",
             "linecolor": "white",
             "minorgridcolor": "white",
             "startlinecolor": "#2a3f5f"
            },
            "baxis": {
             "endlinecolor": "#2a3f5f",
             "gridcolor": "white",
             "linecolor": "white",
             "minorgridcolor": "white",
             "startlinecolor": "#2a3f5f"
            },
            "type": "carpet"
           }
          ],
          "choropleth": [
           {
            "colorbar": {
             "outlinewidth": 0,
             "ticks": ""
            },
            "type": "choropleth"
           }
          ],
          "contour": [
           {
            "colorbar": {
             "outlinewidth": 0,
             "ticks": ""
            },
            "colorscale": [
             [
              0,
              "#0d0887"
             ],
             [
              0.1111111111111111,
              "#46039f"
             ],
             [
              0.2222222222222222,
              "#7201a8"
             ],
             [
              0.3333333333333333,
              "#9c179e"
             ],
             [
              0.4444444444444444,
              "#bd3786"
             ],
             [
              0.5555555555555556,
              "#d8576b"
             ],
             [
              0.6666666666666666,
              "#ed7953"
             ],
             [
              0.7777777777777778,
              "#fb9f3a"
             ],
             [
              0.8888888888888888,
              "#fdca26"
             ],
             [
              1,
              "#f0f921"
             ]
            ],
            "type": "contour"
           }
          ],
          "contourcarpet": [
           {
            "colorbar": {
             "outlinewidth": 0,
             "ticks": ""
            },
            "type": "contourcarpet"
           }
          ],
          "heatmap": [
           {
            "colorbar": {
             "outlinewidth": 0,
             "ticks": ""
            },
            "colorscale": [
             [
              0,
              "#0d0887"
             ],
             [
              0.1111111111111111,
              "#46039f"
             ],
             [
              0.2222222222222222,
              "#7201a8"
             ],
             [
              0.3333333333333333,
              "#9c179e"
             ],
             [
              0.4444444444444444,
              "#bd3786"
             ],
             [
              0.5555555555555556,
              "#d8576b"
             ],
             [
              0.6666666666666666,
              "#ed7953"
             ],
             [
              0.7777777777777778,
              "#fb9f3a"
             ],
             [
              0.8888888888888888,
              "#fdca26"
             ],
             [
              1,
              "#f0f921"
             ]
            ],
            "type": "heatmap"
           }
          ],
          "histogram": [
           {
            "marker": {
             "pattern": {
              "fillmode": "overlay",
              "size": 10,
              "solidity": 0.2
             }
            },
            "type": "histogram"
           }
          ],
          "histogram2d": [
           {
            "colorbar": {
             "outlinewidth": 0,
             "ticks": ""
            },
            "colorscale": [
             [
              0,
              "#0d0887"
             ],
             [
              0.1111111111111111,
              "#46039f"
             ],
             [
              0.2222222222222222,
              "#7201a8"
             ],
             [
              0.3333333333333333,
              "#9c179e"
             ],
             [
              0.4444444444444444,
              "#bd3786"
             ],
             [
              0.5555555555555556,
              "#d8576b"
             ],
             [
              0.6666666666666666,
              "#ed7953"
             ],
             [
              0.7777777777777778,
              "#fb9f3a"
             ],
             [
              0.8888888888888888,
              "#fdca26"
             ],
             [
              1,
              "#f0f921"
             ]
            ],
            "type": "histogram2d"
           }
          ],
          "histogram2dcontour": [
           {
            "colorbar": {
             "outlinewidth": 0,
             "ticks": ""
            },
            "colorscale": [
             [
              0,
              "#0d0887"
             ],
             [
              0.1111111111111111,
              "#46039f"
             ],
             [
              0.2222222222222222,
              "#7201a8"
             ],
             [
              0.3333333333333333,
              "#9c179e"
             ],
             [
              0.4444444444444444,
              "#bd3786"
             ],
             [
              0.5555555555555556,
              "#d8576b"
             ],
             [
              0.6666666666666666,
              "#ed7953"
             ],
             [
              0.7777777777777778,
              "#fb9f3a"
             ],
             [
              0.8888888888888888,
              "#fdca26"
             ],
             [
              1,
              "#f0f921"
             ]
            ],
            "type": "histogram2dcontour"
           }
          ],
          "mesh3d": [
           {
            "colorbar": {
             "outlinewidth": 0,
             "ticks": ""
            },
            "type": "mesh3d"
           }
          ],
          "parcoords": [
           {
            "line": {
             "colorbar": {
              "outlinewidth": 0,
              "ticks": ""
             }
            },
            "type": "parcoords"
           }
          ],
          "pie": [
           {
            "automargin": true,
            "type": "pie"
           }
          ],
          "scatter": [
           {
            "fillpattern": {
             "fillmode": "overlay",
             "size": 10,
             "solidity": 0.2
            },
            "type": "scatter"
           }
          ],
          "scatter3d": [
           {
            "line": {
             "colorbar": {
              "outlinewidth": 0,
              "ticks": ""
             }
            },
            "marker": {
             "colorbar": {
              "outlinewidth": 0,
              "ticks": ""
             }
            },
            "type": "scatter3d"
           }
          ],
          "scattercarpet": [
           {
            "marker": {
             "colorbar": {
              "outlinewidth": 0,
              "ticks": ""
             }
            },
            "type": "scattercarpet"
           }
          ],
          "scattergeo": [
           {
            "marker": {
             "colorbar": {
              "outlinewidth": 0,
              "ticks": ""
             }
            },
            "type": "scattergeo"
           }
          ],
          "scattergl": [
           {
            "marker": {
             "colorbar": {
              "outlinewidth": 0,
              "ticks": ""
             }
            },
            "type": "scattergl"
           }
          ],
          "scattermap": [
           {
            "marker": {
             "colorbar": {
              "outlinewidth": 0,
              "ticks": ""
             }
            },
            "type": "scattermap"
           }
          ],
          "scattermapbox": [
           {
            "marker": {
             "colorbar": {
              "outlinewidth": 0,
              "ticks": ""
             }
            },
            "type": "scattermapbox"
           }
          ],
          "scatterpolar": [
           {
            "marker": {
             "colorbar": {
              "outlinewidth": 0,
              "ticks": ""
             }
            },
            "type": "scatterpolar"
           }
          ],
          "scatterpolargl": [
           {
            "marker": {
             "colorbar": {
              "outlinewidth": 0,
              "ticks": ""
             }
            },
            "type": "scatterpolargl"
           }
          ],
          "scatterternary": [
           {
            "marker": {
             "colorbar": {
              "outlinewidth": 0,
              "ticks": ""
             }
            },
            "type": "scatterternary"
           }
          ],
          "surface": [
           {
            "colorbar": {
             "outlinewidth": 0,
             "ticks": ""
            },
            "colorscale": [
             [
              0,
              "#0d0887"
             ],
             [
              0.1111111111111111,
              "#46039f"
             ],
             [
              0.2222222222222222,
              "#7201a8"
             ],
             [
              0.3333333333333333,
              "#9c179e"
             ],
             [
              0.4444444444444444,
              "#bd3786"
             ],
             [
              0.5555555555555556,
              "#d8576b"
             ],
             [
              0.6666666666666666,
              "#ed7953"
             ],
             [
              0.7777777777777778,
              "#fb9f3a"
             ],
             [
              0.8888888888888888,
              "#fdca26"
             ],
             [
              1,
              "#f0f921"
             ]
            ],
            "type": "surface"
           }
          ],
          "table": [
           {
            "cells": {
             "fill": {
              "color": "#EBF0F8"
             },
             "line": {
              "color": "white"
             }
            },
            "header": {
             "fill": {
              "color": "#C8D4E3"
             },
             "line": {
              "color": "white"
             }
            },
            "type": "table"
           }
          ]
         },
         "layout": {
          "annotationdefaults": {
           "arrowcolor": "#2a3f5f",
           "arrowhead": 0,
           "arrowwidth": 1
          },
          "autotypenumbers": "strict",
          "coloraxis": {
           "colorbar": {
            "outlinewidth": 0,
            "ticks": ""
           }
          },
          "colorscale": {
           "diverging": [
            [
             0,
             "#8e0152"
            ],
            [
             0.1,
             "#c51b7d"
            ],
            [
             0.2,
             "#de77ae"
            ],
            [
             0.3,
             "#f1b6da"
            ],
            [
             0.4,
             "#fde0ef"
            ],
            [
             0.5,
             "#f7f7f7"
            ],
            [
             0.6,
             "#e6f5d0"
            ],
            [
             0.7,
             "#b8e186"
            ],
            [
             0.8,
             "#7fbc41"
            ],
            [
             0.9,
             "#4d9221"
            ],
            [
             1,
             "#276419"
            ]
           ],
           "sequential": [
            [
             0,
             "#0d0887"
            ],
            [
             0.1111111111111111,
             "#46039f"
            ],
            [
             0.2222222222222222,
             "#7201a8"
            ],
            [
             0.3333333333333333,
             "#9c179e"
            ],
            [
             0.4444444444444444,
             "#bd3786"
            ],
            [
             0.5555555555555556,
             "#d8576b"
            ],
            [
             0.6666666666666666,
             "#ed7953"
            ],
            [
             0.7777777777777778,
             "#fb9f3a"
            ],
            [
             0.8888888888888888,
             "#fdca26"
            ],
            [
             1,
             "#f0f921"
            ]
           ],
           "sequentialminus": [
            [
             0,
             "#0d0887"
            ],
            [
             0.1111111111111111,
             "#46039f"
            ],
            [
             0.2222222222222222,
             "#7201a8"
            ],
            [
             0.3333333333333333,
             "#9c179e"
            ],
            [
             0.4444444444444444,
             "#bd3786"
            ],
            [
             0.5555555555555556,
             "#d8576b"
            ],
            [
             0.6666666666666666,
             "#ed7953"
            ],
            [
             0.7777777777777778,
             "#fb9f3a"
            ],
            [
             0.8888888888888888,
             "#fdca26"
            ],
            [
             1,
             "#f0f921"
            ]
           ]
          },
          "colorway": [
           "#636efa",
           "#EF553B",
           "#00cc96",
           "#ab63fa",
           "#FFA15A",
           "#19d3f3",
           "#FF6692",
           "#B6E880",
           "#FF97FF",
           "#FECB52"
          ],
          "font": {
           "color": "#2a3f5f"
          },
          "geo": {
           "bgcolor": "white",
           "lakecolor": "white",
           "landcolor": "#E5ECF6",
           "showlakes": true,
           "showland": true,
           "subunitcolor": "white"
          },
          "hoverlabel": {
           "align": "left"
          },
          "hovermode": "closest",
          "mapbox": {
           "style": "light"
          },
          "paper_bgcolor": "white",
          "plot_bgcolor": "#E5ECF6",
          "polar": {
           "angularaxis": {
            "gridcolor": "white",
            "linecolor": "white",
            "ticks": ""
           },
           "bgcolor": "#E5ECF6",
           "radialaxis": {
            "gridcolor": "white",
            "linecolor": "white",
            "ticks": ""
           }
          },
          "scene": {
           "xaxis": {
            "backgroundcolor": "#E5ECF6",
            "gridcolor": "white",
            "gridwidth": 2,
            "linecolor": "white",
            "showbackground": true,
            "ticks": "",
            "zerolinecolor": "white"
           },
           "yaxis": {
            "backgroundcolor": "#E5ECF6",
            "gridcolor": "white",
            "gridwidth": 2,
            "linecolor": "white",
            "showbackground": true,
            "ticks": "",
            "zerolinecolor": "white"
           },
           "zaxis": {
            "backgroundcolor": "#E5ECF6",
            "gridcolor": "white",
            "gridwidth": 2,
            "linecolor": "white",
            "showbackground": true,
            "ticks": "",
            "zerolinecolor": "white"
           }
          },
          "shapedefaults": {
           "line": {
            "color": "#2a3f5f"
           }
          },
          "ternary": {
           "aaxis": {
            "gridcolor": "white",
            "linecolor": "white",
            "ticks": ""
           },
           "baxis": {
            "gridcolor": "white",
            "linecolor": "white",
            "ticks": ""
           },
           "bgcolor": "#E5ECF6",
           "caxis": {
            "gridcolor": "white",
            "linecolor": "white",
            "ticks": ""
           }
          },
          "title": {
           "x": 0.05
          },
          "xaxis": {
           "automargin": true,
           "gridcolor": "white",
           "linecolor": "white",
           "ticks": "",
           "title": {
            "standoff": 15
           },
           "zerolinecolor": "white",
           "zerolinewidth": 2
          },
          "yaxis": {
           "automargin": true,
           "gridcolor": "white",
           "linecolor": "white",
           "ticks": "",
           "title": {
            "standoff": 15
           },
           "zerolinecolor": "white",
           "zerolinewidth": 2
          }
         }
        },
        "title": {
         "text": "Total Sales by Month Across All Years"
        },
        "xaxis": {
         "anchor": "y",
         "domain": [
          0,
          1
         ],
         "tickmode": "linear",
         "title": {
          "text": "Month"
         }
        },
        "yaxis": {
         "anchor": "x",
         "domain": [
          0,
          1
         ],
         "title": {
          "text": "Total Sales"
         }
        }
       }
      }
     },
     "metadata": {},
     "output_type": "display_data"
    }
   ],
   "source": [
    "monthly_sales = df.groupby('month')['weekly_sales'].sum().reset_index()\n",
    "\n",
    "fig = px.bar(\n",
    "    monthly_sales,\n",
    "    x='month',\n",
    "    y='weekly_sales',\n",
    "    title='Total Sales by Month Across All Years',\n",
    "    labels={'weekly_sales': 'Total Sales', 'month': 'Month'},\n",
    "    text_auto='.2s',\n",
    "    color='weekly_sales',\n",
    "    color_continuous_scale='Blues'\n",
    ")\n",
    "fig.update_layout(xaxis=dict(tickmode='linear'))\n",
    "fig.show()"
   ]
  },
  {
   "cell_type": "markdown",
   "id": "1e4469a8",
   "metadata": {},
   "source": [
    "“Sales peak mid-year, especially from May to September, making this the most profitable season. In contrast, February and Q4 show consistently lower sales, suggesting opportunities for targeted campaigns or off-season promotions to drive volume during slow periods.”"
   ]
  },
  {
   "cell_type": "code",
   "execution_count": null,
   "id": "59c16043",
   "metadata": {},
   "outputs": [
    {
     "data": {
      "application/vnd.plotly.v1+json": {
       "config": {
        "plotlyServerURL": "https://plot.ly"
       },
       "data": [
        {
         "hovertemplate": "Week Number=%{x}<br>Avg Weekly Sales=%{y}<extra></extra>",
         "legendgroup": "",
         "line": {
          "color": "#636efa",
          "dash": "solid"
         },
         "marker": {
          "symbol": "circle"
         },
         "mode": "lines",
         "name": "",
         "orientation": "v",
         "showlegend": false,
         "type": "scatter",
         "x": {
          "bdata": "AAECAwQFBgcICQoLDA0ODxAREhMUFRYXGBkaGxwdHh8gISIjJCUmJygpKissLS4vMDEyMzQ=",
          "dtype": "i1"
         },
         "xaxis": "x",
         "y": {
          "bdata": "uuiiiy66SEAvuuiiiwZZQHTRRRddJE9A6aKLLrrQUUCMLrrooltKQBdddNFFF0xAjC666KJ7SECjiy666MJKQNFFF110UUZAAAAAAACgSEBddNFFF+VWQKOLLrrowlNA6aKLLrq4TkAvuuiii75IQBdddNFF91BA0UUXXXSRS0DpoosuuihQQKOLLrroskhAjC666KKzVkAAAAAAAHBUQOmiiy66mFlA6aKLLrp4WUDpoosuuuhYQEYXXXTRpV5AjC666KIbY0Cjiy666CpdQIwuuuiiY1pA6aKLLrrUYUBGF1100UVaQBdddNFFZ1BAjC666KKLUkAvuuiiiw5UQKOLLrroQk5AdNFFF10cU0Avuuiii2ZeQHTRRRddFFFA6aKLLrrwVEDRRRdddOFiQOmiiy66KGRAF1100UUXYEB00UUXXWReQOmiiy66aE5AjC666KLrTkAAAAAAACBWQC+66KKLemFA0UUXXXRRTEC66KKLLvpZQKOLLrrockpA0UUXXXQRTECMLrroovtHQBdddNFF11JAAAAAAADAUkC66KKLLspQQA==",
          "dtype": "f8"
         },
         "yaxis": "y"
        }
       ],
       "layout": {
        "legend": {
         "tracegroupgap": 0
        },
        "template": {
         "data": {
          "bar": [
           {
            "error_x": {
             "color": "#2a3f5f"
            },
            "error_y": {
             "color": "#2a3f5f"
            },
            "marker": {
             "line": {
              "color": "#E5ECF6",
              "width": 0.5
             },
             "pattern": {
              "fillmode": "overlay",
              "size": 10,
              "solidity": 0.2
             }
            },
            "type": "bar"
           }
          ],
          "barpolar": [
           {
            "marker": {
             "line": {
              "color": "#E5ECF6",
              "width": 0.5
             },
             "pattern": {
              "fillmode": "overlay",
              "size": 10,
              "solidity": 0.2
             }
            },
            "type": "barpolar"
           }
          ],
          "carpet": [
           {
            "aaxis": {
             "endlinecolor": "#2a3f5f",
             "gridcolor": "white",
             "linecolor": "white",
             "minorgridcolor": "white",
             "startlinecolor": "#2a3f5f"
            },
            "baxis": {
             "endlinecolor": "#2a3f5f",
             "gridcolor": "white",
             "linecolor": "white",
             "minorgridcolor": "white",
             "startlinecolor": "#2a3f5f"
            },
            "type": "carpet"
           }
          ],
          "choropleth": [
           {
            "colorbar": {
             "outlinewidth": 0,
             "ticks": ""
            },
            "type": "choropleth"
           }
          ],
          "contour": [
           {
            "colorbar": {
             "outlinewidth": 0,
             "ticks": ""
            },
            "colorscale": [
             [
              0,
              "#0d0887"
             ],
             [
              0.1111111111111111,
              "#46039f"
             ],
             [
              0.2222222222222222,
              "#7201a8"
             ],
             [
              0.3333333333333333,
              "#9c179e"
             ],
             [
              0.4444444444444444,
              "#bd3786"
             ],
             [
              0.5555555555555556,
              "#d8576b"
             ],
             [
              0.6666666666666666,
              "#ed7953"
             ],
             [
              0.7777777777777778,
              "#fb9f3a"
             ],
             [
              0.8888888888888888,
              "#fdca26"
             ],
             [
              1,
              "#f0f921"
             ]
            ],
            "type": "contour"
           }
          ],
          "contourcarpet": [
           {
            "colorbar": {
             "outlinewidth": 0,
             "ticks": ""
            },
            "type": "contourcarpet"
           }
          ],
          "heatmap": [
           {
            "colorbar": {
             "outlinewidth": 0,
             "ticks": ""
            },
            "colorscale": [
             [
              0,
              "#0d0887"
             ],
             [
              0.1111111111111111,
              "#46039f"
             ],
             [
              0.2222222222222222,
              "#7201a8"
             ],
             [
              0.3333333333333333,
              "#9c179e"
             ],
             [
              0.4444444444444444,
              "#bd3786"
             ],
             [
              0.5555555555555556,
              "#d8576b"
             ],
             [
              0.6666666666666666,
              "#ed7953"
             ],
             [
              0.7777777777777778,
              "#fb9f3a"
             ],
             [
              0.8888888888888888,
              "#fdca26"
             ],
             [
              1,
              "#f0f921"
             ]
            ],
            "type": "heatmap"
           }
          ],
          "histogram": [
           {
            "marker": {
             "pattern": {
              "fillmode": "overlay",
              "size": 10,
              "solidity": 0.2
             }
            },
            "type": "histogram"
           }
          ],
          "histogram2d": [
           {
            "colorbar": {
             "outlinewidth": 0,
             "ticks": ""
            },
            "colorscale": [
             [
              0,
              "#0d0887"
             ],
             [
              0.1111111111111111,
              "#46039f"
             ],
             [
              0.2222222222222222,
              "#7201a8"
             ],
             [
              0.3333333333333333,
              "#9c179e"
             ],
             [
              0.4444444444444444,
              "#bd3786"
             ],
             [
              0.5555555555555556,
              "#d8576b"
             ],
             [
              0.6666666666666666,
              "#ed7953"
             ],
             [
              0.7777777777777778,
              "#fb9f3a"
             ],
             [
              0.8888888888888888,
              "#fdca26"
             ],
             [
              1,
              "#f0f921"
             ]
            ],
            "type": "histogram2d"
           }
          ],
          "histogram2dcontour": [
           {
            "colorbar": {
             "outlinewidth": 0,
             "ticks": ""
            },
            "colorscale": [
             [
              0,
              "#0d0887"
             ],
             [
              0.1111111111111111,
              "#46039f"
             ],
             [
              0.2222222222222222,
              "#7201a8"
             ],
             [
              0.3333333333333333,
              "#9c179e"
             ],
             [
              0.4444444444444444,
              "#bd3786"
             ],
             [
              0.5555555555555556,
              "#d8576b"
             ],
             [
              0.6666666666666666,
              "#ed7953"
             ],
             [
              0.7777777777777778,
              "#fb9f3a"
             ],
             [
              0.8888888888888888,
              "#fdca26"
             ],
             [
              1,
              "#f0f921"
             ]
            ],
            "type": "histogram2dcontour"
           }
          ],
          "mesh3d": [
           {
            "colorbar": {
             "outlinewidth": 0,
             "ticks": ""
            },
            "type": "mesh3d"
           }
          ],
          "parcoords": [
           {
            "line": {
             "colorbar": {
              "outlinewidth": 0,
              "ticks": ""
             }
            },
            "type": "parcoords"
           }
          ],
          "pie": [
           {
            "automargin": true,
            "type": "pie"
           }
          ],
          "scatter": [
           {
            "fillpattern": {
             "fillmode": "overlay",
             "size": 10,
             "solidity": 0.2
            },
            "type": "scatter"
           }
          ],
          "scatter3d": [
           {
            "line": {
             "colorbar": {
              "outlinewidth": 0,
              "ticks": ""
             }
            },
            "marker": {
             "colorbar": {
              "outlinewidth": 0,
              "ticks": ""
             }
            },
            "type": "scatter3d"
           }
          ],
          "scattercarpet": [
           {
            "marker": {
             "colorbar": {
              "outlinewidth": 0,
              "ticks": ""
             }
            },
            "type": "scattercarpet"
           }
          ],
          "scattergeo": [
           {
            "marker": {
             "colorbar": {
              "outlinewidth": 0,
              "ticks": ""
             }
            },
            "type": "scattergeo"
           }
          ],
          "scattergl": [
           {
            "marker": {
             "colorbar": {
              "outlinewidth": 0,
              "ticks": ""
             }
            },
            "type": "scattergl"
           }
          ],
          "scattermap": [
           {
            "marker": {
             "colorbar": {
              "outlinewidth": 0,
              "ticks": ""
             }
            },
            "type": "scattermap"
           }
          ],
          "scattermapbox": [
           {
            "marker": {
             "colorbar": {
              "outlinewidth": 0,
              "ticks": ""
             }
            },
            "type": "scattermapbox"
           }
          ],
          "scatterpolar": [
           {
            "marker": {
             "colorbar": {
              "outlinewidth": 0,
              "ticks": ""
             }
            },
            "type": "scatterpolar"
           }
          ],
          "scatterpolargl": [
           {
            "marker": {
             "colorbar": {
              "outlinewidth": 0,
              "ticks": ""
             }
            },
            "type": "scatterpolargl"
           }
          ],
          "scatterternary": [
           {
            "marker": {
             "colorbar": {
              "outlinewidth": 0,
              "ticks": ""
             }
            },
            "type": "scatterternary"
           }
          ],
          "surface": [
           {
            "colorbar": {
             "outlinewidth": 0,
             "ticks": ""
            },
            "colorscale": [
             [
              0,
              "#0d0887"
             ],
             [
              0.1111111111111111,
              "#46039f"
             ],
             [
              0.2222222222222222,
              "#7201a8"
             ],
             [
              0.3333333333333333,
              "#9c179e"
             ],
             [
              0.4444444444444444,
              "#bd3786"
             ],
             [
              0.5555555555555556,
              "#d8576b"
             ],
             [
              0.6666666666666666,
              "#ed7953"
             ],
             [
              0.7777777777777778,
              "#fb9f3a"
             ],
             [
              0.8888888888888888,
              "#fdca26"
             ],
             [
              1,
              "#f0f921"
             ]
            ],
            "type": "surface"
           }
          ],
          "table": [
           {
            "cells": {
             "fill": {
              "color": "#EBF0F8"
             },
             "line": {
              "color": "white"
             }
            },
            "header": {
             "fill": {
              "color": "#C8D4E3"
             },
             "line": {
              "color": "white"
             }
            },
            "type": "table"
           }
          ]
         },
         "layout": {
          "annotationdefaults": {
           "arrowcolor": "#2a3f5f",
           "arrowhead": 0,
           "arrowwidth": 1
          },
          "autotypenumbers": "strict",
          "coloraxis": {
           "colorbar": {
            "outlinewidth": 0,
            "ticks": ""
           }
          },
          "colorscale": {
           "diverging": [
            [
             0,
             "#8e0152"
            ],
            [
             0.1,
             "#c51b7d"
            ],
            [
             0.2,
             "#de77ae"
            ],
            [
             0.3,
             "#f1b6da"
            ],
            [
             0.4,
             "#fde0ef"
            ],
            [
             0.5,
             "#f7f7f7"
            ],
            [
             0.6,
             "#e6f5d0"
            ],
            [
             0.7,
             "#b8e186"
            ],
            [
             0.8,
             "#7fbc41"
            ],
            [
             0.9,
             "#4d9221"
            ],
            [
             1,
             "#276419"
            ]
           ],
           "sequential": [
            [
             0,
             "#0d0887"
            ],
            [
             0.1111111111111111,
             "#46039f"
            ],
            [
             0.2222222222222222,
             "#7201a8"
            ],
            [
             0.3333333333333333,
             "#9c179e"
            ],
            [
             0.4444444444444444,
             "#bd3786"
            ],
            [
             0.5555555555555556,
             "#d8576b"
            ],
            [
             0.6666666666666666,
             "#ed7953"
            ],
            [
             0.7777777777777778,
             "#fb9f3a"
            ],
            [
             0.8888888888888888,
             "#fdca26"
            ],
            [
             1,
             "#f0f921"
            ]
           ],
           "sequentialminus": [
            [
             0,
             "#0d0887"
            ],
            [
             0.1111111111111111,
             "#46039f"
            ],
            [
             0.2222222222222222,
             "#7201a8"
            ],
            [
             0.3333333333333333,
             "#9c179e"
            ],
            [
             0.4444444444444444,
             "#bd3786"
            ],
            [
             0.5555555555555556,
             "#d8576b"
            ],
            [
             0.6666666666666666,
             "#ed7953"
            ],
            [
             0.7777777777777778,
             "#fb9f3a"
            ],
            [
             0.8888888888888888,
             "#fdca26"
            ],
            [
             1,
             "#f0f921"
            ]
           ]
          },
          "colorway": [
           "#636efa",
           "#EF553B",
           "#00cc96",
           "#ab63fa",
           "#FFA15A",
           "#19d3f3",
           "#FF6692",
           "#B6E880",
           "#FF97FF",
           "#FECB52"
          ],
          "font": {
           "color": "#2a3f5f"
          },
          "geo": {
           "bgcolor": "white",
           "lakecolor": "white",
           "landcolor": "#E5ECF6",
           "showlakes": true,
           "showland": true,
           "subunitcolor": "white"
          },
          "hoverlabel": {
           "align": "left"
          },
          "hovermode": "closest",
          "mapbox": {
           "style": "light"
          },
          "paper_bgcolor": "white",
          "plot_bgcolor": "#E5ECF6",
          "polar": {
           "angularaxis": {
            "gridcolor": "white",
            "linecolor": "white",
            "ticks": ""
           },
           "bgcolor": "#E5ECF6",
           "radialaxis": {
            "gridcolor": "white",
            "linecolor": "white",
            "ticks": ""
           }
          },
          "scene": {
           "xaxis": {
            "backgroundcolor": "#E5ECF6",
            "gridcolor": "white",
            "gridwidth": 2,
            "linecolor": "white",
            "showbackground": true,
            "ticks": "",
            "zerolinecolor": "white"
           },
           "yaxis": {
            "backgroundcolor": "#E5ECF6",
            "gridcolor": "white",
            "gridwidth": 2,
            "linecolor": "white",
            "showbackground": true,
            "ticks": "",
            "zerolinecolor": "white"
           },
           "zaxis": {
            "backgroundcolor": "#E5ECF6",
            "gridcolor": "white",
            "gridwidth": 2,
            "linecolor": "white",
            "showbackground": true,
            "ticks": "",
            "zerolinecolor": "white"
           }
          },
          "shapedefaults": {
           "line": {
            "color": "#2a3f5f"
           }
          },
          "ternary": {
           "aaxis": {
            "gridcolor": "white",
            "linecolor": "white",
            "ticks": ""
           },
           "baxis": {
            "gridcolor": "white",
            "linecolor": "white",
            "ticks": ""
           },
           "bgcolor": "#E5ECF6",
           "caxis": {
            "gridcolor": "white",
            "linecolor": "white",
            "ticks": ""
           }
          },
          "title": {
           "x": 0.05
          },
          "xaxis": {
           "automargin": true,
           "gridcolor": "white",
           "linecolor": "white",
           "ticks": "",
           "title": {
            "standoff": 15
           },
           "zerolinecolor": "white",
           "zerolinewidth": 2
          },
          "yaxis": {
           "automargin": true,
           "gridcolor": "white",
           "linecolor": "white",
           "ticks": "",
           "title": {
            "standoff": 15
           },
           "zerolinecolor": "white",
           "zerolinewidth": 2
          }
         }
        },
        "title": {
         "text": "Average Weekly Sales by Week Number"
        },
        "xaxis": {
         "anchor": "y",
         "domain": [
          0,
          1
         ],
         "title": {
          "text": "Week Number"
         }
        },
        "yaxis": {
         "anchor": "x",
         "domain": [
          0,
          1
         ],
         "title": {
          "text": "Avg Weekly Sales"
         }
        }
       }
      }
     },
     "metadata": {},
     "output_type": "display_data"
    }
   ],
   "source": [
    "weekly_avg = df.groupby('week_number')['weekly_sales'].mean().reset_index()\n",
    "\n",
    "fig = px.line(\n",
    "    weekly_avg,\n",
    "    x='week_number',\n",
    "    y='weekly_sales',\n",
    "    title='Average Weekly Sales by Week Number',\n",
    "    labels={'week_number': 'Week Number', 'weekly_sales': 'Avg Weekly Sales'}\n",
    ")\n",
    "fig.show()"
   ]
  },
  {
   "cell_type": "markdown",
   "id": "4cdb72e3",
   "metadata": {},
   "source": [
    "“At Micro Center, peak sales periods consistently occur around late Q2 and early Q3, especially in June and September, likely driven by tech-seasonality like PC builds, back-to-school, or targeted promotions. Interestingly, Q4 does not exhibit the typical holiday surge seen in general retail, suggesting an opportunity to either ramp up campaigns during this time or focus budget earlier in the year.”"
   ]
  },
  {
   "cell_type": "markdown",
   "id": "6e6d2135",
   "metadata": {},
   "source": [
    "## Strategic Optimization Plan – Backed by Data"
   ]
  },
  {
   "cell_type": "markdown",
   "id": "3f2ae4b2",
   "metadata": {},
   "source": [
    "**💡Insight**: February is the weakest sales month (17k), followed by April and December.\n",
    "\n",
    "Recommendation:\n",
    "\n",
    "*   Use demand forecasting to reduce overstock risk during these periods. \n",
    "*   Focus on lean inventory strategies and use promo testing to   determine if these slumps can be lifted cost-effectively."
   ]
  },
  {
   "cell_type": "markdown",
   "id": "2906d0a7",
   "metadata": {},
   "source": [
    "**💡Insight**: June and September are the highest grossing months (43k each), with clear spikes in weekly sales during weeks 24–26 and 37–38.\n",
    "\n",
    "Recommendation:\n",
    "\n",
    "*   Focus marketing and inventory efforts around late Q2 and early Q3. Launch seasonal bundles or flash sales timed with these periods to maximize ROI on high-traffic windows.\n",
    "\n"
   ]
  },
  {
   "cell_type": "markdown",
   "id": "b51bbff9",
   "metadata": {},
   "source": [
    "**💡Insight**: Visuals show an inverse relationship between price and sales — lower prices frequently align with sales spikes.\n",
    "\n",
    "Recommendation:\n",
    "\n",
    "*   Implement price elasticity modeling per SKU and test strategic markdowns during shoulder seasons (e.g., February, April, November) to smooth out low-demand dips without cutting into high-margin periods."
   ]
  }
 ],
 "metadata": {
  "kernelspec": {
   "display_name": "Python 3",
   "language": "python",
   "name": "python3"
  },
  "language_info": {
   "codemirror_mode": {
    "name": "ipython",
    "version": 3
   },
   "file_extension": ".py",
   "mimetype": "text/x-python",
   "name": "python",
   "nbconvert_exporter": "python",
   "pygments_lexer": "ipython3",
   "version": "3.12.6"
  }
 },
 "nbformat": 4,
 "nbformat_minor": 5
}
